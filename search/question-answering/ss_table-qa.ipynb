{
  "cells": [
    {
      "attachments": {},
      "cell_type": "markdown",
      "metadata": {
        "id": "zcWElZZA7rzX"
      },
      "source": [
        "[![Open In Colab](https://colab.research.google.com/assets/colab-badge.svg)](https://colab.research.google.com/github/pinecone-io/examples/blob/master/search/question-answering/table-qa.ipynb) [![Open nbviewer](https://raw.githubusercontent.com/pinecone-io/examples/master/assets/nbviewer-shield.svg)](https://nbviewer.org/github/pinecone-io/examples/blob/master/search/question-answering/table-qa.ipynb)\n",
        "\n",
        "# Table Question Answering with Pinecone"
      ]
    },
    {
      "cell_type": "markdown",
      "metadata": {
        "id": "JZqviV15sO31"
      },
      "source": [
        "Table Question Answering (Table QA) refers to providing precise answers from tables to answer a user's question. With recent works on Table QA, is it now possible to answer natural language queries from tabular data. This notebook demonstrates how you can build a Table QA system that can answer your natural language queries using the Pinecone vector database. \n",
        "\n",
        "We need three main components to build the Table QA system:\n",
        "\n",
        "- A vector index to store table embeddings\n",
        "- A retriever model for embedding queries and tables\n",
        "- A reader model to read the tables and extract answers"
      ]
    },
    {
      "cell_type": "markdown",
      "metadata": {
        "id": "-h-MW6FJxTtT"
      },
      "source": [
        "# Install Dependencies"
      ]
    },
    {
      "cell_type": "code",
      "execution_count": null,
      "metadata": {
        "id": "OXXxZ_9q75RH"
      },
      "outputs": [],
      "source": [
        "# torch-scatter may take few minutes to install\n",
        "# !pip install datasets pinecone-client sentence_transformers torch-scatter"
      ]
    },
    {
      "cell_type": "markdown",
      "metadata": {
        "id": "fyqzTw5RBeEa"
      },
      "source": [
        "# Load the Dataset"
      ]
    },
    {
      "cell_type": "markdown",
      "metadata": {
        "id": "-ouitEo-0XQC"
      },
      "source": [
        "We will work with a subset of the Open Table-and-Text Question Answering ([OTT-QA](https://github.com/wenhuchen/OTT-QA)) dataset, consisting of texts and tables from Wikipedia. The subset contains 20,000 tables, and it can be loaded from the Huggigface Datasets hub as follows:"
      ]
    },
    {
      "cell_type": "code",
      "execution_count": 1,
      "metadata": {
        "colab": {
          "base_uri": "https://localhost:8080/"
        },
        "id": "kKf3UJJFlM2R",
        "outputId": "ea39017c-86ea-454d-b155-8c203acecf83"
      },
      "outputs": [
        {
          "name": "stderr",
          "output_type": "stream",
          "text": [
            "/Users/scottschmidt/.virtualenvs/pineconeExamples/lib/python3.10/site-packages/tqdm/auto.py:21: TqdmWarning: IProgress not found. Please update jupyter and ipywidgets. See https://ipywidgets.readthedocs.io/en/stable/user_install.html\n",
            "  from .autonotebook import tqdm as notebook_tqdm\n",
            "Downloading readme: 100%|██████████| 700/700 [00:00<00:00, 358kB/s]\n"
          ]
        },
        {
          "name": "stdout",
          "output_type": "stream",
          "text": [
            "Downloading and preparing dataset None/None to /Users/scottschmidt/.cache/huggingface/datasets/ashraq___parquet/ashraq--ott-qa-20k-620fcdaa9e1f1fd4/0.0.0/2a3b91fbd88a2c90d1dbbb32b460cf621d31bd5b05b934492fdef7d8d6f236ec...\n"
          ]
        },
        {
          "name": "stderr",
          "output_type": "stream",
          "text": [
            "Downloading data: 100%|██████████| 23.3M/23.3M [00:02<00:00, 9.34MB/s]\n",
            "Downloading data files: 100%|██████████| 1/1 [00:04<00:00,  4.63s/it]\n",
            "Extracting data files: 100%|██████████| 1/1 [00:00<00:00, 539.95it/s]\n",
            "                                                                        "
          ]
        },
        {
          "name": "stdout",
          "output_type": "stream",
          "text": [
            "Dataset parquet downloaded and prepared to /Users/scottschmidt/.cache/huggingface/datasets/ashraq___parquet/ashraq--ott-qa-20k-620fcdaa9e1f1fd4/0.0.0/2a3b91fbd88a2c90d1dbbb32b460cf621d31bd5b05b934492fdef7d8d6f236ec. Subsequent calls will reuse this data.\n"
          ]
        },
        {
          "name": "stderr",
          "output_type": "stream",
          "text": [
            "\r"
          ]
        },
        {
          "data": {
            "text/plain": [
              "Dataset({\n",
              "    features: ['url', 'title', 'header', 'data', 'section_title', 'section_text', 'uid', 'intro'],\n",
              "    num_rows: 20000\n",
              "})"
            ]
          },
          "execution_count": 1,
          "metadata": {},
          "output_type": "execute_result"
        }
      ],
      "source": [
        "from datasets import load_dataset\n",
        "\n",
        "# load the dataset from huggingface datasets hub\n",
        "data = load_dataset(\"ashraq/ott-qa-20k\", split=\"train\")\n",
        "data"
      ]
    },
    {
      "cell_type": "code",
      "execution_count": 2,
      "metadata": {
        "colab": {
          "base_uri": "https://localhost:8080/"
        },
        "id": "Dv_CU6hs1Yd6",
        "outputId": "5b0d52a3-f138-4328-dafc-a54d186e4ef7"
      },
      "outputs": [
        {
          "data": {
            "text/plain": [
              "{'url': 'https://en.wikipedia.org/wiki/1976_New_York_Mets_season',\n",
              " 'title': '1976 New York Mets season',\n",
              " 'header': ['Level', 'Team', 'League', 'Manager'],\n",
              " 'data': [['AAA', 'Tidewater Tides', 'International League', 'Tom Burgess'],\n",
              "  ['AA', 'Jackson Mets', 'Texas League', 'John Antonelli'],\n",
              "  ['A', 'Lynchburg Mets', 'Carolina League', 'Jack Aker'],\n",
              "  ['A', 'Wausau Mets', 'Midwest League', 'Bill Monbouquette'],\n",
              "  ['Rookie', 'Marion Mets', 'Appalachian League', 'Al Jackson']],\n",
              " 'section_title': 'Farm system',\n",
              " 'section_text': 'See also : Minor League Baseball',\n",
              " 'uid': '1976_New_York_Mets_season_7',\n",
              " 'intro': 'The New York Mets season was the 15th regular season for the Mets, who played home games at Shea Stadium. Led by manager Joe Frazier, the team had an 86-76 record and finished in third place in the National League East.'}"
            ]
          },
          "execution_count": 2,
          "metadata": {},
          "output_type": "execute_result"
        }
      ],
      "source": [
        "data[2]"
      ]
    },
    {
      "cell_type": "markdown",
      "metadata": {
        "id": "Wz0Z6qF_EUzM"
      },
      "source": [
        "As we can see, the dataset includes both textual and tabular data that are related to one another. Let's extract and transform the dataset's tables into pandas dataframes as we will only be using the tables in this example."
      ]
    },
    {
      "cell_type": "code",
      "execution_count": 3,
      "metadata": {
        "id": "BmoFdpptEXHO"
      },
      "outputs": [],
      "source": [
        "import pandas as pd\n",
        "\n",
        "# store all tables in the tables list\n",
        "tables = []\n",
        "# loop through the dataset and convert tabular data to pandas dataframes\n",
        "for doc in data:\n",
        "    table = pd.DataFrame(doc[\"data\"], columns=doc[\"header\"])\n",
        "    tables.append(table)"
      ]
    },
    {
      "cell_type": "code",
      "execution_count": 4,
      "metadata": {
        "colab": {
          "base_uri": "https://localhost:8080/",
          "height": 206
        },
        "id": "c56PfwR4F1cZ",
        "outputId": "5cebb3d9-754d-4dc2-b1b5-3536552b3907"
      },
      "outputs": [
        {
          "data": {
            "text/html": [
              "<div>\n",
              "<style scoped>\n",
              "    .dataframe tbody tr th:only-of-type {\n",
              "        vertical-align: middle;\n",
              "    }\n",
              "\n",
              "    .dataframe tbody tr th {\n",
              "        vertical-align: top;\n",
              "    }\n",
              "\n",
              "    .dataframe thead th {\n",
              "        text-align: right;\n",
              "    }\n",
              "</style>\n",
              "<table border=\"1\" class=\"dataframe\">\n",
              "  <thead>\n",
              "    <tr style=\"text-align: right;\">\n",
              "      <th></th>\n",
              "      <th>Level</th>\n",
              "      <th>Team</th>\n",
              "      <th>League</th>\n",
              "      <th>Manager</th>\n",
              "    </tr>\n",
              "  </thead>\n",
              "  <tbody>\n",
              "    <tr>\n",
              "      <th>0</th>\n",
              "      <td>AAA</td>\n",
              "      <td>Tidewater Tides</td>\n",
              "      <td>International League</td>\n",
              "      <td>Tom Burgess</td>\n",
              "    </tr>\n",
              "    <tr>\n",
              "      <th>1</th>\n",
              "      <td>AA</td>\n",
              "      <td>Jackson Mets</td>\n",
              "      <td>Texas League</td>\n",
              "      <td>John Antonelli</td>\n",
              "    </tr>\n",
              "    <tr>\n",
              "      <th>2</th>\n",
              "      <td>A</td>\n",
              "      <td>Lynchburg Mets</td>\n",
              "      <td>Carolina League</td>\n",
              "      <td>Jack Aker</td>\n",
              "    </tr>\n",
              "    <tr>\n",
              "      <th>3</th>\n",
              "      <td>A</td>\n",
              "      <td>Wausau Mets</td>\n",
              "      <td>Midwest League</td>\n",
              "      <td>Bill Monbouquette</td>\n",
              "    </tr>\n",
              "    <tr>\n",
              "      <th>4</th>\n",
              "      <td>Rookie</td>\n",
              "      <td>Marion Mets</td>\n",
              "      <td>Appalachian League</td>\n",
              "      <td>Al Jackson</td>\n",
              "    </tr>\n",
              "  </tbody>\n",
              "</table>\n",
              "</div>"
            ],
            "text/plain": [
              "    Level             Team                League            Manager\n",
              "0     AAA  Tidewater Tides  International League        Tom Burgess\n",
              "1      AA     Jackson Mets          Texas League     John Antonelli\n",
              "2       A   Lynchburg Mets       Carolina League          Jack Aker\n",
              "3       A      Wausau Mets        Midwest League  Bill Monbouquette\n",
              "4  Rookie      Marion Mets    Appalachian League         Al Jackson"
            ]
          },
          "execution_count": 4,
          "metadata": {},
          "output_type": "execute_result"
        }
      ],
      "source": [
        "tables[2]"
      ]
    },
    {
      "cell_type": "code",
      "execution_count": 6,
      "metadata": {},
      "outputs": [
        {
          "data": {
            "text/html": [
              "<div>\n",
              "<style scoped>\n",
              "    .dataframe tbody tr th:only-of-type {\n",
              "        vertical-align: middle;\n",
              "    }\n",
              "\n",
              "    .dataframe tbody tr th {\n",
              "        vertical-align: top;\n",
              "    }\n",
              "\n",
              "    .dataframe thead th {\n",
              "        text-align: right;\n",
              "    }\n",
              "</style>\n",
              "<table border=\"1\" class=\"dataframe\">\n",
              "  <thead>\n",
              "    <tr style=\"text-align: right;\">\n",
              "      <th></th>\n",
              "      <th></th>\n",
              "      <th>Rider</th>\n",
              "      <th>Team</th>\n",
              "      <th>Time</th>\n",
              "    </tr>\n",
              "  </thead>\n",
              "  <tbody>\n",
              "    <tr>\n",
              "      <th>0</th>\n",
              "      <td>1</td>\n",
              "      <td>Eros Capecchi ( ITA )</td>\n",
              "      <td>Liquigas-Cannondale</td>\n",
              "      <td>3h 20 ' 38</td>\n",
              "    </tr>\n",
              "    <tr>\n",
              "      <th>1</th>\n",
              "      <td>2</td>\n",
              "      <td>Marco Pinotti ( ITA )</td>\n",
              "      <td>HTC-Highroad</td>\n",
              "      <td>s.t</td>\n",
              "    </tr>\n",
              "    <tr>\n",
              "      <th>2</th>\n",
              "      <td>3</td>\n",
              "      <td>Kevin Seeldraeyers ( BEL )</td>\n",
              "      <td>Quick-Step</td>\n",
              "      <td>s.t</td>\n",
              "    </tr>\n",
              "    <tr>\n",
              "      <th>3</th>\n",
              "      <td>4</td>\n",
              "      <td>Gianluca Brambilla ( ITA )</td>\n",
              "      <td>Colnago-CSF Inox</td>\n",
              "      <td>+ 1 ' 20</td>\n",
              "    </tr>\n",
              "    <tr>\n",
              "      <th>4</th>\n",
              "      <td>5</td>\n",
              "      <td>Paolo Tiralongo ( ITA )</td>\n",
              "      <td>Astana</td>\n",
              "      <td>+ 1 ' 20</td>\n",
              "    </tr>\n",
              "    <tr>\n",
              "      <th>5</th>\n",
              "      <td>6</td>\n",
              "      <td>Dario Cataldo ( ITA )</td>\n",
              "      <td>Quick-Step</td>\n",
              "      <td>+ 2 ' 49</td>\n",
              "    </tr>\n",
              "    <tr>\n",
              "      <th>6</th>\n",
              "      <td>7</td>\n",
              "      <td>Alberto Losada ( ESP )</td>\n",
              "      <td>Team Katusha</td>\n",
              "      <td>+ 3 ' 46</td>\n",
              "    </tr>\n",
              "    <tr>\n",
              "      <th>7</th>\n",
              "      <td>8</td>\n",
              "      <td>Russell Downing ( GBR )</td>\n",
              "      <td>Team Sky</td>\n",
              "      <td>+ 4 ' 34</td>\n",
              "    </tr>\n",
              "    <tr>\n",
              "      <th>8</th>\n",
              "      <td>9</td>\n",
              "      <td>Oscar Gatto ( ITA )</td>\n",
              "      <td>Farnese Vini-Neri Sottoli</td>\n",
              "      <td>+ 4 ' 34</td>\n",
              "    </tr>\n",
              "    <tr>\n",
              "      <th>9</th>\n",
              "      <td>10</td>\n",
              "      <td>Jan Bakelants ( BEL )</td>\n",
              "      <td>Omega Pharma-Lotto</td>\n",
              "      <td>+ 4 ' 34</td>\n",
              "    </tr>\n",
              "  </tbody>\n",
              "</table>\n",
              "</div>"
            ],
            "text/plain": [
              "                            Rider                       Team        Time\n",
              "0   1       Eros Capecchi ( ITA )        Liquigas-Cannondale  3h 20 ' 38\n",
              "1   2       Marco Pinotti ( ITA )               HTC-Highroad         s.t\n",
              "2   3  Kevin Seeldraeyers ( BEL )                 Quick-Step         s.t\n",
              "3   4  Gianluca Brambilla ( ITA )           Colnago-CSF Inox    + 1 ' 20\n",
              "4   5     Paolo Tiralongo ( ITA )                     Astana    + 1 ' 20\n",
              "5   6       Dario Cataldo ( ITA )                 Quick-Step    + 2 ' 49\n",
              "6   7      Alberto Losada ( ESP )               Team Katusha    + 3 ' 46\n",
              "7   8     Russell Downing ( GBR )                   Team Sky    + 4 ' 34\n",
              "8   9         Oscar Gatto ( ITA )  Farnese Vini-Neri Sottoli    + 4 ' 34\n",
              "9  10       Jan Bakelants ( BEL )         Omega Pharma-Lotto    + 4 ' 34"
            ]
          },
          "execution_count": 6,
          "metadata": {},
          "output_type": "execute_result"
        }
      ],
      "source": [
        "# ss\n",
        "len(tables)\n",
        "tables[0]"
      ]
    },
    {
      "cell_type": "markdown",
      "metadata": {
        "id": "0n61NMn9-HZv"
      },
      "source": [
        "# Initialize Retriever"
      ]
    },
    {
      "cell_type": "markdown",
      "metadata": {
        "id": "DNfBXFk4Arh4"
      },
      "source": [
        "The retriever transforms natural language queries and tabular data into embeddings/vectors. It will generate embeddings in a way that the natural language questions and tables containing answers to our questions are nearby in the vector space.\n",
        "\n",
        "We will use a SentenceTransformer model trained specifically for embedding tabular data for retrieval tasks. The model can be loaded from the Huggingface Models hub as follows:"
      ]
    },
    {
      "cell_type": "code",
      "execution_count": null,
      "metadata": {},
      "outputs": [],
      "source": [
        "#sss\n",
        "# all-mpnet https://huggingface.co/deepset/all-mpnet-base-v2-table\n"
      ]
    },
    {
      "cell_type": "code",
      "execution_count": 7,
      "metadata": {
        "colab": {
          "base_uri": "https://localhost:8080/",
          "height": 208,
          "referenced_widgets": [
            "872351e5e09f4a2b9f1c23b1316b6a36",
            "f9194e661d484dc6ba249100ad7792da",
            "b25799ff3cb94fada82e7a64b708a377",
            "409092d8468c4f82bc2b6cf2f0b48dd9",
            "0398823b05ac46b3bb0d5918698e92aa",
            "a36059ff9de34279b633d26231da05de",
            "a186c7e967744c4d8d48778c36cdc08d",
            "0806e30586ef45e1b5c6de273d4b820e",
            "972f7c08489b46b6bf74bd4bcf0ecaa9",
            "a07f6ff6e9464b54aeda12df8232f6ac",
            "e8f14835a2324e56bb5d4c862767c602"
          ]
        },
        "id": "cfonlEiX-KQA",
        "outputId": "ffa1c02b-79d7-4360-938c-a58955384d29"
      },
      "outputs": [
        {
          "name": "stderr",
          "output_type": "stream",
          "text": [
            "Downloading (…)9b424/.gitattributes: 100%|██████████| 1.23k/1.23k [00:00<00:00, 293kB/s]\n",
            "Downloading (…)_Pooling/config.json: 100%|██████████| 190/190 [00:00<00:00, 36.5kB/s]\n",
            "Downloading (…)5a16e9b424/README.md: 100%|██████████| 2.42k/2.42k [00:00<00:00, 849kB/s]\n",
            "Downloading (…)16e9b424/config.json: 100%|██████████| 576/576 [00:00<00:00, 169kB/s]\n",
            "Downloading (…)ce_transformers.json: 100%|██████████| 116/116 [00:00<00:00, 17.8kB/s]\n",
            "Downloading (…)\"pytorch_model.bin\";: 100%|██████████| 438M/438M [00:05<00:00, 76.9MB/s] \n",
            "Downloading (…)nce_bert_config.json: 100%|██████████| 53.0/53.0 [00:00<00:00, 11.8kB/s]\n",
            "Downloading (…)cial_tokens_map.json: 100%|██████████| 239/239 [00:00<00:00, 127kB/s]\n",
            "Downloading (…)9b424/tokenizer.json: 100%|██████████| 711k/711k [00:00<00:00, 1.88MB/s]\n",
            "Downloading (…)okenizer_config.json: 100%|██████████| 345/345 [00:00<00:00, 43.3kB/s]\n",
            "Downloading (…)5a16e9b424/vocab.txt: 100%|██████████| 232k/232k [00:00<00:00, 901kB/s]\n",
            "Downloading (…)6e9b424/modules.json: 100%|██████████| 349/349 [00:00<00:00, 74.0kB/s]\n"
          ]
        },
        {
          "data": {
            "text/plain": [
              "SentenceTransformer(\n",
              "  (0): Transformer({'max_seq_length': 384, 'do_lower_case': False}) with Transformer model: MPNetModel \n",
              "  (1): Pooling({'word_embedding_dimension': 768, 'pooling_mode_cls_token': False, 'pooling_mode_mean_tokens': True, 'pooling_mode_max_tokens': False, 'pooling_mode_mean_sqrt_len_tokens': False})\n",
              "  (2): Normalize()\n",
              ")"
            ]
          },
          "execution_count": 7,
          "metadata": {},
          "output_type": "execute_result"
        }
      ],
      "source": [
        "import torch\n",
        "from sentence_transformers import SentenceTransformer\n",
        "\n",
        "# set device to GPU if available\n",
        "device = 'cuda' if torch.cuda.is_available() else 'cpu'\n",
        "# load the table embedding model from huggingface models hub\n",
        "retriever = SentenceTransformer(\"deepset/all-mpnet-base-v2-table\", device=device)\n",
        "retriever"
      ]
    },
    {
      "cell_type": "markdown",
      "metadata": {
        "id": "gypflS135_Y4"
      },
      "source": [
        "The retriever expects tables to be in a particular format. Let's write a function to convert the tables to this format."
      ]
    },
    {
      "cell_type": "code",
      "execution_count": 8,
      "metadata": {
        "id": "9-MqljKaAarE"
      },
      "outputs": [],
      "source": [
        "def _preprocess_tables(tables: list):\n",
        "    processed = []\n",
        "    # loop through all tables\n",
        "    for table in tables:\n",
        "        # convert the table to csv and \n",
        "        processed_table = \"\\n\".join([table.to_csv(index=False)])\n",
        "        # add the processed table to processed list\n",
        "        processed.append(processed_table)\n",
        "    return processed\n"
      ]
    },
    {
      "cell_type": "markdown",
      "metadata": {
        "id": "t4T_eMtEHlw9"
      },
      "source": [
        "Notice that we are only using tables here. However, if you want the retriever to take the metadata into account while retrieving the tables, you can join any metadata strings, such as title, section_title, etc., separated by new line characters at the beginning of the processed table."
      ]
    },
    {
      "cell_type": "markdown",
      "metadata": {
        "id": "KIdluqrZIH0X"
      },
      "source": [
        "Let's take a look at the formatted tables."
      ]
    },
    {
      "cell_type": "code",
      "execution_count": 9,
      "metadata": {
        "colab": {
          "base_uri": "https://localhost:8080/",
          "height": 53
        },
        "id": "4NTu2-qqAbk2",
        "outputId": "e4bee59c-f90c-4e38-ce24-06a769f8b402"
      },
      "outputs": [
        {
          "data": {
            "text/plain": [
              "'Level,Team,League,Manager\\nAAA,Tidewater Tides,International League,Tom Burgess\\nAA,Jackson Mets,Texas League,John Antonelli\\nA,Lynchburg Mets,Carolina League,Jack Aker\\nA,Wausau Mets,Midwest League,Bill Monbouquette\\nRookie,Marion Mets,Appalachian League,Al Jackson\\n'"
            ]
          },
          "execution_count": 9,
          "metadata": {},
          "output_type": "execute_result"
        }
      ],
      "source": [
        "# format all the dataframes in the tables list\n",
        "processed_tables = _preprocess_tables(tables)\n",
        "# display the formatted table\n",
        "processed_tables[2]"
      ]
    },
    {
      "cell_type": "code",
      "execution_count": 38,
      "metadata": {},
      "outputs": [
        {
          "data": {
            "text/plain": [
              "['Position,Player,Club\\nGK,Vincent Demarconnay,Paris FC\\nRB,Fabien Centonze,Lens\\nCB,Stoppila Sunzu,Metz\\nCB,John Boye,Metz\\nLB,Thomas Delaine,Metz\\nCM,Farid Boulaya,Metz\\nCM,Renaud Cohade,Metz\\nCM,Alexis Claude-Maurice,Lorient\\nFW,Opa Nguette,Metz\\nFW,Gaëtan Charbonnier,Brest\\nFW,Habib Diallo,Metz\\n',\n",
              " 'Level,Team,League,Manager\\nAAA,Tidewater Tides,International League,Tom Burgess\\nAA,Jackson Mets,Texas League,John Antonelli\\nA,Lynchburg Mets,Carolina League,Jack Aker\\nA,Wausau Mets,Midwest League,Bill Monbouquette\\nRookie,Marion Mets,Appalachian League,Al Jackson\\n',\n",
              " 'Team,Head coach,Previous job,Years at school,Record at school,ACC record,ACC titles,NCAA Tournaments,NCAA Final Fours,NCAA Championships\\nBoston College,Erik Johnson,Denver,6,61-92,17-63,0,0,0,0\\nClemson,Audra Smith,UAB,5,41-80,8-55,0,0,0,0\\nDuke,Joanne P. McCallie,Michigan State,11,273-71,121-33,4,9,0,0\\nFlorida State,Sue Semrau,Wisconsin ( Assistant ),21,401-233,174-134,2,13,0,0\\nGeorgia Tech,MaChelle Joseph,Georgia Tech ( Assistant ),15,274-177,100-112,0,7,0,0\\nLouisville,Jeff Walz,Maryland ( Assistant ),11,263-93,113-47,0,3,2,0\\nMiami,Katie Meier,Charlotte,13,231-152,89-93,1,6,0,0\\nNC State,Wes Moore,Chattanooga,5,86-43,40-24,0,2,0,0\\nNorth Carolina,Sylvia Hatchell,Francis Marion,32,718-296,285-187,7,22,3,1\\nNotre Dame,Muffet McGraw,Lehigh,31,763-226,389-84,4,4,7,1\\nPittsburgh,Suzie McConnell-Serio,Duquesne,5,57-57,20-44,0,1,0,0\\nSyracuse,Quentin Hillsman,Syracuse ( Assistant ),11,95-39,45-29,0,4,1,0\\nVirginia,Joanne Boyle,California,7,110-85,43-55,0,5,0,0\\nVirginia Tech,Kenny Brooks,James Madison,2,20-14,4-12,0,0,0,0\\nWake Forest,Jennifer Hoover,High Point,6,74-87,24-58,0,0,0,0\\n',\n",
              " 'Rank,Name,Nation,TFP,SP,FS\\n1,Alexei Yagudin,Russia,1.5,1,1\\n2,Evgeni Plushenko,Russia,3.5,3,2\\n3,Alexander Abt,Russia,5.0,2,4\\n4,Andrejs Vlascenko,Germany,7.0,4,5\\n5,Philippe Candeloro,France,7.5,9,3\\n6,Steven Cousins,United Kingdom,9.5,7,6\\n7,Viacheslav Zagorodniuk,Ukraine,10.0,6,7\\n8,Dmitri Dmitrenko,Ukraine,10.5,5,8\\n9,Michael Tyllesen,Denmark,13.0,8,9\\n10,Ivan Dinev,Bulgaria,16.0,12,10\\n11,Gilberto Viadana,Italy,17.5,11,12\\n12,Patrick Meier,Switzerland,18.0,14,11\\n13,Michael Shmerkin,Israel,19.0,10,14\\n14,Thierry Cerez,France,21.0,16,13\\n15,Robert Grzegorczyk,Poland,22.5,15,15\\n16,Margus Hernits,Estonia,26.5,21,16\\n17,Szabolcs Vidrai,Hungary,26.5,19,17\\n18,Cornel Gheorghe,Romania,26.5,13,20\\n19,Sven Meyer,Germany,27.0,18,18\\n20,Patrick Schmit,Luxembourg,30.5,23,19\\n',\n",
              " 'Year,Country,Main title ( Alternative titles ),Original title ( Original script ),Director,\"Battles , campaigns , events depicted\"\\n1985,United Kingdom,Arch of Triumph ( TV ),,Waris Hussein,Romance based on Erich Maria Remarque novel . Austrian anti-Nazi in Paris\\n1985,United States Italy,The Assisi Underground,,Alexander Ramati,German occupation of Assisi\\n1985,Soviet Union,Battalions Ask for Fire ( TV miniseries ),Batalyony prosyat ognya ( Батальоны просят огня ),\"Aleksandr Bogolyubov , Vladimir Chebotaryov\",\"Soviet battalion crossing Dnieper River to liberate Kiev from Germans , 1943\"\\n1985,Soviet Union East Germany Czechoslovakia Vietnam,The Battle for Moscow,Bitva za Moskvu ( Битва за Москву ) ( in Russian ),Yuri Ozerov,Operation Barbarossa to Battle of Moscow\\n1985,Netherlands,Bitter Sweet,Het bittere kruid,Kees van Oostrum,Jewish family hiding in wartime Amsterdam\\n1985,Japan,The Burmese Harp,Biruma no tategoto ( ビルマの竪琴 ),Kon Ichikawa,Burma Campaign ; remake version\\n1985,United States,Code Name : Emerald,,Jonathan Sanger,Battle of Normandy\\n1985,Soviet Union,Come and See,Idi i smotri ( Иди и смотри ),Elem Klimov,\"In early 1943 , a teenage boy joins the partisans in the German-occupied Byelorussian SSR . He discovers the reality of war and the barbarity of the SS and collaborating auxiliary police on the civilian population\"\\n1985,Poland Czechoslovakia,Cuckoo In a Dark Forest,Kukačka v temném lese ( in Czech ) Kukułka w ciemnym lesie ( in Polish ),Antonín Moskalyk,\"German occupation of Czechoslovakia , concentration camp kommandant and child\"\\n1985,Poland,Dad,Tate,Jan Rutkiewicz,Holocaust in Poland\\n1985,United States,The Dirty Dozen : Next Mission ( Dirty Dozen 2 ) ( TV ),,Andrew V. McLaglen,Allied convicts in elite unit on mission to prevent assassination of Hitler\\n1985,United States,Hitler \\'s SS : Portrait in Evil ( TV ),,Jim Goddard,\"Brothers cope with life in Nazi Germany , 1932-45\"\\n1985,United Kingdom,The Holcroft Covenant,,John Frankenheimer,Based on Robert Ludlum novel . German General \\'s son conspires to control hidden Nazi funds\\n1985,Netherlands,The Ice-cream Parlour,De IJssalon,Dimitri Frenkel Frank,Romance between Dutch woman and Wehrmacht officer\\n1985,Poland,In the Shadow of Hatred,W cieniu nienawiści,Wojciech Żółtowski,\"Holocaust in Poland , 1943\"\\n1985,Italy France,Madman at War,Scemo di guerra ( in Italian ) Le fou de guerre ( in French ),Dino Risi,A young Italian psychiatrist is sent to troops in Libya\\n1985,United States,Mussolini and I ( TV ),,Alberto Negrin,Docudrama . Mussolini \\'s son in-law Galeazzo Ciano\\n1985,Japan,The Seburi Story,Seburi monogatari ( 瀬降り物語 ),Sadao Nakajima,Hardships of nomadic Seburi of western Japan during war\\n1985,Finland,The Unknown Soldier,Tuntematon sotilas,Rauni Mollberg,Finno-Soviet Continuation War ; remake of 1955 film The Unknown Soldier\\n1985,Romania,\"Us , The Frontline ( The Last Assault )\",\"Noi , cei din linia întâi\",Sergiu Nicolaescu,Romanians fighting on the Western Front and in Hungary\\n',\n",
              " 'Pool B,W,L\\nMirjam Ott,5,0\\nJonna McManus,3,2\\nDaniela Driendl,3,2\\nSarah Reid,3,2\\nZuzana Hájková,1,4\\nJennifer Martin,0,5\\n',\n",
              " 'Name of Commune,French original blazon,English blazon\\nGaillon,de gueules à la tour d\\'or ouverte et maçonnée de sable,\"Gules , a tower Or , open and masoned sable\"\\nGasny,\"tranché d\\'azur et de gueules au bâton en bande déjoint d\\'argent , à la crosse d\\'or brochant en barre sur le tout , accompagnée au flanc dextre d\\'une palme contournée , au flanc senestre d\\'une fleur de lis et en pointe d\\'un léopard , le tout d\\'or\",\"Per bend azure and gules , a bendlet rompu argent and a crozier Or in saltire , in dexter a palm branch contourny , in sinister a fleur de lys , and in base a leopard , Or\"\\nGauciel,\"d\\'azur à la croix estrée d\\'or , la traverse chargée du nom Gauciel en lettres gothiques de sable , cantonnée de quatre clefs aussi d\\'or ( création : Jack Lefebvre , adoptée par délibération du conseil municipal du 22 janvier 1999 )\",\"Azure , a cross Or charged with the name Gauciel in gothic letters sable , between 4 keys Or\"\\nGauville-la-Campagne,d\\'or au sautoir d\\'azur chargé d\\'une tour d\\'argent et cantonné de quatre roses de gueules,\"Or , on a saltire azure between 4 roses gules , a tower argent\"\\nGisors,\"De gueules , à la croix engrêlée d\\'or , au chef d\\'azur , chargé de trois fleurs de lis d\\'or\",\"Gules , a cross engrailed Or , on a chief azure , 3 fleurs de lys Or . ( Chief of France )\"\\nGlisolles,\"taillé , au premier de gueules au léopard d\\'or , au second de sinople aux tiges passées en sautoir , à la barre d\\'or chargée de trois sapins arrachés de sinople brochant sur la partition\",\"Per bend sinister gules and vert , on a bend sinister between a leopard and 2 stalks of wheat in saltire Or , 3 fir trees eradicated vert\"\\nGrossœuvre,\"de gueules à la croix échiquetée d\\'argent et de sable , cantonnée au premier et au quatrième d\\'une roue dentée de huit pièces d\\'or , au deuxième et au troisième d\\'une charrue à roues du même\",\"Gules , a cross chequy argent and sable , between in 1 & 4 a toothed wheel and in 2 & 3 a wheeled plough Or\"\\nLa Guéroulde,\"de gueules au chevron d\\'or , chargé d\\'une croisette latine de sable , accompagné en chef de deux anilles aussi d\\'or et en pointe d\\'une gerbe de blé du même liée de sable\",\"Gules , on a chevron between 2 millrinds and a garb Or bound sable , a Latin crosslet sable\"\\nGuichainville,\"de sinople à la fasce d\\'argent chargée de trois fleurs de lys de gueules , accompagnée de trois molettes d\\'or\",\"Vert , on a fess argent between 3 mullets pierced Or , 3 fleurs de lys gules\"\\n',\n",
              " 'Date,Country,Channel,Time\\n\"September 30 , 2007\",USA,ABC,9:00 pm/8.00pmc\\n\"September 30 , 2007\",Canada,CTV,9:00 pm/8:00pmc\\n\"October 15 , 2007\",Poland,n ( Poland ),Video on Demand\\n\"December 4 , 2007\",Turkey,CNBC-e ( cable TV ),Tuesdays 9:00 pm\\n\"December 5 , 2007\",Italy,FOXlife ( Sky Italia - SAT TV ),9:00 pm\\n\"January 7 , 2008\",Arab World,Showtime Arabia,9:00 pm\\n\"January 8 , 2008\",Ireland,RTÉ Two,9:50 pm\\n\"January 8 , 2008\",Portugal,Fox Life,9:00 pm\\n\"January 31 , 2008\",South Africa,M-Net,8:30 pm\\n\"February 4 , 2008\",New Zealand,TV 2,8:30 pm\\n\"February 11 , 2008\",Switzerland,SF2,8:00 pm\\n\"February 11 , 2008\",Austria,ORF1,9:00 pm\\n\"February 11 , 2008\",Australia,Seven,8:30 pm\\n\"February 13 , 2008\",Germany,Pro7,Wednesdays 8:15 pm\\n\"February 13 , 2008\",Latin America,Sony Entertainment Television,10:00 pm\\n\"February 14 , 2008\",Poland,FOXlife,9:00 pm\\n\"February 19 , 2008\",Norway,TV 2,9:45 pm\\n\"March 10 , 2008\",Finland,Nelonen,9:00 pm\\n\"March 25 , 2008\",Malaysia,8TV,10:30 pm\\n\"March 26 , 2008 August 27 , 2008\",United Kingdom ( excluding Wales ),Channel 4,10.00 pm - main UK showing See notes below\\n',\n",
              " 'Rank,Athlete,Country,Time\\n1,Gail Amundrud,Canada,2:03.85\\n2,Debbie Clarke,Canada,2:05.10\\n3,Lyubov Kobzova,Soviet Union,2:05.55\\n4,Gunilla Lundberg,Sweden,2:09.51\\n5,Jane Fayer,Puerto Rico,2:19.93\\n6,Raphaelynne Lee,Hong Kong,2:20.76\\n']"
            ]
          },
          "execution_count": 38,
          "metadata": {},
          "output_type": "execute_result"
        }
      ],
      "source": [
        "#ss\n",
        "len(processed_tables)\n",
        "processed_tables[1:10]"
      ]
    },
    {
      "cell_type": "markdown",
      "metadata": {
        "id": "FI8TLf5CJFeq"
      },
      "source": [
        "The formatted table may not make sense to us, but the embedding model is trained to understand it and generate accurate embeddings."
      ]
    },
    {
      "cell_type": "markdown",
      "metadata": {
        "id": "FpUcVljhCIaO"
      },
      "source": [
        "# Initialize Pinecone Index"
      ]
    },
    {
      "cell_type": "markdown",
      "metadata": {
        "id": "B8RzP4snKuCW"
      },
      "source": [
        "We will use the Pinecone vector database as our vector index. The Pinecone index stores vector representations of our tables which we can retrieve using a natural language query (query vector). Pinecone does this by computing the similarity between the query vector and the embedded tables stored in the vector index. \n",
        "\n",
        "To use Pinecone, we first need to initialize a connection to Pinecone. For this, we need a [free API key](https://app.pinecone.io/), and then we initialize the connection like so:"
      ]
    },
    {
      "cell_type": "code",
      "execution_count": 12,
      "metadata": {},
      "outputs": [
        {
          "data": {
            "text/plain": [
              "['us-west1-gcp', '418ca099-c93e-44c4-b3f2-bf40adf7b541']"
            ]
          },
          "execution_count": 12,
          "metadata": {},
          "output_type": "execute_result"
        }
      ],
      "source": [
        "import os\n",
        "pineconekey= os.getenv(\"PINECONE_API_KEY\")\n",
        "pineconeEnv = 'us-west1-gcp'\n",
        "[pineconeEnv, pineconekey]"
      ]
    },
    {
      "cell_type": "code",
      "execution_count": 13,
      "metadata": {
        "id": "_huF14A0ASsL"
      },
      "outputs": [],
      "source": [
        "import pinecone\n",
        "\n",
        "# connect to pinecone environment\n",
        "pinecone.init(\n",
        "    api_key=pineconekey,\n",
        "    environment=pineconeEnv  # find next to API key in console\n",
        ")"
      ]
    },
    {
      "cell_type": "markdown",
      "metadata": {
        "id": "TWqgjlaROvHX"
      },
      "source": [
        "Now we create a new index. We specify the metric type as \"cosine\" and dimension as 768 because the retriever we use to generate context embeddings outputs 768-dimension vectors. Pinecone will use cosine similarity to compute the similarity between the query and table embeddings."
      ]
    },
    {
      "cell_type": "code",
      "execution_count": 14,
      "metadata": {
        "id": "NBOKt54UCbJC"
      },
      "outputs": [],
      "source": [
        "# you can choose any name for the index\n",
        "index_name = \"table-qa\"\n",
        "\n",
        "# check if the table-qa index exists\n",
        "if index_name not in pinecone.list_indexes():\n",
        "    # create the index if it does not exist\n",
        "    pinecone.create_index(\n",
        "        index_name,\n",
        "        dimension=768,\n",
        "        metric=\"cosine\"\n",
        "    )\n",
        "\n",
        "# connect to table-qa index we created\n",
        "index = pinecone.Index(index_name)"
      ]
    },
    {
      "cell_type": "markdown",
      "metadata": {
        "id": "RnIu8g2rBlWB"
      },
      "source": [
        "# Generate Embeddings and Upsert"
      ]
    },
    {
      "cell_type": "markdown",
      "metadata": {
        "id": "Ofe-rqwBQIii"
      },
      "source": [
        "\n",
        "Next we need to generate the table embeddings and upload it to the Pinecone index. We can easily do that as follows:"
      ]
    },
    {
      "cell_type": "code",
      "execution_count": 15,
      "metadata": {
        "colab": {
          "base_uri": "https://localhost:8080/",
          "height": 118,
          "referenced_widgets": [
            "9283fd1259da4411b22315e66f0fde4b",
            "82419e00d85542d4a40ba725ac938820",
            "e141a30db58d4fedb680cfdbb6156fe9",
            "527d87292efc4589b652841afbd4845c",
            "8e6f046688664ea2a8b4ad91067cb0a4",
            "4556db45bd464c189e5b771cb0773480",
            "f91627aef80646c38455fe7b31ed9d40",
            "56dafa49175849e29a68782c43735b9e",
            "571b97905d8c49498a4f5bc6bcfcf573",
            "0dcc27dac0a34f0597bee867b7a0c1f7",
            "2f88a69a0e1443ff9f91a4054d8e751b"
          ]
        },
        "id": "e-eGf669BxIa",
        "outputId": "3b4da09e-c38d-4a62-f2ef-6dbfc9d15f2f"
      },
      "outputs": [
        {
          "name": "stderr",
          "output_type": "stream",
          "text": [
            "100%|██████████| 313/313 [37:13<00:00,  7.14s/it]\n"
          ]
        },
        {
          "data": {
            "text/plain": [
              "{'dimension': 768,\n",
              " 'index_fullness': 0.0,\n",
              " 'namespaces': {'': {'vector_count': 20000}},\n",
              " 'total_vector_count': 20000}"
            ]
          },
          "execution_count": 15,
          "metadata": {},
          "output_type": "execute_result"
        }
      ],
      "source": [
        "from tqdm.auto import tqdm\n",
        "\n",
        "# we will use batches of 64\n",
        "batch_size = 64\n",
        "\n",
        "for i in tqdm(range(0, len(processed_tables), batch_size)):\n",
        "    # find end of batch\n",
        "    i_end = min(i+batch_size, len(processed_tables))\n",
        "    # extract batch\n",
        "    batch = processed_tables[i:i_end]\n",
        "    # generate embeddings for batch\n",
        "    emb = retriever.encode(batch).tolist()\n",
        "    # create unique IDs ranging from zero to the total number of tables in the dataset\n",
        "    ids = [f\"{idx}\" for idx in range(i, i_end)]\n",
        "    # add all to upsert list\n",
        "    to_upsert = list(zip(ids, emb))\n",
        "    # upsert/insert these records to pinecone\n",
        "    _ = index.upsert(vectors=to_upsert)\n",
        "\n",
        "# check that we have all vectors in index\n",
        "index.describe_index_stats()"
      ]
    },
    {
      "cell_type": "markdown",
      "metadata": {},
      "source": [
        "## start ss"
      ]
    },
    {
      "cell_type": "code",
      "execution_count": 104,
      "metadata": {},
      "outputs": [
        {
          "data": {
            "text/plain": [
              "{}"
            ]
          },
          "execution_count": 104,
          "metadata": {},
          "output_type": "execute_result"
        }
      ],
      "source": [
        "index.delete(ids=[\"250000\"], namespace='')"
      ]
    },
    {
      "cell_type": "code",
      "execution_count": 46,
      "metadata": {},
      "outputs": [
        {
          "data": {
            "text/plain": [
              "'/Users/scottschmidt/scottdev/pineconeExamples/search/question-answering'"
            ]
          },
          "execution_count": 46,
          "metadata": {},
          "output_type": "execute_result"
        }
      ],
      "source": [
        "os.getcwd()"
      ]
    },
    {
      "cell_type": "code",
      "execution_count": 77,
      "metadata": {},
      "outputs": [],
      "source": [
        "mthTbl = pd.read_csv('tkcmonthlystatus.csv')\n",
        "s_processed_table = \"\\n\".join([mthTbl.to_csv(index=False)])\n",
        "l_mthtbl = [s_processed_table]\n",
        "processed_tables.append(s_processed_table)"
      ]
    },
    {
      "cell_type": "code",
      "execution_count": 85,
      "metadata": {},
      "outputs": [
        {
          "data": {
            "text/plain": [
              "20001"
            ]
          },
          "execution_count": 85,
          "metadata": {},
          "output_type": "execute_result"
        }
      ],
      "source": [
        "len(processed_tables)"
      ]
    },
    {
      "cell_type": "code",
      "execution_count": 88,
      "metadata": {},
      "outputs": [
        {
          "data": {
            "text/html": [
              "<div>\n",
              "<style scoped>\n",
              "    .dataframe tbody tr th:only-of-type {\n",
              "        vertical-align: middle;\n",
              "    }\n",
              "\n",
              "    .dataframe tbody tr th {\n",
              "        vertical-align: top;\n",
              "    }\n",
              "\n",
              "    .dataframe thead th {\n",
              "        text-align: right;\n",
              "    }\n",
              "</style>\n",
              "<table border=\"1\" class=\"dataframe\">\n",
              "  <thead>\n",
              "    <tr style=\"text-align: right;\">\n",
              "      <th></th>\n",
              "      <th>jcco</th>\n",
              "      <th>contract</th>\n",
              "      <th>mth</th>\n",
              "      <th>pillar</th>\n",
              "      <th>pillardesc</th>\n",
              "      <th>contractstatus</th>\n",
              "      <th>description</th>\n",
              "      <th>contractamount</th>\n",
              "      <th>currestprofit</th>\n",
              "      <th>projprofit</th>\n",
              "      <th>...</th>\n",
              "      <th>profitprioryears</th>\n",
              "      <th>profitforyear</th>\n",
              "      <th>contractrevenuetodate</th>\n",
              "      <th>contractrevenueforyear</th>\n",
              "      <th>billedtodate</th>\n",
              "      <th>unbilledcosts</th>\n",
              "      <th>deferredcontractrevenue</th>\n",
              "      <th>reserveforloss</th>\n",
              "      <th>constrstartdate</th>\n",
              "      <th>substcompldate</th>\n",
              "    </tr>\n",
              "  </thead>\n",
              "  <tbody>\n",
              "    <tr>\n",
              "      <th>0</th>\n",
              "      <td>8</td>\n",
              "      <td>40043-</td>\n",
              "      <td>2002-12-01</td>\n",
              "      <td>STL</td>\n",
              "      <td>St. Louis</td>\n",
              "      <td>Closed</td>\n",
              "      <td>Chestnut Health Mainstay Ctr</td>\n",
              "      <td>81200.0</td>\n",
              "      <td>33875.00</td>\n",
              "      <td>45830.05</td>\n",
              "      <td>...</td>\n",
              "      <td>0.00</td>\n",
              "      <td>45830.05</td>\n",
              "      <td>81200.00</td>\n",
              "      <td>81200.00</td>\n",
              "      <td>81200.0</td>\n",
              "      <td>0.00</td>\n",
              "      <td>0.00</td>\n",
              "      <td>0.0</td>\n",
              "      <td>2000-12-14 00:00:00.000000</td>\n",
              "      <td>2002-11-30 00:00:00.000000</td>\n",
              "    </tr>\n",
              "    <tr>\n",
              "      <th>1</th>\n",
              "      <td>8</td>\n",
              "      <td>40079-</td>\n",
              "      <td>2002-12-01</td>\n",
              "      <td>STL</td>\n",
              "      <td>St. Louis</td>\n",
              "      <td>Closed</td>\n",
              "      <td>Christian Activity Center</td>\n",
              "      <td>10000.0</td>\n",
              "      <td>-7454.91</td>\n",
              "      <td>-7632.96</td>\n",
              "      <td>...</td>\n",
              "      <td>-7454.91</td>\n",
              "      <td>-178.05</td>\n",
              "      <td>10000.00</td>\n",
              "      <td>477.20</td>\n",
              "      <td>10000.0</td>\n",
              "      <td>0.00</td>\n",
              "      <td>0.00</td>\n",
              "      <td>0.0</td>\n",
              "      <td>2001-06-01 00:00:00.000000</td>\n",
              "      <td>2001-12-31 00:00:00.000000</td>\n",
              "    </tr>\n",
              "    <tr>\n",
              "      <th>2</th>\n",
              "      <td>8</td>\n",
              "      <td>40171-</td>\n",
              "      <td>2002-12-01</td>\n",
              "      <td>DC</td>\n",
              "      <td>Distribution Center</td>\n",
              "      <td>Open</td>\n",
              "      <td>Alside Distribution Warehouse</td>\n",
              "      <td>55000.0</td>\n",
              "      <td>4720.00</td>\n",
              "      <td>1950.50</td>\n",
              "      <td>...</td>\n",
              "      <td>0.00</td>\n",
              "      <td>1698.07</td>\n",
              "      <td>47882.26</td>\n",
              "      <td>47882.26</td>\n",
              "      <td>46750.0</td>\n",
              "      <td>1132.26</td>\n",
              "      <td>0.00</td>\n",
              "      <td>0.0</td>\n",
              "      <td>2002-07-29 00:00:00.000000</td>\n",
              "      <td>2003-03-15 00:00:00.000000</td>\n",
              "    </tr>\n",
              "    <tr>\n",
              "      <th>3</th>\n",
              "      <td>8</td>\n",
              "      <td>40063-</td>\n",
              "      <td>2002-12-01</td>\n",
              "      <td>DC</td>\n",
              "      <td>Distribution Center</td>\n",
              "      <td>Closed</td>\n",
              "      <td>Walgreens Mt Vernon Conveyor</td>\n",
              "      <td>32000.0</td>\n",
              "      <td>4975.00</td>\n",
              "      <td>10386.35</td>\n",
              "      <td>...</td>\n",
              "      <td>3414.73</td>\n",
              "      <td>6971.62</td>\n",
              "      <td>32000.00</td>\n",
              "      <td>9772.77</td>\n",
              "      <td>32000.0</td>\n",
              "      <td>0.00</td>\n",
              "      <td>0.00</td>\n",
              "      <td>0.0</td>\n",
              "      <td>2001-08-01 00:00:00.000000</td>\n",
              "      <td>2001-12-31 00:00:00.000000</td>\n",
              "    </tr>\n",
              "    <tr>\n",
              "      <th>4</th>\n",
              "      <td>8</td>\n",
              "      <td>40091-</td>\n",
              "      <td>2002-12-01</td>\n",
              "      <td>OTH</td>\n",
              "      <td>Other</td>\n",
              "      <td>Open</td>\n",
              "      <td>Walgreens Accounting Phase3</td>\n",
              "      <td>354230.0</td>\n",
              "      <td>69802.00</td>\n",
              "      <td>83804.07</td>\n",
              "      <td>...</td>\n",
              "      <td>0.00</td>\n",
              "      <td>73530.03</td>\n",
              "      <td>310802.84</td>\n",
              "      <td>310802.84</td>\n",
              "      <td>354230.0</td>\n",
              "      <td>0.00</td>\n",
              "      <td>-43427.15</td>\n",
              "      <td>0.0</td>\n",
              "      <td>2001-09-01 00:00:00.000000</td>\n",
              "      <td>2002-12-31 00:00:00.000000</td>\n",
              "    </tr>\n",
              "  </tbody>\n",
              "</table>\n",
              "<p>5 rows × 26 columns</p>\n",
              "</div>"
            ],
            "text/plain": [
              "   jcco contract         mth pillar           pillardesc contractstatus  \\\n",
              "0     8   40043-  2002-12-01    STL            St. Louis         Closed   \n",
              "1     8   40079-  2002-12-01    STL            St. Louis         Closed   \n",
              "2     8   40171-  2002-12-01     DC  Distribution Center           Open   \n",
              "3     8   40063-  2002-12-01     DC  Distribution Center         Closed   \n",
              "4     8   40091-  2002-12-01    OTH                Other           Open   \n",
              "\n",
              "                     description  contractamount  currestprofit  projprofit  \\\n",
              "0   Chestnut Health Mainstay Ctr         81200.0       33875.00    45830.05   \n",
              "1      Christian Activity Center         10000.0       -7454.91    -7632.96   \n",
              "2  Alside Distribution Warehouse         55000.0        4720.00     1950.50   \n",
              "3   Walgreens Mt Vernon Conveyor         32000.0        4975.00    10386.35   \n",
              "4    Walgreens Accounting Phase3        354230.0       69802.00    83804.07   \n",
              "\n",
              "   ...  profitprioryears  profitforyear  contractrevenuetodate  \\\n",
              "0  ...              0.00       45830.05               81200.00   \n",
              "1  ...          -7454.91        -178.05               10000.00   \n",
              "2  ...              0.00        1698.07               47882.26   \n",
              "3  ...           3414.73        6971.62               32000.00   \n",
              "4  ...              0.00       73530.03              310802.84   \n",
              "\n",
              "   contractrevenueforyear  billedtodate  unbilledcosts  \\\n",
              "0                81200.00       81200.0           0.00   \n",
              "1                  477.20       10000.0           0.00   \n",
              "2                47882.26       46750.0        1132.26   \n",
              "3                 9772.77       32000.0           0.00   \n",
              "4               310802.84      354230.0           0.00   \n",
              "\n",
              "   deferredcontractrevenue  reserveforloss             constrstartdate  \\\n",
              "0                     0.00             0.0  2000-12-14 00:00:00.000000   \n",
              "1                     0.00             0.0  2001-06-01 00:00:00.000000   \n",
              "2                     0.00             0.0  2002-07-29 00:00:00.000000   \n",
              "3                     0.00             0.0  2001-08-01 00:00:00.000000   \n",
              "4                -43427.15             0.0  2001-09-01 00:00:00.000000   \n",
              "\n",
              "               substcompldate  \n",
              "0  2002-11-30 00:00:00.000000  \n",
              "1  2001-12-31 00:00:00.000000  \n",
              "2  2003-03-15 00:00:00.000000  \n",
              "3  2001-12-31 00:00:00.000000  \n",
              "4  2002-12-31 00:00:00.000000  \n",
              "\n",
              "[5 rows x 26 columns]"
            ]
          },
          "execution_count": 88,
          "metadata": {},
          "output_type": "execute_result"
        }
      ],
      "source": [
        "#tables.append(mthTbl)\n",
        "tables[20000].head()"
      ]
    },
    {
      "cell_type": "code",
      "execution_count": 86,
      "metadata": {},
      "outputs": [],
      "source": [
        "s_emb = retriever.encode(l_mthtbl).tolist()\n",
        "s_to_upsert = list(zip(['20000'], s_emb))\n",
        "_ = index.upsert(vectors=s_to_upsert)"
      ]
    },
    {
      "cell_type": "code",
      "execution_count": 92,
      "metadata": {},
      "outputs": [
        {
          "data": {
            "text/plain": [
              "{'matches': [{'id': '20000', 'score': 0.450037658, 'values': []}],\n",
              " 'namespace': ''}"
            ]
          },
          "execution_count": 92,
          "metadata": {},
          "output_type": "execute_result"
        }
      ],
      "source": [
        "query = \"which contracts were open 2023-01-01?\"\n",
        "# generate embedding for the query\n",
        "xq = retriever.encode([query]).tolist()\n",
        "# query pinecone index to find the table containing answer to the query\n",
        "result = index.query(xq, top_k=1)\n",
        "result\n"
      ]
    },
    {
      "cell_type": "code",
      "execution_count": 93,
      "metadata": {},
      "outputs": [
        {
          "data": {
            "text/html": [
              "<div>\n",
              "<style scoped>\n",
              "    .dataframe tbody tr th:only-of-type {\n",
              "        vertical-align: middle;\n",
              "    }\n",
              "\n",
              "    .dataframe tbody tr th {\n",
              "        vertical-align: top;\n",
              "    }\n",
              "\n",
              "    .dataframe thead th {\n",
              "        text-align: right;\n",
              "    }\n",
              "</style>\n",
              "<table border=\"1\" class=\"dataframe\">\n",
              "  <thead>\n",
              "    <tr style=\"text-align: right;\">\n",
              "      <th></th>\n",
              "      <th>jcco</th>\n",
              "      <th>contract</th>\n",
              "      <th>mth</th>\n",
              "      <th>pillar</th>\n",
              "      <th>pillardesc</th>\n",
              "      <th>contractstatus</th>\n",
              "      <th>description</th>\n",
              "      <th>contractamount</th>\n",
              "      <th>currestprofit</th>\n",
              "      <th>projprofit</th>\n",
              "      <th>...</th>\n",
              "      <th>profitprioryears</th>\n",
              "      <th>profitforyear</th>\n",
              "      <th>contractrevenuetodate</th>\n",
              "      <th>contractrevenueforyear</th>\n",
              "      <th>billedtodate</th>\n",
              "      <th>unbilledcosts</th>\n",
              "      <th>deferredcontractrevenue</th>\n",
              "      <th>reserveforloss</th>\n",
              "      <th>constrstartdate</th>\n",
              "      <th>substcompldate</th>\n",
              "    </tr>\n",
              "  </thead>\n",
              "  <tbody>\n",
              "    <tr>\n",
              "      <th>0</th>\n",
              "      <td>8</td>\n",
              "      <td>40043-</td>\n",
              "      <td>2002-12-01</td>\n",
              "      <td>STL</td>\n",
              "      <td>St. Louis</td>\n",
              "      <td>Closed</td>\n",
              "      <td>Chestnut Health Mainstay Ctr</td>\n",
              "      <td>81200.0</td>\n",
              "      <td>33875.00</td>\n",
              "      <td>45830.05</td>\n",
              "      <td>...</td>\n",
              "      <td>0.00</td>\n",
              "      <td>45830.05</td>\n",
              "      <td>81200.00</td>\n",
              "      <td>81200.00</td>\n",
              "      <td>81200.0</td>\n",
              "      <td>0.00</td>\n",
              "      <td>0.00</td>\n",
              "      <td>0.0</td>\n",
              "      <td>2000-12-14 00:00:00.000000</td>\n",
              "      <td>2002-11-30 00:00:00.000000</td>\n",
              "    </tr>\n",
              "    <tr>\n",
              "      <th>1</th>\n",
              "      <td>8</td>\n",
              "      <td>40079-</td>\n",
              "      <td>2002-12-01</td>\n",
              "      <td>STL</td>\n",
              "      <td>St. Louis</td>\n",
              "      <td>Closed</td>\n",
              "      <td>Christian Activity Center</td>\n",
              "      <td>10000.0</td>\n",
              "      <td>-7454.91</td>\n",
              "      <td>-7632.96</td>\n",
              "      <td>...</td>\n",
              "      <td>-7454.91</td>\n",
              "      <td>-178.05</td>\n",
              "      <td>10000.00</td>\n",
              "      <td>477.20</td>\n",
              "      <td>10000.0</td>\n",
              "      <td>0.00</td>\n",
              "      <td>0.00</td>\n",
              "      <td>0.0</td>\n",
              "      <td>2001-06-01 00:00:00.000000</td>\n",
              "      <td>2001-12-31 00:00:00.000000</td>\n",
              "    </tr>\n",
              "    <tr>\n",
              "      <th>2</th>\n",
              "      <td>8</td>\n",
              "      <td>40171-</td>\n",
              "      <td>2002-12-01</td>\n",
              "      <td>DC</td>\n",
              "      <td>Distribution Center</td>\n",
              "      <td>Open</td>\n",
              "      <td>Alside Distribution Warehouse</td>\n",
              "      <td>55000.0</td>\n",
              "      <td>4720.00</td>\n",
              "      <td>1950.50</td>\n",
              "      <td>...</td>\n",
              "      <td>0.00</td>\n",
              "      <td>1698.07</td>\n",
              "      <td>47882.26</td>\n",
              "      <td>47882.26</td>\n",
              "      <td>46750.0</td>\n",
              "      <td>1132.26</td>\n",
              "      <td>0.00</td>\n",
              "      <td>0.0</td>\n",
              "      <td>2002-07-29 00:00:00.000000</td>\n",
              "      <td>2003-03-15 00:00:00.000000</td>\n",
              "    </tr>\n",
              "    <tr>\n",
              "      <th>3</th>\n",
              "      <td>8</td>\n",
              "      <td>40063-</td>\n",
              "      <td>2002-12-01</td>\n",
              "      <td>DC</td>\n",
              "      <td>Distribution Center</td>\n",
              "      <td>Closed</td>\n",
              "      <td>Walgreens Mt Vernon Conveyor</td>\n",
              "      <td>32000.0</td>\n",
              "      <td>4975.00</td>\n",
              "      <td>10386.35</td>\n",
              "      <td>...</td>\n",
              "      <td>3414.73</td>\n",
              "      <td>6971.62</td>\n",
              "      <td>32000.00</td>\n",
              "      <td>9772.77</td>\n",
              "      <td>32000.0</td>\n",
              "      <td>0.00</td>\n",
              "      <td>0.00</td>\n",
              "      <td>0.0</td>\n",
              "      <td>2001-08-01 00:00:00.000000</td>\n",
              "      <td>2001-12-31 00:00:00.000000</td>\n",
              "    </tr>\n",
              "    <tr>\n",
              "      <th>4</th>\n",
              "      <td>8</td>\n",
              "      <td>40091-</td>\n",
              "      <td>2002-12-01</td>\n",
              "      <td>OTH</td>\n",
              "      <td>Other</td>\n",
              "      <td>Open</td>\n",
              "      <td>Walgreens Accounting Phase3</td>\n",
              "      <td>354230.0</td>\n",
              "      <td>69802.00</td>\n",
              "      <td>83804.07</td>\n",
              "      <td>...</td>\n",
              "      <td>0.00</td>\n",
              "      <td>73530.03</td>\n",
              "      <td>310802.84</td>\n",
              "      <td>310802.84</td>\n",
              "      <td>354230.0</td>\n",
              "      <td>0.00</td>\n",
              "      <td>-43427.15</td>\n",
              "      <td>0.0</td>\n",
              "      <td>2001-09-01 00:00:00.000000</td>\n",
              "      <td>2002-12-31 00:00:00.000000</td>\n",
              "    </tr>\n",
              "  </tbody>\n",
              "</table>\n",
              "<p>5 rows × 26 columns</p>\n",
              "</div>"
            ],
            "text/plain": [
              "   jcco contract         mth pillar           pillardesc contractstatus  \\\n",
              "0     8   40043-  2002-12-01    STL            St. Louis         Closed   \n",
              "1     8   40079-  2002-12-01    STL            St. Louis         Closed   \n",
              "2     8   40171-  2002-12-01     DC  Distribution Center           Open   \n",
              "3     8   40063-  2002-12-01     DC  Distribution Center         Closed   \n",
              "4     8   40091-  2002-12-01    OTH                Other           Open   \n",
              "\n",
              "                     description  contractamount  currestprofit  projprofit  \\\n",
              "0   Chestnut Health Mainstay Ctr         81200.0       33875.00    45830.05   \n",
              "1      Christian Activity Center         10000.0       -7454.91    -7632.96   \n",
              "2  Alside Distribution Warehouse         55000.0        4720.00     1950.50   \n",
              "3   Walgreens Mt Vernon Conveyor         32000.0        4975.00    10386.35   \n",
              "4    Walgreens Accounting Phase3        354230.0       69802.00    83804.07   \n",
              "\n",
              "   ...  profitprioryears  profitforyear  contractrevenuetodate  \\\n",
              "0  ...              0.00       45830.05               81200.00   \n",
              "1  ...          -7454.91        -178.05               10000.00   \n",
              "2  ...              0.00        1698.07               47882.26   \n",
              "3  ...           3414.73        6971.62               32000.00   \n",
              "4  ...              0.00       73530.03              310802.84   \n",
              "\n",
              "   contractrevenueforyear  billedtodate  unbilledcosts  \\\n",
              "0                81200.00       81200.0           0.00   \n",
              "1                  477.20       10000.0           0.00   \n",
              "2                47882.26       46750.0        1132.26   \n",
              "3                 9772.77       32000.0           0.00   \n",
              "4               310802.84      354230.0           0.00   \n",
              "\n",
              "   deferredcontractrevenue  reserveforloss             constrstartdate  \\\n",
              "0                     0.00             0.0  2000-12-14 00:00:00.000000   \n",
              "1                     0.00             0.0  2001-06-01 00:00:00.000000   \n",
              "2                     0.00             0.0  2002-07-29 00:00:00.000000   \n",
              "3                     0.00             0.0  2001-08-01 00:00:00.000000   \n",
              "4                -43427.15             0.0  2001-09-01 00:00:00.000000   \n",
              "\n",
              "               substcompldate  \n",
              "0  2002-11-30 00:00:00.000000  \n",
              "1  2001-12-31 00:00:00.000000  \n",
              "2  2003-03-15 00:00:00.000000  \n",
              "3  2001-12-31 00:00:00.000000  \n",
              "4  2002-12-31 00:00:00.000000  \n",
              "\n",
              "[5 rows x 26 columns]"
            ]
          },
          "execution_count": 93,
          "metadata": {},
          "output_type": "execute_result"
        }
      ],
      "source": [
        "id = int(result[\"matches\"][0][\"id\"])\n",
        "tables[id].head()"
      ]
    },
    {
      "cell_type": "code",
      "execution_count": 94,
      "metadata": {},
      "outputs": [
        {
          "ename": "TypeError",
          "evalue": "expected string or bytes-like object",
          "output_type": "error",
          "traceback": [
            "\u001b[0;31m---------------------------------------------------------------------------\u001b[0m",
            "\u001b[0;31mTypeError\u001b[0m                                 Traceback (most recent call last)",
            "Cell \u001b[0;32mIn[94], line 1\u001b[0m\n\u001b[0;32m----> 1\u001b[0m pipe(table\u001b[39m=\u001b[39;49mtables[\u001b[39mid\u001b[39;49m], query\u001b[39m=\u001b[39;49mquery)\n",
            "File \u001b[0;32m~/.virtualenvs/pineconeExamples/lib/python3.10/site-packages/transformers/pipelines/table_question_answering.py:351\u001b[0m, in \u001b[0;36mTableQuestionAnsweringPipeline.__call__\u001b[0;34m(self, *args, **kwargs)\u001b[0m\n\u001b[1;32m    275\u001b[0m \u001b[39m\u001b[39m\u001b[39mr\u001b[39m\u001b[39m\"\"\"\u001b[39;00m\n\u001b[1;32m    276\u001b[0m \u001b[39mAnswers queries according to a table. The pipeline accepts several types of inputs which are detailed below:\u001b[39;00m\n\u001b[1;32m    277\u001b[0m \n\u001b[0;32m   (...)\u001b[0m\n\u001b[1;32m    347\u001b[0m \u001b[39m    - **aggregator** (`str`) -- If the model has an aggregator, this returns the aggregator.\u001b[39;00m\n\u001b[1;32m    348\u001b[0m \u001b[39m\"\"\"\u001b[39;00m\n\u001b[1;32m    349\u001b[0m pipeline_inputs \u001b[39m=\u001b[39m \u001b[39mself\u001b[39m\u001b[39m.\u001b[39m_args_parser(\u001b[39m*\u001b[39margs, \u001b[39m*\u001b[39m\u001b[39m*\u001b[39mkwargs)\n\u001b[0;32m--> 351\u001b[0m results \u001b[39m=\u001b[39m \u001b[39msuper\u001b[39;49m()\u001b[39m.\u001b[39;49m\u001b[39m__call__\u001b[39;49m(pipeline_inputs, \u001b[39m*\u001b[39;49m\u001b[39m*\u001b[39;49mkwargs)\n\u001b[1;32m    352\u001b[0m \u001b[39mif\u001b[39;00m \u001b[39mlen\u001b[39m(results) \u001b[39m==\u001b[39m \u001b[39m1\u001b[39m:\n\u001b[1;32m    353\u001b[0m     \u001b[39mreturn\u001b[39;00m results[\u001b[39m0\u001b[39m]\n",
            "File \u001b[0;32m~/.virtualenvs/pineconeExamples/lib/python3.10/site-packages/transformers/pipelines/base.py:1065\u001b[0m, in \u001b[0;36mPipeline.__call__\u001b[0;34m(self, inputs, num_workers, batch_size, *args, **kwargs)\u001b[0m\n\u001b[1;32m   1061\u001b[0m \u001b[39mif\u001b[39;00m can_use_iterator:\n\u001b[1;32m   1062\u001b[0m     final_iterator \u001b[39m=\u001b[39m \u001b[39mself\u001b[39m\u001b[39m.\u001b[39mget_iterator(\n\u001b[1;32m   1063\u001b[0m         inputs, num_workers, batch_size, preprocess_params, forward_params, postprocess_params\n\u001b[1;32m   1064\u001b[0m     )\n\u001b[0;32m-> 1065\u001b[0m     outputs \u001b[39m=\u001b[39m [output \u001b[39mfor\u001b[39;00m output \u001b[39min\u001b[39;00m final_iterator]\n\u001b[1;32m   1066\u001b[0m     \u001b[39mreturn\u001b[39;00m outputs\n\u001b[1;32m   1067\u001b[0m \u001b[39melse\u001b[39;00m:\n",
            "File \u001b[0;32m~/.virtualenvs/pineconeExamples/lib/python3.10/site-packages/transformers/pipelines/base.py:1065\u001b[0m, in \u001b[0;36m<listcomp>\u001b[0;34m(.0)\u001b[0m\n\u001b[1;32m   1061\u001b[0m \u001b[39mif\u001b[39;00m can_use_iterator:\n\u001b[1;32m   1062\u001b[0m     final_iterator \u001b[39m=\u001b[39m \u001b[39mself\u001b[39m\u001b[39m.\u001b[39mget_iterator(\n\u001b[1;32m   1063\u001b[0m         inputs, num_workers, batch_size, preprocess_params, forward_params, postprocess_params\n\u001b[1;32m   1064\u001b[0m     )\n\u001b[0;32m-> 1065\u001b[0m     outputs \u001b[39m=\u001b[39m [output \u001b[39mfor\u001b[39;00m output \u001b[39min\u001b[39;00m final_iterator]\n\u001b[1;32m   1066\u001b[0m     \u001b[39mreturn\u001b[39;00m outputs\n\u001b[1;32m   1067\u001b[0m \u001b[39melse\u001b[39;00m:\n",
            "File \u001b[0;32m~/.virtualenvs/pineconeExamples/lib/python3.10/site-packages/transformers/pipelines/pt_utils.py:124\u001b[0m, in \u001b[0;36mPipelineIterator.__next__\u001b[0;34m(self)\u001b[0m\n\u001b[1;32m    121\u001b[0m     \u001b[39mreturn\u001b[39;00m \u001b[39mself\u001b[39m\u001b[39m.\u001b[39mloader_batch_item()\n\u001b[1;32m    123\u001b[0m \u001b[39m# We're out of items within a batch\u001b[39;00m\n\u001b[0;32m--> 124\u001b[0m item \u001b[39m=\u001b[39m \u001b[39mnext\u001b[39;49m(\u001b[39mself\u001b[39;49m\u001b[39m.\u001b[39;49miterator)\n\u001b[1;32m    125\u001b[0m processed \u001b[39m=\u001b[39m \u001b[39mself\u001b[39m\u001b[39m.\u001b[39minfer(item, \u001b[39m*\u001b[39m\u001b[39m*\u001b[39m\u001b[39mself\u001b[39m\u001b[39m.\u001b[39mparams)\n\u001b[1;32m    126\u001b[0m \u001b[39m# We now have a batch of \"inferred things\".\u001b[39;00m\n",
            "File \u001b[0;32m~/.virtualenvs/pineconeExamples/lib/python3.10/site-packages/transformers/pipelines/pt_utils.py:124\u001b[0m, in \u001b[0;36mPipelineIterator.__next__\u001b[0;34m(self)\u001b[0m\n\u001b[1;32m    121\u001b[0m     \u001b[39mreturn\u001b[39;00m \u001b[39mself\u001b[39m\u001b[39m.\u001b[39mloader_batch_item()\n\u001b[1;32m    123\u001b[0m \u001b[39m# We're out of items within a batch\u001b[39;00m\n\u001b[0;32m--> 124\u001b[0m item \u001b[39m=\u001b[39m \u001b[39mnext\u001b[39;49m(\u001b[39mself\u001b[39;49m\u001b[39m.\u001b[39;49miterator)\n\u001b[1;32m    125\u001b[0m processed \u001b[39m=\u001b[39m \u001b[39mself\u001b[39m\u001b[39m.\u001b[39minfer(item, \u001b[39m*\u001b[39m\u001b[39m*\u001b[39m\u001b[39mself\u001b[39m\u001b[39m.\u001b[39mparams)\n\u001b[1;32m    126\u001b[0m \u001b[39m# We now have a batch of \"inferred things\".\u001b[39;00m\n",
            "File \u001b[0;32m~/.virtualenvs/pineconeExamples/lib/python3.10/site-packages/torch/utils/data/dataloader.py:628\u001b[0m, in \u001b[0;36m_BaseDataLoaderIter.__next__\u001b[0;34m(self)\u001b[0m\n\u001b[1;32m    625\u001b[0m \u001b[39mif\u001b[39;00m \u001b[39mself\u001b[39m\u001b[39m.\u001b[39m_sampler_iter \u001b[39mis\u001b[39;00m \u001b[39mNone\u001b[39;00m:\n\u001b[1;32m    626\u001b[0m     \u001b[39m# TODO(https://github.com/pytorch/pytorch/issues/76750)\u001b[39;00m\n\u001b[1;32m    627\u001b[0m     \u001b[39mself\u001b[39m\u001b[39m.\u001b[39m_reset()  \u001b[39m# type: ignore[call-arg]\u001b[39;00m\n\u001b[0;32m--> 628\u001b[0m data \u001b[39m=\u001b[39m \u001b[39mself\u001b[39;49m\u001b[39m.\u001b[39;49m_next_data()\n\u001b[1;32m    629\u001b[0m \u001b[39mself\u001b[39m\u001b[39m.\u001b[39m_num_yielded \u001b[39m+\u001b[39m\u001b[39m=\u001b[39m \u001b[39m1\u001b[39m\n\u001b[1;32m    630\u001b[0m \u001b[39mif\u001b[39;00m \u001b[39mself\u001b[39m\u001b[39m.\u001b[39m_dataset_kind \u001b[39m==\u001b[39m _DatasetKind\u001b[39m.\u001b[39mIterable \u001b[39mand\u001b[39;00m \\\n\u001b[1;32m    631\u001b[0m         \u001b[39mself\u001b[39m\u001b[39m.\u001b[39m_IterableDataset_len_called \u001b[39mis\u001b[39;00m \u001b[39mnot\u001b[39;00m \u001b[39mNone\u001b[39;00m \u001b[39mand\u001b[39;00m \\\n\u001b[1;32m    632\u001b[0m         \u001b[39mself\u001b[39m\u001b[39m.\u001b[39m_num_yielded \u001b[39m>\u001b[39m \u001b[39mself\u001b[39m\u001b[39m.\u001b[39m_IterableDataset_len_called:\n",
            "File \u001b[0;32m~/.virtualenvs/pineconeExamples/lib/python3.10/site-packages/torch/utils/data/dataloader.py:671\u001b[0m, in \u001b[0;36m_SingleProcessDataLoaderIter._next_data\u001b[0;34m(self)\u001b[0m\n\u001b[1;32m    669\u001b[0m \u001b[39mdef\u001b[39;00m \u001b[39m_next_data\u001b[39m(\u001b[39mself\u001b[39m):\n\u001b[1;32m    670\u001b[0m     index \u001b[39m=\u001b[39m \u001b[39mself\u001b[39m\u001b[39m.\u001b[39m_next_index()  \u001b[39m# may raise StopIteration\u001b[39;00m\n\u001b[0;32m--> 671\u001b[0m     data \u001b[39m=\u001b[39m \u001b[39mself\u001b[39;49m\u001b[39m.\u001b[39;49m_dataset_fetcher\u001b[39m.\u001b[39;49mfetch(index)  \u001b[39m# may raise StopIteration\u001b[39;00m\n\u001b[1;32m    672\u001b[0m     \u001b[39mif\u001b[39;00m \u001b[39mself\u001b[39m\u001b[39m.\u001b[39m_pin_memory:\n\u001b[1;32m    673\u001b[0m         data \u001b[39m=\u001b[39m _utils\u001b[39m.\u001b[39mpin_memory\u001b[39m.\u001b[39mpin_memory(data, \u001b[39mself\u001b[39m\u001b[39m.\u001b[39m_pin_memory_device)\n",
            "File \u001b[0;32m~/.virtualenvs/pineconeExamples/lib/python3.10/site-packages/torch/utils/data/_utils/fetch.py:58\u001b[0m, in \u001b[0;36m_MapDatasetFetcher.fetch\u001b[0;34m(self, possibly_batched_index)\u001b[0m\n\u001b[1;32m     56\u001b[0m         data \u001b[39m=\u001b[39m \u001b[39mself\u001b[39m\u001b[39m.\u001b[39mdataset\u001b[39m.\u001b[39m__getitems__(possibly_batched_index)\n\u001b[1;32m     57\u001b[0m     \u001b[39melse\u001b[39;00m:\n\u001b[0;32m---> 58\u001b[0m         data \u001b[39m=\u001b[39m [\u001b[39mself\u001b[39m\u001b[39m.\u001b[39mdataset[idx] \u001b[39mfor\u001b[39;00m idx \u001b[39min\u001b[39;00m possibly_batched_index]\n\u001b[1;32m     59\u001b[0m \u001b[39melse\u001b[39;00m:\n\u001b[1;32m     60\u001b[0m     data \u001b[39m=\u001b[39m \u001b[39mself\u001b[39m\u001b[39m.\u001b[39mdataset[possibly_batched_index]\n",
            "File \u001b[0;32m~/.virtualenvs/pineconeExamples/lib/python3.10/site-packages/torch/utils/data/_utils/fetch.py:58\u001b[0m, in \u001b[0;36m<listcomp>\u001b[0;34m(.0)\u001b[0m\n\u001b[1;32m     56\u001b[0m         data \u001b[39m=\u001b[39m \u001b[39mself\u001b[39m\u001b[39m.\u001b[39mdataset\u001b[39m.\u001b[39m__getitems__(possibly_batched_index)\n\u001b[1;32m     57\u001b[0m     \u001b[39melse\u001b[39;00m:\n\u001b[0;32m---> 58\u001b[0m         data \u001b[39m=\u001b[39m [\u001b[39mself\u001b[39;49m\u001b[39m.\u001b[39;49mdataset[idx] \u001b[39mfor\u001b[39;00m idx \u001b[39min\u001b[39;00m possibly_batched_index]\n\u001b[1;32m     59\u001b[0m \u001b[39melse\u001b[39;00m:\n\u001b[1;32m     60\u001b[0m     data \u001b[39m=\u001b[39m \u001b[39mself\u001b[39m\u001b[39m.\u001b[39mdataset[possibly_batched_index]\n",
            "File \u001b[0;32m~/.virtualenvs/pineconeExamples/lib/python3.10/site-packages/transformers/pipelines/pt_utils.py:19\u001b[0m, in \u001b[0;36mPipelineDataset.__getitem__\u001b[0;34m(self, i)\u001b[0m\n\u001b[1;32m     17\u001b[0m \u001b[39mdef\u001b[39;00m \u001b[39m__getitem__\u001b[39m(\u001b[39mself\u001b[39m, i):\n\u001b[1;32m     18\u001b[0m     item \u001b[39m=\u001b[39m \u001b[39mself\u001b[39m\u001b[39m.\u001b[39mdataset[i]\n\u001b[0;32m---> 19\u001b[0m     processed \u001b[39m=\u001b[39m \u001b[39mself\u001b[39;49m\u001b[39m.\u001b[39;49mprocess(item, \u001b[39m*\u001b[39;49m\u001b[39m*\u001b[39;49m\u001b[39mself\u001b[39;49m\u001b[39m.\u001b[39;49mparams)\n\u001b[1;32m     20\u001b[0m     \u001b[39mreturn\u001b[39;00m processed\n",
            "File \u001b[0;32m~/.virtualenvs/pineconeExamples/lib/python3.10/site-packages/transformers/pipelines/table_question_answering.py:380\u001b[0m, in \u001b[0;36mTableQuestionAnsweringPipeline.preprocess\u001b[0;34m(self, pipeline_input, sequential, padding, truncation)\u001b[0m\n\u001b[1;32m    378\u001b[0m \u001b[39mif\u001b[39;00m query \u001b[39mis\u001b[39;00m \u001b[39mNone\u001b[39;00m \u001b[39mor\u001b[39;00m query \u001b[39m==\u001b[39m \u001b[39m\"\u001b[39m\u001b[39m\"\u001b[39m:\n\u001b[1;32m    379\u001b[0m     \u001b[39mraise\u001b[39;00m \u001b[39mValueError\u001b[39;00m(\u001b[39m\"\u001b[39m\u001b[39mquery is empty\u001b[39m\u001b[39m\"\u001b[39m)\n\u001b[0;32m--> 380\u001b[0m inputs \u001b[39m=\u001b[39m \u001b[39mself\u001b[39;49m\u001b[39m.\u001b[39;49mtokenizer(table, query, return_tensors\u001b[39m=\u001b[39;49m\u001b[39mself\u001b[39;49m\u001b[39m.\u001b[39;49mframework, truncation\u001b[39m=\u001b[39;49mtruncation, padding\u001b[39m=\u001b[39;49mpadding)\n\u001b[1;32m    381\u001b[0m inputs[\u001b[39m\"\u001b[39m\u001b[39mtable\u001b[39m\u001b[39m\"\u001b[39m] \u001b[39m=\u001b[39m table\n\u001b[1;32m    382\u001b[0m \u001b[39mreturn\u001b[39;00m inputs\n",
            "File \u001b[0;32m~/.virtualenvs/pineconeExamples/lib/python3.10/site-packages/transformers/models/tapas/tokenization_tapas.py:672\u001b[0m, in \u001b[0;36mTapasTokenizer.__call__\u001b[0;34m(self, table, queries, answer_coordinates, answer_text, add_special_tokens, padding, truncation, max_length, pad_to_multiple_of, return_tensors, return_token_type_ids, return_attention_mask, return_overflowing_tokens, return_special_tokens_mask, return_offsets_mapping, return_length, verbose, **kwargs)\u001b[0m\n\u001b[1;32m    651\u001b[0m     \u001b[39mreturn\u001b[39;00m \u001b[39mself\u001b[39m\u001b[39m.\u001b[39mbatch_encode_plus(\n\u001b[1;32m    652\u001b[0m         table\u001b[39m=\u001b[39mtable,\n\u001b[1;32m    653\u001b[0m         queries\u001b[39m=\u001b[39mqueries,\n\u001b[0;32m   (...)\u001b[0m\n\u001b[1;32m    669\u001b[0m         \u001b[39m*\u001b[39m\u001b[39m*\u001b[39mkwargs,\n\u001b[1;32m    670\u001b[0m     )\n\u001b[1;32m    671\u001b[0m \u001b[39melse\u001b[39;00m:\n\u001b[0;32m--> 672\u001b[0m     \u001b[39mreturn\u001b[39;00m \u001b[39mself\u001b[39;49m\u001b[39m.\u001b[39;49mencode_plus(\n\u001b[1;32m    673\u001b[0m         table\u001b[39m=\u001b[39;49mtable,\n\u001b[1;32m    674\u001b[0m         query\u001b[39m=\u001b[39;49mqueries,\n\u001b[1;32m    675\u001b[0m         answer_coordinates\u001b[39m=\u001b[39;49manswer_coordinates,\n\u001b[1;32m    676\u001b[0m         answer_text\u001b[39m=\u001b[39;49manswer_text,\n\u001b[1;32m    677\u001b[0m         add_special_tokens\u001b[39m=\u001b[39;49madd_special_tokens,\n\u001b[1;32m    678\u001b[0m         padding\u001b[39m=\u001b[39;49mpadding,\n\u001b[1;32m    679\u001b[0m         truncation\u001b[39m=\u001b[39;49mtruncation,\n\u001b[1;32m    680\u001b[0m         max_length\u001b[39m=\u001b[39;49mmax_length,\n\u001b[1;32m    681\u001b[0m         pad_to_multiple_of\u001b[39m=\u001b[39;49mpad_to_multiple_of,\n\u001b[1;32m    682\u001b[0m         return_tensors\u001b[39m=\u001b[39;49mreturn_tensors,\n\u001b[1;32m    683\u001b[0m         return_token_type_ids\u001b[39m=\u001b[39;49mreturn_token_type_ids,\n\u001b[1;32m    684\u001b[0m         return_attention_mask\u001b[39m=\u001b[39;49mreturn_attention_mask,\n\u001b[1;32m    685\u001b[0m         return_overflowing_tokens\u001b[39m=\u001b[39;49mreturn_overflowing_tokens,\n\u001b[1;32m    686\u001b[0m         return_special_tokens_mask\u001b[39m=\u001b[39;49mreturn_special_tokens_mask,\n\u001b[1;32m    687\u001b[0m         return_offsets_mapping\u001b[39m=\u001b[39;49mreturn_offsets_mapping,\n\u001b[1;32m    688\u001b[0m         return_length\u001b[39m=\u001b[39;49mreturn_length,\n\u001b[1;32m    689\u001b[0m         verbose\u001b[39m=\u001b[39;49mverbose,\n\u001b[1;32m    690\u001b[0m         \u001b[39m*\u001b[39;49m\u001b[39m*\u001b[39;49mkwargs,\n\u001b[1;32m    691\u001b[0m     )\n",
            "File \u001b[0;32m~/.virtualenvs/pineconeExamples/lib/python3.10/site-packages/transformers/models/tapas/tokenization_tapas.py:1038\u001b[0m, in \u001b[0;36mTapasTokenizer.encode_plus\u001b[0;34m(self, table, query, answer_coordinates, answer_text, add_special_tokens, padding, truncation, max_length, pad_to_multiple_of, return_tensors, return_token_type_ids, return_attention_mask, return_special_tokens_mask, return_offsets_mapping, return_length, verbose, **kwargs)\u001b[0m\n\u001b[1;32m   1031\u001b[0m \u001b[39mif\u001b[39;00m return_offsets_mapping:\n\u001b[1;32m   1032\u001b[0m     \u001b[39mraise\u001b[39;00m \u001b[39mNotImplementedError\u001b[39;00m(\n\u001b[1;32m   1033\u001b[0m         \u001b[39m\"\u001b[39m\u001b[39mreturn_offset_mapping is not available when using Python tokenizers. \u001b[39m\u001b[39m\"\u001b[39m\n\u001b[1;32m   1034\u001b[0m         \u001b[39m\"\u001b[39m\u001b[39mTo use this feature, change your tokenizer to one deriving from \u001b[39m\u001b[39m\"\u001b[39m\n\u001b[1;32m   1035\u001b[0m         \u001b[39m\"\u001b[39m\u001b[39mtransformers.PreTrainedTokenizerFast.\u001b[39m\u001b[39m\"\u001b[39m\n\u001b[1;32m   1036\u001b[0m     )\n\u001b[0;32m-> 1038\u001b[0m \u001b[39mreturn\u001b[39;00m \u001b[39mself\u001b[39;49m\u001b[39m.\u001b[39;49m_encode_plus(\n\u001b[1;32m   1039\u001b[0m     table\u001b[39m=\u001b[39;49mtable,\n\u001b[1;32m   1040\u001b[0m     query\u001b[39m=\u001b[39;49mquery,\n\u001b[1;32m   1041\u001b[0m     answer_coordinates\u001b[39m=\u001b[39;49manswer_coordinates,\n\u001b[1;32m   1042\u001b[0m     answer_text\u001b[39m=\u001b[39;49manswer_text,\n\u001b[1;32m   1043\u001b[0m     add_special_tokens\u001b[39m=\u001b[39;49madd_special_tokens,\n\u001b[1;32m   1044\u001b[0m     truncation\u001b[39m=\u001b[39;49mtruncation,\n\u001b[1;32m   1045\u001b[0m     padding\u001b[39m=\u001b[39;49mpadding,\n\u001b[1;32m   1046\u001b[0m     max_length\u001b[39m=\u001b[39;49mmax_length,\n\u001b[1;32m   1047\u001b[0m     pad_to_multiple_of\u001b[39m=\u001b[39;49mpad_to_multiple_of,\n\u001b[1;32m   1048\u001b[0m     return_tensors\u001b[39m=\u001b[39;49mreturn_tensors,\n\u001b[1;32m   1049\u001b[0m     return_token_type_ids\u001b[39m=\u001b[39;49mreturn_token_type_ids,\n\u001b[1;32m   1050\u001b[0m     return_attention_mask\u001b[39m=\u001b[39;49mreturn_attention_mask,\n\u001b[1;32m   1051\u001b[0m     return_special_tokens_mask\u001b[39m=\u001b[39;49mreturn_special_tokens_mask,\n\u001b[1;32m   1052\u001b[0m     return_offsets_mapping\u001b[39m=\u001b[39;49mreturn_offsets_mapping,\n\u001b[1;32m   1053\u001b[0m     return_length\u001b[39m=\u001b[39;49mreturn_length,\n\u001b[1;32m   1054\u001b[0m     verbose\u001b[39m=\u001b[39;49mverbose,\n\u001b[1;32m   1055\u001b[0m     \u001b[39m*\u001b[39;49m\u001b[39m*\u001b[39;49mkwargs,\n\u001b[1;32m   1056\u001b[0m )\n",
            "File \u001b[0;32m~/.virtualenvs/pineconeExamples/lib/python3.10/site-packages/transformers/models/tapas/tokenization_tapas.py:1089\u001b[0m, in \u001b[0;36mTapasTokenizer._encode_plus\u001b[0;34m(self, table, query, answer_coordinates, answer_text, add_special_tokens, padding, truncation, max_length, pad_to_multiple_of, return_tensors, return_token_type_ids, return_attention_mask, return_special_tokens_mask, return_offsets_mapping, return_length, verbose, **kwargs)\u001b[0m\n\u001b[1;32m   1083\u001b[0m     query \u001b[39m=\u001b[39m \u001b[39m\"\u001b[39m\u001b[39m\"\u001b[39m\n\u001b[1;32m   1084\u001b[0m     logger\u001b[39m.\u001b[39mwarning(\n\u001b[1;32m   1085\u001b[0m         \u001b[39m\"\u001b[39m\u001b[39mTAPAS is a question answering model but you have not passed a query. Please be aware that the \u001b[39m\u001b[39m\"\u001b[39m\n\u001b[1;32m   1086\u001b[0m         \u001b[39m\"\u001b[39m\u001b[39mmodel will probably not behave correctly.\u001b[39m\u001b[39m\"\u001b[39m\n\u001b[1;32m   1087\u001b[0m     )\n\u001b[0;32m-> 1089\u001b[0m table_tokens \u001b[39m=\u001b[39m \u001b[39mself\u001b[39;49m\u001b[39m.\u001b[39;49m_tokenize_table(table)\n\u001b[1;32m   1090\u001b[0m query, query_tokens \u001b[39m=\u001b[39m \u001b[39mself\u001b[39m\u001b[39m.\u001b[39m_get_question_tokens(query)\n\u001b[1;32m   1092\u001b[0m \u001b[39mreturn\u001b[39;00m \u001b[39mself\u001b[39m\u001b[39m.\u001b[39mprepare_for_model(\n\u001b[1;32m   1093\u001b[0m     table,\n\u001b[1;32m   1094\u001b[0m     query,\n\u001b[0;32m   (...)\u001b[0m\n\u001b[1;32m   1110\u001b[0m     verbose\u001b[39m=\u001b[39mverbose,\n\u001b[1;32m   1111\u001b[0m )\n",
            "File \u001b[0;32m~/.virtualenvs/pineconeExamples/lib/python3.10/site-packages/transformers/models/tapas/tokenization_tapas.py:1388\u001b[0m, in \u001b[0;36mTapasTokenizer._tokenize_table\u001b[0;34m(self, table)\u001b[0m\n\u001b[1;32m   1386\u001b[0m     tokenized_row \u001b[39m=\u001b[39m []\n\u001b[1;32m   1387\u001b[0m     \u001b[39mfor\u001b[39;00m cell \u001b[39min\u001b[39;00m row:\n\u001b[0;32m-> 1388\u001b[0m         tokenized_row\u001b[39m.\u001b[39mappend(\u001b[39mself\u001b[39;49m\u001b[39m.\u001b[39;49mtokenize(cell))\n\u001b[1;32m   1389\u001b[0m     tokenized_rows\u001b[39m.\u001b[39mappend(tokenized_row)\n\u001b[1;32m   1391\u001b[0m token_coordinates \u001b[39m=\u001b[39m []\n",
            "File \u001b[0;32m~/.virtualenvs/pineconeExamples/lib/python3.10/site-packages/transformers/tokenization_utils.py:514\u001b[0m, in \u001b[0;36mPreTrainedTokenizer.tokenize\u001b[0;34m(self, text, **kwargs)\u001b[0m\n\u001b[1;32m    510\u001b[0m     escaped_special_toks \u001b[39m=\u001b[39m [\n\u001b[1;32m    511\u001b[0m         re\u001b[39m.\u001b[39mescape(s_tok) \u001b[39mfor\u001b[39;00m s_tok \u001b[39min\u001b[39;00m (\u001b[39mself\u001b[39m\u001b[39m.\u001b[39munique_no_split_tokens \u001b[39m+\u001b[39m \u001b[39mself\u001b[39m\u001b[39m.\u001b[39mall_special_tokens)\n\u001b[1;32m    512\u001b[0m     ]\n\u001b[1;32m    513\u001b[0m     pattern \u001b[39m=\u001b[39m \u001b[39mr\u001b[39m\u001b[39m\"\u001b[39m\u001b[39m(\u001b[39m\u001b[39m\"\u001b[39m \u001b[39m+\u001b[39m \u001b[39mr\u001b[39m\u001b[39m\"\u001b[39m\u001b[39m|\u001b[39m\u001b[39m\"\u001b[39m\u001b[39m.\u001b[39mjoin(escaped_special_toks) \u001b[39m+\u001b[39m \u001b[39mr\u001b[39m\u001b[39m\"\u001b[39m\u001b[39m)|\u001b[39m\u001b[39m\"\u001b[39m \u001b[39m+\u001b[39m \u001b[39mr\u001b[39m\u001b[39m\"\u001b[39m\u001b[39m(.+?)\u001b[39m\u001b[39m\"\u001b[39m\n\u001b[0;32m--> 514\u001b[0m     text \u001b[39m=\u001b[39m re\u001b[39m.\u001b[39;49msub(pattern, \u001b[39mlambda\u001b[39;49;00m m: m\u001b[39m.\u001b[39;49mgroups()[\u001b[39m0\u001b[39;49m] \u001b[39mor\u001b[39;49;00m m\u001b[39m.\u001b[39;49mgroups()[\u001b[39m1\u001b[39;49m]\u001b[39m.\u001b[39;49mlower(), text)\n\u001b[1;32m    516\u001b[0m no_split_token \u001b[39m=\u001b[39m \u001b[39mset\u001b[39m(\u001b[39mself\u001b[39m\u001b[39m.\u001b[39munique_no_split_tokens)\n\u001b[1;32m    517\u001b[0m tokens \u001b[39m=\u001b[39m \u001b[39mself\u001b[39m\u001b[39m.\u001b[39mtokens_trie\u001b[39m.\u001b[39msplit(text)\n",
            "File \u001b[0;32m~/.pyenv/versions/3.10.9/lib/python3.10/re.py:209\u001b[0m, in \u001b[0;36msub\u001b[0;34m(pattern, repl, string, count, flags)\u001b[0m\n\u001b[1;32m    202\u001b[0m \u001b[39mdef\u001b[39;00m \u001b[39msub\u001b[39m(pattern, repl, string, count\u001b[39m=\u001b[39m\u001b[39m0\u001b[39m, flags\u001b[39m=\u001b[39m\u001b[39m0\u001b[39m):\n\u001b[1;32m    203\u001b[0m \u001b[39m    \u001b[39m\u001b[39m\"\"\"Return the string obtained by replacing the leftmost\u001b[39;00m\n\u001b[1;32m    204\u001b[0m \u001b[39m    non-overlapping occurrences of the pattern in string by the\u001b[39;00m\n\u001b[1;32m    205\u001b[0m \u001b[39m    replacement repl.  repl can be either a string or a callable;\u001b[39;00m\n\u001b[1;32m    206\u001b[0m \u001b[39m    if a string, backslash escapes in it are processed.  If it is\u001b[39;00m\n\u001b[1;32m    207\u001b[0m \u001b[39m    a callable, it's passed the Match object and must return\u001b[39;00m\n\u001b[1;32m    208\u001b[0m \u001b[39m    a replacement string to be used.\"\"\"\u001b[39;00m\n\u001b[0;32m--> 209\u001b[0m     \u001b[39mreturn\u001b[39;00m _compile(pattern, flags)\u001b[39m.\u001b[39;49msub(repl, string, count)\n",
            "\u001b[0;31mTypeError\u001b[0m: expected string or bytes-like object"
          ]
        }
      ],
      "source": [
        "pipe(table=tables[id], query=query)"
      ]
    },
    {
      "cell_type": "markdown",
      "metadata": {},
      "source": [
        "## end of ss"
      ]
    },
    {
      "cell_type": "code",
      "execution_count": null,
      "metadata": {},
      "outputs": [],
      "source": []
    },
    {
      "cell_type": "markdown",
      "metadata": {
        "id": "LiHFszRrnRyC"
      },
      "source": [
        "Now the Pinecone index is ready for querying. Let's test to see if it returns tables relevant to our queries."
      ]
    },
    {
      "cell_type": "code",
      "execution_count": 97,
      "metadata": {},
      "outputs": [
        {
          "data": {
            "text/plain": [
              "{'matches': [{'id': '19931', 'score': 0.82208693, 'values': []}],\n",
              " 'namespace': ''}"
            ]
          },
          "execution_count": 97,
          "metadata": {},
          "output_type": "execute_result"
        }
      ],
      "source": [
        "query = \"which country has the highest GDP in 2020?\"\n",
        "# generate embedding for the query\n",
        "xq = retriever.encode([query]).tolist()\n",
        "# query pinecone index to find the table containing answer to the query\n",
        "result = index.query(xq, top_k=1)\n",
        "result\n"
      ]
    },
    {
      "cell_type": "markdown",
      "metadata": {
        "id": "sx8zgRSYrVB8"
      },
      "source": [
        "The Pinecone index has returned the ```id``` of a table that would contain the answer to our query with 82.2% confidence. Let's see if this table actually contains the answer. We can use the returned ```id``` as an index to get the relevant pandas dataframe from the ```tables``` list."
      ]
    },
    {
      "cell_type": "code",
      "execution_count": 98,
      "metadata": {
        "colab": {
          "base_uri": "https://localhost:8080/",
          "height": 206
        },
        "id": "K-T9yXZtpb2h",
        "outputId": "6ac4c51e-c1f3-4565-83a4-df7ceb409f4f"
      },
      "outputs": [
        {
          "data": {
            "text/html": [
              "<div>\n",
              "<style scoped>\n",
              "    .dataframe tbody tr th:only-of-type {\n",
              "        vertical-align: middle;\n",
              "    }\n",
              "\n",
              "    .dataframe tbody tr th {\n",
              "        vertical-align: top;\n",
              "    }\n",
              "\n",
              "    .dataframe thead th {\n",
              "        text-align: right;\n",
              "    }\n",
              "</style>\n",
              "<table border=\"1\" class=\"dataframe\">\n",
              "  <thead>\n",
              "    <tr style=\"text-align: right;\">\n",
              "      <th></th>\n",
              "      <th>Rank</th>\n",
              "      <th>Country</th>\n",
              "      <th>GDP ( PPP , Peak Year ) millions of USD</th>\n",
              "      <th>Peak Year</th>\n",
              "    </tr>\n",
              "  </thead>\n",
              "  <tbody>\n",
              "    <tr>\n",
              "      <th>0</th>\n",
              "      <td>1</td>\n",
              "      <td>China</td>\n",
              "      <td>27,804,953</td>\n",
              "      <td>2020</td>\n",
              "    </tr>\n",
              "    <tr>\n",
              "      <th>1</th>\n",
              "      <td>2</td>\n",
              "      <td>India</td>\n",
              "      <td>11,321,280</td>\n",
              "      <td>2020</td>\n",
              "    </tr>\n",
              "    <tr>\n",
              "      <th>2</th>\n",
              "      <td>3</td>\n",
              "      <td>Russia</td>\n",
              "      <td>4,389,960</td>\n",
              "      <td>2019</td>\n",
              "    </tr>\n",
              "    <tr>\n",
              "      <th>3</th>\n",
              "      <td>4</td>\n",
              "      <td>Indonesia</td>\n",
              "      <td>3,778,134</td>\n",
              "      <td>2020</td>\n",
              "    </tr>\n",
              "    <tr>\n",
              "      <th>4</th>\n",
              "      <td>5</td>\n",
              "      <td>Brazil</td>\n",
              "      <td>3,596,841</td>\n",
              "      <td>2020</td>\n",
              "    </tr>\n",
              "  </tbody>\n",
              "</table>\n",
              "</div>"
            ],
            "text/plain": [
              "  Rank    Country GDP ( PPP , Peak Year ) millions of USD Peak Year\n",
              "0    1      China                              27,804,953      2020\n",
              "1    2      India                              11,321,280      2020\n",
              "2    3     Russia                               4,389,960      2019\n",
              "3    4  Indonesia                               3,778,134      2020\n",
              "4    5     Brazil                               3,596,841      2020"
            ]
          },
          "execution_count": 98,
          "metadata": {},
          "output_type": "execute_result"
        }
      ],
      "source": [
        "id = int(result[\"matches\"][0][\"id\"])\n",
        "tables[id].head()"
      ]
    },
    {
      "cell_type": "code",
      "execution_count": 99,
      "metadata": {},
      "outputs": [
        {
          "data": {
            "text/html": [
              "<div>\n",
              "<style scoped>\n",
              "    .dataframe tbody tr th:only-of-type {\n",
              "        vertical-align: middle;\n",
              "    }\n",
              "\n",
              "    .dataframe tbody tr th {\n",
              "        vertical-align: top;\n",
              "    }\n",
              "\n",
              "    .dataframe thead th {\n",
              "        text-align: right;\n",
              "    }\n",
              "</style>\n",
              "<table border=\"1\" class=\"dataframe\">\n",
              "  <thead>\n",
              "    <tr style=\"text-align: right;\">\n",
              "      <th></th>\n",
              "      <th>Rank</th>\n",
              "      <th>Country</th>\n",
              "      <th>GDP ( PPP , Peak Year ) millions of USD</th>\n",
              "      <th>Peak Year</th>\n",
              "    </tr>\n",
              "  </thead>\n",
              "  <tbody>\n",
              "    <tr>\n",
              "      <th>0</th>\n",
              "      <td>1</td>\n",
              "      <td>China</td>\n",
              "      <td>27,804,953</td>\n",
              "      <td>2020</td>\n",
              "    </tr>\n",
              "    <tr>\n",
              "      <th>1</th>\n",
              "      <td>2</td>\n",
              "      <td>India</td>\n",
              "      <td>11,321,280</td>\n",
              "      <td>2020</td>\n",
              "    </tr>\n",
              "    <tr>\n",
              "      <th>2</th>\n",
              "      <td>3</td>\n",
              "      <td>Russia</td>\n",
              "      <td>4,389,960</td>\n",
              "      <td>2019</td>\n",
              "    </tr>\n",
              "    <tr>\n",
              "      <th>3</th>\n",
              "      <td>4</td>\n",
              "      <td>Indonesia</td>\n",
              "      <td>3,778,134</td>\n",
              "      <td>2020</td>\n",
              "    </tr>\n",
              "    <tr>\n",
              "      <th>4</th>\n",
              "      <td>5</td>\n",
              "      <td>Brazil</td>\n",
              "      <td>3,596,841</td>\n",
              "      <td>2020</td>\n",
              "    </tr>\n",
              "  </tbody>\n",
              "</table>\n",
              "</div>"
            ],
            "text/plain": [
              "  Rank    Country GDP ( PPP , Peak Year ) millions of USD Peak Year\n",
              "0    1      China                              27,804,953      2020\n",
              "1    2      India                              11,321,280      2020\n",
              "2    3     Russia                               4,389,960      2019\n",
              "3    4  Indonesia                               3,778,134      2020\n",
              "4    5     Brazil                               3,596,841      2020"
            ]
          },
          "execution_count": 99,
          "metadata": {},
          "output_type": "execute_result"
        }
      ],
      "source": [
        "id = int(result[\"matches\"][0][\"id\"])\n",
        "tables[id].head()"
      ]
    },
    {
      "cell_type": "markdown",
      "metadata": {
        "id": "P3A47xkzuPRx"
      },
      "source": [
        "The table returned by the Pinecone index indeed has the answer to our query. Now we need a model that can read this table and extract the precise answer."
      ]
    },
    {
      "cell_type": "markdown",
      "metadata": {
        "id": "ssatLvB9BUe3"
      },
      "source": [
        "# Initialize Table Reader"
      ]
    },
    {
      "cell_type": "markdown",
      "metadata": {
        "id": "4dwePzfAvS0t"
      },
      "source": [
        "As the reader, we will use a TAPAS model fine-tuned for the Table QA task. TAPAS is a BERT-like Transformer model pretrained in a self-supervised manner on a large corpus of English language data from Wikipedia. We load the model and tokenizer from the Huggingface model hub into a question-answering pipeline."
      ]
    },
    {
      "cell_type": "code",
      "execution_count": null,
      "metadata": {},
      "outputs": [],
      "source": [
        "#ss\n",
        "## tapas: https://huggingface.co/google/tapas-base-finetuned-wtq\n",
        "# pipelines https://huggingface.co/transformers/main_classes/pipelines.html\n",
        "# https://huggingface.co/transformers/main_classes/pipelines.html#transformers.QuestionAnsweringPipeline\n",
        "# https://huggingface.co/transformers/main_classes/pipelines.html#transformers.TableQuestionAnsweringPipeline\n"
      ]
    },
    {
      "cell_type": "code",
      "execution_count": 95,
      "metadata": {
        "colab": {
          "base_uri": "https://localhost:8080/",
          "height": 49,
          "referenced_widgets": [
            "234b6430d08d424a8d19153a0f74bc52",
            "f08de790d64a4e5f81705d4cbbf5968d",
            "f453b86b909b40cb89d6636c7b7a5c9d",
            "b4a30af0fbc144b48d295af549ba2d53",
            "82e6aa18d2644f299625377308af5912",
            "ab5b4aa08da64a5ea08cb3ab407a1b88",
            "f7ef382b17294e9a890118bcc55cc879",
            "ea8d8ce27d7746d9bb928fa87dd67610",
            "383da807081440a4956ff80a7093a60c",
            "4338622351e44f06bf6e47d700ffa41b",
            "10dba06df8a0422e9863eb2991922816"
          ]
        },
        "id": "bG2umGVi71CD",
        "outputId": "2bde6f52-f322-4dca-d1de-80a33017c375"
      },
      "outputs": [],
      "source": [
        "from transformers import pipeline, TapasTokenizer, TapasForQuestionAnswering\n",
        "\n",
        "model_name = \"google/tapas-base-finetuned-wtq\"\n",
        "# load the tokenizer and the model from huggingface model hub\n",
        "tokenizer = TapasTokenizer.from_pretrained(model_name)\n",
        "model = TapasForQuestionAnswering.from_pretrained(model_name, local_files_only=False)\n",
        "# load the model and tokenizer into a question-answering pipeline\n",
        "pipe = pipeline(\"table-question-answering\",  model=model, tokenizer=tokenizer, device=device)"
      ]
    },
    {
      "cell_type": "markdown",
      "metadata": {
        "id": "irYNVILy4iAq"
      },
      "source": [
        "Let's run the table returned by the Pinecone index and the query we used before into the question-answering pipeline to extract the answer."
      ]
    },
    {
      "cell_type": "code",
      "execution_count": 100,
      "metadata": {
        "colab": {
          "base_uri": "https://localhost:8080/"
        },
        "id": "teqRR63T1gTh",
        "outputId": "f5b25c5d-afce-4be3-99e5-2c16c6b892d9"
      },
      "outputs": [
        {
          "data": {
            "text/plain": [
              "{'answer': 'China',\n",
              " 'coordinates': [(0, 1)],\n",
              " 'cells': ['China'],\n",
              " 'aggregator': 'NONE'}"
            ]
          },
          "execution_count": 100,
          "metadata": {},
          "output_type": "execute_result"
        }
      ],
      "source": [
        "pipe(table=tables[id], query=query)"
      ]
    },
    {
      "cell_type": "markdown",
      "metadata": {
        "id": "FPx5qXw70U0c"
      },
      "source": [
        "The model has precisely answered our query. Let's run some more queries."
      ]
    },
    {
      "cell_type": "markdown",
      "metadata": {
        "id": "GPSC0U6QRuSc"
      },
      "source": [
        "# Querying"
      ]
    },
    {
      "cell_type": "markdown",
      "metadata": {
        "id": "TFpoWLPP49Fo"
      },
      "source": [
        "First, we will define two function to handle our queries and extract answers from tables."
      ]
    },
    {
      "cell_type": "code",
      "execution_count": 26,
      "metadata": {
        "id": "Dn75qXt7U_hx"
      },
      "outputs": [],
      "source": [
        "def query_pinecone(query):\n",
        "    # generate embedding for the query\n",
        "    xq = retriever.encode([query]).tolist()\n",
        "    # query pinecone index to find the table containing answer to the query\n",
        "    result = index.query(xq, top_k=1)\n",
        "    # return the relevant table from the tables list\n",
        "    return tables[int(result[\"matches\"][0][\"id\"])]"
      ]
    },
    {
      "cell_type": "code",
      "execution_count": 27,
      "metadata": {
        "id": "jfdX3084WHxB"
      },
      "outputs": [],
      "source": [
        "def get_answer_from_table(table, query):\n",
        "    # run the table and query through the question-answering pipeline\n",
        "    answers = pipe(table=table, query=query)\n",
        "    return answers"
      ]
    },
    {
      "cell_type": "code",
      "execution_count": 28,
      "metadata": {
        "colab": {
          "base_uri": "https://localhost:8080/",
          "height": 332
        },
        "id": "-l0-OkC69_N3",
        "outputId": "12aa9a04-61f0-4dcf-83e1-04a89d0d976d"
      },
      "outputs": [
        {
          "data": {
            "text/html": [
              "<div>\n",
              "<style scoped>\n",
              "    .dataframe tbody tr th:only-of-type {\n",
              "        vertical-align: middle;\n",
              "    }\n",
              "\n",
              "    .dataframe tbody tr th {\n",
              "        vertical-align: top;\n",
              "    }\n",
              "\n",
              "    .dataframe thead th {\n",
              "        text-align: right;\n",
              "    }\n",
              "</style>\n",
              "<table border=\"1\" class=\"dataframe\">\n",
              "  <thead>\n",
              "    <tr style=\"text-align: right;\">\n",
              "      <th></th>\n",
              "      <th>Manufacturer</th>\n",
              "      <th>Model</th>\n",
              "      <th>Engine</th>\n",
              "      <th>Power Output</th>\n",
              "      <th>Max . Speed ( kph )</th>\n",
              "      <th>Dry Weight ( kg )</th>\n",
              "    </tr>\n",
              "  </thead>\n",
              "  <tbody>\n",
              "    <tr>\n",
              "      <th>0</th>\n",
              "      <td>Fiat</td>\n",
              "      <td>805-405</td>\n",
              "      <td>FIAT 1979cc S6 supercharged</td>\n",
              "      <td>130 bhp</td>\n",
              "      <td>220</td>\n",
              "      <td>680</td>\n",
              "    </tr>\n",
              "    <tr>\n",
              "      <th>1</th>\n",
              "      <td>Alfa Romeo</td>\n",
              "      <td>GPR ( P1 )</td>\n",
              "      <td>Alfa Romeo 1990cc S6</td>\n",
              "      <td>95 bhp</td>\n",
              "      <td>180</td>\n",
              "      <td>850</td>\n",
              "    </tr>\n",
              "    <tr>\n",
              "      <th>2</th>\n",
              "      <td>Diatto</td>\n",
              "      <td>Tipo 20 S</td>\n",
              "      <td>Diatto 1997cc S4</td>\n",
              "      <td>75 bhp</td>\n",
              "      <td>155</td>\n",
              "      <td>700</td>\n",
              "    </tr>\n",
              "    <tr>\n",
              "      <th>3</th>\n",
              "      <td>Bugatti</td>\n",
              "      <td>Type 32</td>\n",
              "      <td>Bugatti 1991cc S8</td>\n",
              "      <td>100 bhp</td>\n",
              "      <td>190</td>\n",
              "      <td>660</td>\n",
              "    </tr>\n",
              "    <tr>\n",
              "      <th>4</th>\n",
              "      <td>Voisin</td>\n",
              "      <td>C6 Laboratoire</td>\n",
              "      <td>Voisin 1978cc S6</td>\n",
              "      <td>90 bhp</td>\n",
              "      <td>175</td>\n",
              "      <td>710</td>\n",
              "    </tr>\n",
              "    <tr>\n",
              "      <th>5</th>\n",
              "      <td>Sunbeam</td>\n",
              "      <td></td>\n",
              "      <td>Sunbeam 1988cc S6</td>\n",
              "      <td>108 bhp</td>\n",
              "      <td>180</td>\n",
              "      <td>675</td>\n",
              "    </tr>\n",
              "    <tr>\n",
              "      <th>6</th>\n",
              "      <td>Mercedes</td>\n",
              "      <td>M7294</td>\n",
              "      <td>Mercedes 1990cc S4 supercharged</td>\n",
              "      <td>120 bhp</td>\n",
              "      <td>180</td>\n",
              "      <td>750</td>\n",
              "    </tr>\n",
              "    <tr>\n",
              "      <th>7</th>\n",
              "      <td>Benz</td>\n",
              "      <td>RH Tropfenwagen</td>\n",
              "      <td>Benz 1998cc S6</td>\n",
              "      <td>95 bhp</td>\n",
              "      <td>185</td>\n",
              "      <td>745</td>\n",
              "    </tr>\n",
              "    <tr>\n",
              "      <th>8</th>\n",
              "      <td>Miller</td>\n",
              "      <td>122</td>\n",
              "      <td>Miller 1978cc S8</td>\n",
              "      <td>120 bhp</td>\n",
              "      <td>186</td>\n",
              "      <td>850</td>\n",
              "    </tr>\n",
              "  </tbody>\n",
              "</table>\n",
              "</div>"
            ],
            "text/plain": [
              "  Manufacturer            Model                           Engine Power Output  \\\n",
              "0         Fiat          805-405      FIAT 1979cc S6 supercharged      130 bhp   \n",
              "1   Alfa Romeo       GPR ( P1 )             Alfa Romeo 1990cc S6       95 bhp   \n",
              "2       Diatto        Tipo 20 S                 Diatto 1997cc S4       75 bhp   \n",
              "3      Bugatti          Type 32                Bugatti 1991cc S8      100 bhp   \n",
              "4       Voisin   C6 Laboratoire                 Voisin 1978cc S6       90 bhp   \n",
              "5      Sunbeam                                 Sunbeam 1988cc S6      108 bhp   \n",
              "6     Mercedes            M7294  Mercedes 1990cc S4 supercharged      120 bhp   \n",
              "7         Benz  RH Tropfenwagen                   Benz 1998cc S6       95 bhp   \n",
              "8       Miller              122                 Miller 1978cc S8      120 bhp   \n",
              "\n",
              "  Max . Speed ( kph ) Dry Weight ( kg )  \n",
              "0                 220               680  \n",
              "1                 180               850  \n",
              "2                 155               700  \n",
              "3                 190               660  \n",
              "4                 175               710  \n",
              "5                 180               675  \n",
              "6                 180               750  \n",
              "7                 185               745  \n",
              "8                 186               850  "
            ]
          },
          "execution_count": 28,
          "metadata": {},
          "output_type": "execute_result"
        }
      ],
      "source": [
        "query = \"which car manufacturers produce cars with a top speed of above 180 kph?\"\n",
        "table = query_pinecone(query)\n",
        "table"
      ]
    },
    {
      "cell_type": "code",
      "execution_count": 29,
      "metadata": {
        "colab": {
          "base_uri": "https://localhost:8080/"
        },
        "id": "M8oG9w6AYlAp",
        "outputId": "411bbb57-0fc1-42d6-8453-6692584c3114"
      },
      "outputs": [
        {
          "data": {
            "text/plain": [
              "{'answer': 'Fiat, Bugatti, Benz, Miller',\n",
              " 'coordinates': [(0, 0), (3, 0), (7, 0), (8, 0)],\n",
              " 'cells': ['Fiat', 'Bugatti', 'Benz', 'Miller'],\n",
              " 'aggregator': 'NONE'}"
            ]
          },
          "execution_count": 29,
          "metadata": {},
          "output_type": "execute_result"
        }
      ],
      "source": [
        "get_answer_from_table(table, query)"
      ]
    },
    {
      "cell_type": "code",
      "execution_count": 30,
      "metadata": {
        "colab": {
          "base_uri": "https://localhost:8080/",
          "height": 206
        },
        "id": "50g_9v-uEAPi",
        "outputId": "aece309c-3130-4bc6-a0d1-24b33a844c70"
      },
      "outputs": [
        {
          "data": {
            "text/html": [
              "<div>\n",
              "<style scoped>\n",
              "    .dataframe tbody tr th:only-of-type {\n",
              "        vertical-align: middle;\n",
              "    }\n",
              "\n",
              "    .dataframe tbody tr th {\n",
              "        vertical-align: top;\n",
              "    }\n",
              "\n",
              "    .dataframe thead th {\n",
              "        text-align: right;\n",
              "    }\n",
              "</style>\n",
              "<table border=\"1\" class=\"dataframe\">\n",
              "  <thead>\n",
              "    <tr style=\"text-align: right;\">\n",
              "      <th></th>\n",
              "      <th>Year</th>\n",
              "      <th>Name</th>\n",
              "      <th>Location</th>\n",
              "      <th>Rationale</th>\n",
              "    </tr>\n",
              "  </thead>\n",
              "  <tbody>\n",
              "    <tr>\n",
              "      <th>0</th>\n",
              "      <td>1839</td>\n",
              "      <td>Robert Hare</td>\n",
              "      <td>Philadelphia , Pennsylvania</td>\n",
              "      <td>Inventor of the oxy-hydrogen blowpipe</td>\n",
              "    </tr>\n",
              "    <tr>\n",
              "      <th>1</th>\n",
              "      <td>1862</td>\n",
              "      <td>John Ericsson</td>\n",
              "      <td>New York , New York</td>\n",
              "      <td>His work improved the field of heat management...</td>\n",
              "    </tr>\n",
              "    <tr>\n",
              "      <th>2</th>\n",
              "      <td>1865</td>\n",
              "      <td>Daniel Treadwell</td>\n",
              "      <td>Cambridge , Massachusetts</td>\n",
              "      <td>Heat management . He was awarded especially fo...</td>\n",
              "    </tr>\n",
              "    <tr>\n",
              "      <th>3</th>\n",
              "      <td>1866</td>\n",
              "      <td>Alvan Clark</td>\n",
              "      <td>Cambridge , Massachusetts</td>\n",
              "      <td>Improved refracting telescopes</td>\n",
              "    </tr>\n",
              "    <tr>\n",
              "      <th>4</th>\n",
              "      <td>1869</td>\n",
              "      <td>George Henry Corliss</td>\n",
              "      <td>Providence , Rhode Island</td>\n",
              "      <td>For improving the steam engine</td>\n",
              "    </tr>\n",
              "  </tbody>\n",
              "</table>\n",
              "</div>"
            ],
            "text/plain": [
              "   Year                  Name                     Location  \\\n",
              "0  1839           Robert Hare  Philadelphia , Pennsylvania   \n",
              "1  1862         John Ericsson          New York , New York   \n",
              "2  1865      Daniel Treadwell    Cambridge , Massachusetts   \n",
              "3  1866           Alvan Clark    Cambridge , Massachusetts   \n",
              "4  1869  George Henry Corliss    Providence , Rhode Island   \n",
              "\n",
              "                                           Rationale  \n",
              "0              Inventor of the oxy-hydrogen blowpipe  \n",
              "1  His work improved the field of heat management...  \n",
              "2  Heat management . He was awarded especially fo...  \n",
              "3                     Improved refracting telescopes  \n",
              "4                     For improving the steam engine  "
            ]
          },
          "execution_count": 30,
          "metadata": {},
          "output_type": "execute_result"
        }
      ],
      "source": [
        "query = \"which scientist is known for improving the steam engine?\"\n",
        "table = query_pinecone(query)\n",
        "table.head()"
      ]
    },
    {
      "cell_type": "code",
      "execution_count": 31,
      "metadata": {
        "colab": {
          "base_uri": "https://localhost:8080/"
        },
        "id": "tIBhlsF-ZYgI",
        "outputId": "7c0c41e1-5f59-4822-9e2b-bdb424e503e4"
      },
      "outputs": [
        {
          "data": {
            "text/plain": [
              "{'answer': 'George Henry Corliss',\n",
              " 'coordinates': [(4, 1)],\n",
              " 'cells': ['George Henry Corliss'],\n",
              " 'aggregator': 'NONE'}"
            ]
          },
          "execution_count": 31,
          "metadata": {},
          "output_type": "execute_result"
        }
      ],
      "source": [
        "get_answer_from_table(table, query)"
      ]
    },
    {
      "cell_type": "code",
      "execution_count": 32,
      "metadata": {
        "colab": {
          "base_uri": "https://localhost:8080/",
          "height": 206
        },
        "id": "uy1dDZSUphKw",
        "outputId": "b3df24b4-0fbd-40b3-98c0-c3c4d1b8c801"
      },
      "outputs": [
        {
          "data": {
            "text/html": [
              "<div>\n",
              "<style scoped>\n",
              "    .dataframe tbody tr th:only-of-type {\n",
              "        vertical-align: middle;\n",
              "    }\n",
              "\n",
              "    .dataframe tbody tr th {\n",
              "        vertical-align: top;\n",
              "    }\n",
              "\n",
              "    .dataframe thead th {\n",
              "        text-align: right;\n",
              "    }\n",
              "</style>\n",
              "<table border=\"1\" class=\"dataframe\">\n",
              "  <thead>\n",
              "    <tr style=\"text-align: right;\">\n",
              "      <th></th>\n",
              "      <th>Name</th>\n",
              "      <th>Resort Name</th>\n",
              "      <th>Geographic Atoll</th>\n",
              "    </tr>\n",
              "  </thead>\n",
              "  <tbody>\n",
              "    <tr>\n",
              "      <th>0</th>\n",
              "      <td>Asdhoo</td>\n",
              "      <td>Asdu Sun Island Resort</td>\n",
              "      <td>North Male Atoll</td>\n",
              "    </tr>\n",
              "    <tr>\n",
              "      <th>1</th>\n",
              "      <td>Akirifushi</td>\n",
              "      <td>Oblu Select at Sangeli</td>\n",
              "      <td>North Male Atoll</td>\n",
              "    </tr>\n",
              "    <tr>\n",
              "      <th>2</th>\n",
              "      <td>Baros</td>\n",
              "      <td>Baros Island Resort</td>\n",
              "      <td>North Male Atoll</td>\n",
              "    </tr>\n",
              "    <tr>\n",
              "      <th>3</th>\n",
              "      <td>Biyaadhoo</td>\n",
              "      <td>Biyadhoo Island Resort</td>\n",
              "      <td>South Male Atoll</td>\n",
              "    </tr>\n",
              "    <tr>\n",
              "      <th>4</th>\n",
              "      <td>Bodubandos</td>\n",
              "      <td>Bandos Maldives Resort</td>\n",
              "      <td>North Male Atoll</td>\n",
              "    </tr>\n",
              "  </tbody>\n",
              "</table>\n",
              "</div>"
            ],
            "text/plain": [
              "         Name             Resort Name  Geographic Atoll\n",
              "0      Asdhoo  Asdu Sun Island Resort  North Male Atoll\n",
              "1  Akirifushi  Oblu Select at Sangeli  North Male Atoll\n",
              "2       Baros     Baros Island Resort  North Male Atoll\n",
              "3   Biyaadhoo  Biyadhoo Island Resort  South Male Atoll\n",
              "4  Bodubandos  Bandos Maldives Resort  North Male Atoll"
            ]
          },
          "execution_count": 32,
          "metadata": {},
          "output_type": "execute_result"
        }
      ],
      "source": [
        "query = \"What is the Maldivian island name for Oblu Select at Sangeli\tresort?\"\n",
        "table = query_pinecone(query)\n",
        "table.head()"
      ]
    },
    {
      "cell_type": "code",
      "execution_count": 33,
      "metadata": {
        "colab": {
          "base_uri": "https://localhost:8080/"
        },
        "id": "jxmUzLlzuZbP",
        "outputId": "bead739a-4187-4764-bbfb-c14f3f1f4c5a"
      },
      "outputs": [
        {
          "data": {
            "text/plain": [
              "{'answer': 'Akirifushi',\n",
              " 'coordinates': [(1, 0)],\n",
              " 'cells': ['Akirifushi'],\n",
              " 'aggregator': 'NONE'}"
            ]
          },
          "execution_count": 33,
          "metadata": {},
          "output_type": "execute_result"
        }
      ],
      "source": [
        "get_answer_from_table(table, query)"
      ]
    },
    {
      "cell_type": "markdown",
      "metadata": {
        "id": "p7vUy_zP8DQB"
      },
      "source": [
        "As we can see, our Table QA system can retrieve the correct table from the Pinecone index and extract precise answers from the table. The TAPAS model we use supports more advanced queries. It has an aggregation head which indicates whether we need to count, sum, or average cells to answer the questions. Let's run some advanced queries that require aggregation to answer."
      ]
    },
    {
      "cell_type": "code",
      "execution_count": 34,
      "metadata": {
        "colab": {
          "base_uri": "https://localhost:8080/",
          "height": 206
        },
        "id": "cIGTeOMJxrGu",
        "outputId": "e9ef6122-c15f-42ab-c325-c1b59e6cced2"
      },
      "outputs": [
        {
          "data": {
            "text/html": [
              "<div>\n",
              "<style scoped>\n",
              "    .dataframe tbody tr th:only-of-type {\n",
              "        vertical-align: middle;\n",
              "    }\n",
              "\n",
              "    .dataframe tbody tr th {\n",
              "        vertical-align: top;\n",
              "    }\n",
              "\n",
              "    .dataframe thead th {\n",
              "        text-align: right;\n",
              "    }\n",
              "</style>\n",
              "<table border=\"1\" class=\"dataframe\">\n",
              "  <thead>\n",
              "    <tr style=\"text-align: right;\">\n",
              "      <th></th>\n",
              "      <th>Rank</th>\n",
              "      <th>Country</th>\n",
              "      <th>GDP ( PPP , Peak Year ) millions of USD</th>\n",
              "      <th>Peak Year</th>\n",
              "    </tr>\n",
              "  </thead>\n",
              "  <tbody>\n",
              "    <tr>\n",
              "      <th>0</th>\n",
              "      <td>1</td>\n",
              "      <td>China</td>\n",
              "      <td>27,804,953</td>\n",
              "      <td>2020</td>\n",
              "    </tr>\n",
              "    <tr>\n",
              "      <th>1</th>\n",
              "      <td>2</td>\n",
              "      <td>India</td>\n",
              "      <td>11,321,280</td>\n",
              "      <td>2020</td>\n",
              "    </tr>\n",
              "    <tr>\n",
              "      <th>2</th>\n",
              "      <td>3</td>\n",
              "      <td>Russia</td>\n",
              "      <td>4,389,960</td>\n",
              "      <td>2019</td>\n",
              "    </tr>\n",
              "    <tr>\n",
              "      <th>3</th>\n",
              "      <td>4</td>\n",
              "      <td>Indonesia</td>\n",
              "      <td>3,778,134</td>\n",
              "      <td>2020</td>\n",
              "    </tr>\n",
              "    <tr>\n",
              "      <th>4</th>\n",
              "      <td>5</td>\n",
              "      <td>Brazil</td>\n",
              "      <td>3,596,841</td>\n",
              "      <td>2020</td>\n",
              "    </tr>\n",
              "  </tbody>\n",
              "</table>\n",
              "</div>"
            ],
            "text/plain": [
              "  Rank    Country GDP ( PPP , Peak Year ) millions of USD Peak Year\n",
              "0    1      China                              27,804,953      2020\n",
              "1    2      India                              11,321,280      2020\n",
              "2    3     Russia                               4,389,960      2019\n",
              "3    4  Indonesia                               3,778,134      2020\n",
              "4    5     Brazil                               3,596,841      2020"
            ]
          },
          "execution_count": 34,
          "metadata": {},
          "output_type": "execute_result"
        }
      ],
      "source": [
        "query = \"what was the total GDP of China and Indonesia in 2020?\"\n",
        "table = query_pinecone(query)\n",
        "table.head()"
      ]
    },
    {
      "cell_type": "code",
      "execution_count": 35,
      "metadata": {
        "colab": {
          "base_uri": "https://localhost:8080/"
        },
        "id": "O8zFOh8F0ut-",
        "outputId": "978ce1f8-6532-4710-d195-131c45ad6e36"
      },
      "outputs": [
        {
          "data": {
            "text/plain": [
              "{'answer': 'SUM > 27,804,953, 3,778,134',\n",
              " 'coordinates': [(0, 2), (3, 2)],\n",
              " 'cells': ['27,804,953', '3,778,134'],\n",
              " 'aggregator': 'SUM'}"
            ]
          },
          "execution_count": 35,
          "metadata": {},
          "output_type": "execute_result"
        }
      ],
      "source": [
        "get_answer_from_table(table, query)"
      ]
    },
    {
      "cell_type": "markdown",
      "metadata": {
        "id": "vB3s21XJEkpr"
      },
      "source": [
        "Here the QA system suggests the correct cells to add in order to get the total GDP of China and Indonesia in 2020."
      ]
    },
    {
      "cell_type": "code",
      "execution_count": 36,
      "metadata": {
        "colab": {
          "base_uri": "https://localhost:8080/",
          "height": 206
        },
        "id": "VsEup2NXAjjK",
        "outputId": "ce29bfb6-22d1-4fcf-b469-877e55b0a406"
      },
      "outputs": [
        {
          "data": {
            "text/html": [
              "<div>\n",
              "<style scoped>\n",
              "    .dataframe tbody tr th:only-of-type {\n",
              "        vertical-align: middle;\n",
              "    }\n",
              "\n",
              "    .dataframe tbody tr th {\n",
              "        vertical-align: top;\n",
              "    }\n",
              "\n",
              "    .dataframe thead th {\n",
              "        text-align: right;\n",
              "    }\n",
              "</style>\n",
              "<table border=\"1\" class=\"dataframe\">\n",
              "  <thead>\n",
              "    <tr style=\"text-align: right;\">\n",
              "      <th></th>\n",
              "      <th>CO 2 intensity ( kg/kWh )</th>\n",
              "      <th>Power station</th>\n",
              "      <th>Country</th>\n",
              "    </tr>\n",
              "  </thead>\n",
              "  <tbody>\n",
              "    <tr>\n",
              "      <th>0</th>\n",
              "      <td>1.58</td>\n",
              "      <td>Hazelwood Power Station , Victoria closed 31 M...</td>\n",
              "      <td>Australia</td>\n",
              "    </tr>\n",
              "    <tr>\n",
              "      <th>1</th>\n",
              "      <td>1.56</td>\n",
              "      <td>Edwardsport IGCC , Edwardsport , Indiana , clo...</td>\n",
              "      <td>United States</td>\n",
              "    </tr>\n",
              "    <tr>\n",
              "      <th>2</th>\n",
              "      <td>1.27</td>\n",
              "      <td>Frimmersdorf power plant , Grevenbroich</td>\n",
              "      <td>Germany</td>\n",
              "    </tr>\n",
              "    <tr>\n",
              "      <th>3</th>\n",
              "      <td>1.25</td>\n",
              "      <td>HR Milner Generating Station , Grande Cache , ...</td>\n",
              "      <td>Canada</td>\n",
              "    </tr>\n",
              "    <tr>\n",
              "      <th>4</th>\n",
              "      <td>1.18</td>\n",
              "      <td>C. TG . Portes Gil , Río Bravo</td>\n",
              "      <td>Mexico</td>\n",
              "    </tr>\n",
              "  </tbody>\n",
              "</table>\n",
              "</div>"
            ],
            "text/plain": [
              "  CO 2 intensity ( kg/kWh )  \\\n",
              "0                      1.58   \n",
              "1                      1.56   \n",
              "2                      1.27   \n",
              "3                      1.25   \n",
              "4                      1.18   \n",
              "\n",
              "                                       Power station        Country  \n",
              "0  Hazelwood Power Station , Victoria closed 31 M...      Australia  \n",
              "1  Edwardsport IGCC , Edwardsport , Indiana , clo...  United States  \n",
              "2            Frimmersdorf power plant , Grevenbroich        Germany  \n",
              "3  HR Milner Generating Station , Grande Cache , ...         Canada  \n",
              "4                     C. TG . Portes Gil , Río Bravo         Mexico  "
            ]
          },
          "execution_count": 36,
          "metadata": {},
          "output_type": "execute_result"
        }
      ],
      "source": [
        "query = \"what is the average carbon emission of power stations in australia, canada and germany?\"\n",
        "table = query_pinecone(query)\n",
        "table.head()"
      ]
    },
    {
      "cell_type": "code",
      "execution_count": 37,
      "metadata": {
        "colab": {
          "base_uri": "https://localhost:8080/"
        },
        "id": "pYGooFcrGc8Q",
        "outputId": "67cc0dfc-b825-466c-cee7-978152f5ff69"
      },
      "outputs": [
        {
          "data": {
            "text/plain": [
              "{'answer': 'AVERAGE > 1.58, 1.27, 1.25',\n",
              " 'coordinates': [(0, 0), (2, 0), (3, 0)],\n",
              " 'cells': ['1.58', '1.27', '1.25'],\n",
              " 'aggregator': 'AVERAGE'}"
            ]
          },
          "execution_count": 37,
          "metadata": {},
          "output_type": "execute_result"
        }
      ],
      "source": [
        "get_answer_from_table(table, query)"
      ]
    },
    {
      "cell_type": "markdown",
      "metadata": {
        "id": "HG8lPC0ONWxx"
      },
      "source": [
        "As we can see, the QA system correctly identified which cells to average to answer our question."
      ]
    },
    {
      "attachments": {},
      "cell_type": "markdown",
      "metadata": {},
      "source": [
        "# start ss"
      ]
    },
    {
      "cell_type": "code",
      "execution_count": 105,
      "metadata": {},
      "outputs": [
        {
          "data": {
            "text/html": [
              "<div>\n",
              "<style scoped>\n",
              "    .dataframe tbody tr th:only-of-type {\n",
              "        vertical-align: middle;\n",
              "    }\n",
              "\n",
              "    .dataframe tbody tr th {\n",
              "        vertical-align: top;\n",
              "    }\n",
              "\n",
              "    .dataframe thead th {\n",
              "        text-align: right;\n",
              "    }\n",
              "</style>\n",
              "<table border=\"1\" class=\"dataframe\">\n",
              "  <thead>\n",
              "    <tr style=\"text-align: right;\">\n",
              "      <th></th>\n",
              "      <th>jcco</th>\n",
              "      <th>contract</th>\n",
              "      <th>mth</th>\n",
              "      <th>pillar</th>\n",
              "      <th>pillardesc</th>\n",
              "      <th>contractstatus</th>\n",
              "      <th>description</th>\n",
              "      <th>contractamount</th>\n",
              "      <th>currestprofit</th>\n",
              "      <th>projprofit</th>\n",
              "      <th>...</th>\n",
              "      <th>profitprioryears</th>\n",
              "      <th>profitforyear</th>\n",
              "      <th>contractrevenuetodate</th>\n",
              "      <th>contractrevenueforyear</th>\n",
              "      <th>billedtodate</th>\n",
              "      <th>unbilledcosts</th>\n",
              "      <th>deferredcontractrevenue</th>\n",
              "      <th>reserveforloss</th>\n",
              "      <th>constrstartdate</th>\n",
              "      <th>substcompldate</th>\n",
              "    </tr>\n",
              "  </thead>\n",
              "  <tbody>\n",
              "    <tr>\n",
              "      <th>0</th>\n",
              "      <td>8</td>\n",
              "      <td>40043-</td>\n",
              "      <td>2002-12-01</td>\n",
              "      <td>STL</td>\n",
              "      <td>St. Louis</td>\n",
              "      <td>Closed</td>\n",
              "      <td>Chestnut Health Mainstay Ctr</td>\n",
              "      <td>81200.0</td>\n",
              "      <td>33875.00</td>\n",
              "      <td>45830.05</td>\n",
              "      <td>...</td>\n",
              "      <td>0.00</td>\n",
              "      <td>45830.05</td>\n",
              "      <td>81200.00</td>\n",
              "      <td>81200.00</td>\n",
              "      <td>81200.0</td>\n",
              "      <td>0.00</td>\n",
              "      <td>0.00</td>\n",
              "      <td>0.0</td>\n",
              "      <td>2000-12-14 00:00:00.000000</td>\n",
              "      <td>2002-11-30 00:00:00.000000</td>\n",
              "    </tr>\n",
              "    <tr>\n",
              "      <th>1</th>\n",
              "      <td>8</td>\n",
              "      <td>40079-</td>\n",
              "      <td>2002-12-01</td>\n",
              "      <td>STL</td>\n",
              "      <td>St. Louis</td>\n",
              "      <td>Closed</td>\n",
              "      <td>Christian Activity Center</td>\n",
              "      <td>10000.0</td>\n",
              "      <td>-7454.91</td>\n",
              "      <td>-7632.96</td>\n",
              "      <td>...</td>\n",
              "      <td>-7454.91</td>\n",
              "      <td>-178.05</td>\n",
              "      <td>10000.00</td>\n",
              "      <td>477.20</td>\n",
              "      <td>10000.0</td>\n",
              "      <td>0.00</td>\n",
              "      <td>0.00</td>\n",
              "      <td>0.0</td>\n",
              "      <td>2001-06-01 00:00:00.000000</td>\n",
              "      <td>2001-12-31 00:00:00.000000</td>\n",
              "    </tr>\n",
              "    <tr>\n",
              "      <th>2</th>\n",
              "      <td>8</td>\n",
              "      <td>40171-</td>\n",
              "      <td>2002-12-01</td>\n",
              "      <td>DC</td>\n",
              "      <td>Distribution Center</td>\n",
              "      <td>Open</td>\n",
              "      <td>Alside Distribution Warehouse</td>\n",
              "      <td>55000.0</td>\n",
              "      <td>4720.00</td>\n",
              "      <td>1950.50</td>\n",
              "      <td>...</td>\n",
              "      <td>0.00</td>\n",
              "      <td>1698.07</td>\n",
              "      <td>47882.26</td>\n",
              "      <td>47882.26</td>\n",
              "      <td>46750.0</td>\n",
              "      <td>1132.26</td>\n",
              "      <td>0.00</td>\n",
              "      <td>0.0</td>\n",
              "      <td>2002-07-29 00:00:00.000000</td>\n",
              "      <td>2003-03-15 00:00:00.000000</td>\n",
              "    </tr>\n",
              "    <tr>\n",
              "      <th>3</th>\n",
              "      <td>8</td>\n",
              "      <td>40063-</td>\n",
              "      <td>2002-12-01</td>\n",
              "      <td>DC</td>\n",
              "      <td>Distribution Center</td>\n",
              "      <td>Closed</td>\n",
              "      <td>Walgreens Mt Vernon Conveyor</td>\n",
              "      <td>32000.0</td>\n",
              "      <td>4975.00</td>\n",
              "      <td>10386.35</td>\n",
              "      <td>...</td>\n",
              "      <td>3414.73</td>\n",
              "      <td>6971.62</td>\n",
              "      <td>32000.00</td>\n",
              "      <td>9772.77</td>\n",
              "      <td>32000.0</td>\n",
              "      <td>0.00</td>\n",
              "      <td>0.00</td>\n",
              "      <td>0.0</td>\n",
              "      <td>2001-08-01 00:00:00.000000</td>\n",
              "      <td>2001-12-31 00:00:00.000000</td>\n",
              "    </tr>\n",
              "    <tr>\n",
              "      <th>4</th>\n",
              "      <td>8</td>\n",
              "      <td>40091-</td>\n",
              "      <td>2002-12-01</td>\n",
              "      <td>OTH</td>\n",
              "      <td>Other</td>\n",
              "      <td>Open</td>\n",
              "      <td>Walgreens Accounting Phase3</td>\n",
              "      <td>354230.0</td>\n",
              "      <td>69802.00</td>\n",
              "      <td>83804.07</td>\n",
              "      <td>...</td>\n",
              "      <td>0.00</td>\n",
              "      <td>73530.03</td>\n",
              "      <td>310802.84</td>\n",
              "      <td>310802.84</td>\n",
              "      <td>354230.0</td>\n",
              "      <td>0.00</td>\n",
              "      <td>-43427.15</td>\n",
              "      <td>0.0</td>\n",
              "      <td>2001-09-01 00:00:00.000000</td>\n",
              "      <td>2002-12-31 00:00:00.000000</td>\n",
              "    </tr>\n",
              "  </tbody>\n",
              "</table>\n",
              "<p>5 rows × 26 columns</p>\n",
              "</div>"
            ],
            "text/plain": [
              "   jcco contract         mth pillar           pillardesc contractstatus  \\\n",
              "0     8   40043-  2002-12-01    STL            St. Louis         Closed   \n",
              "1     8   40079-  2002-12-01    STL            St. Louis         Closed   \n",
              "2     8   40171-  2002-12-01     DC  Distribution Center           Open   \n",
              "3     8   40063-  2002-12-01     DC  Distribution Center         Closed   \n",
              "4     8   40091-  2002-12-01    OTH                Other           Open   \n",
              "\n",
              "                     description  contractamount  currestprofit  projprofit  \\\n",
              "0   Chestnut Health Mainstay Ctr         81200.0       33875.00    45830.05   \n",
              "1      Christian Activity Center         10000.0       -7454.91    -7632.96   \n",
              "2  Alside Distribution Warehouse         55000.0        4720.00     1950.50   \n",
              "3   Walgreens Mt Vernon Conveyor         32000.0        4975.00    10386.35   \n",
              "4    Walgreens Accounting Phase3        354230.0       69802.00    83804.07   \n",
              "\n",
              "   ...  profitprioryears  profitforyear  contractrevenuetodate  \\\n",
              "0  ...              0.00       45830.05               81200.00   \n",
              "1  ...          -7454.91        -178.05               10000.00   \n",
              "2  ...              0.00        1698.07               47882.26   \n",
              "3  ...           3414.73        6971.62               32000.00   \n",
              "4  ...              0.00       73530.03              310802.84   \n",
              "\n",
              "   contractrevenueforyear  billedtodate  unbilledcosts  \\\n",
              "0                81200.00       81200.0           0.00   \n",
              "1                  477.20       10000.0           0.00   \n",
              "2                47882.26       46750.0        1132.26   \n",
              "3                 9772.77       32000.0           0.00   \n",
              "4               310802.84      354230.0           0.00   \n",
              "\n",
              "   deferredcontractrevenue  reserveforloss             constrstartdate  \\\n",
              "0                     0.00             0.0  2000-12-14 00:00:00.000000   \n",
              "1                     0.00             0.0  2001-06-01 00:00:00.000000   \n",
              "2                     0.00             0.0  2002-07-29 00:00:00.000000   \n",
              "3                     0.00             0.0  2001-08-01 00:00:00.000000   \n",
              "4                -43427.15             0.0  2001-09-01 00:00:00.000000   \n",
              "\n",
              "               substcompldate  \n",
              "0  2002-11-30 00:00:00.000000  \n",
              "1  2001-12-31 00:00:00.000000  \n",
              "2  2003-03-15 00:00:00.000000  \n",
              "3  2001-12-31 00:00:00.000000  \n",
              "4  2002-12-31 00:00:00.000000  \n",
              "\n",
              "[5 rows x 26 columns]"
            ]
          },
          "execution_count": 105,
          "metadata": {},
          "output_type": "execute_result"
        }
      ],
      "source": [
        "query = \"what is the count of open contracts in mth 2023-01-01?\"\n",
        "table = query_pinecone(query)\n",
        "table.head()"
      ]
    },
    {
      "cell_type": "code",
      "execution_count": 107,
      "metadata": {},
      "outputs": [
        {
          "ename": "TypeError",
          "evalue": "expected string or bytes-like object",
          "output_type": "error",
          "traceback": [
            "\u001b[0;31m---------------------------------------------------------------------------\u001b[0m",
            "\u001b[0;31mTypeError\u001b[0m                                 Traceback (most recent call last)",
            "Cell \u001b[0;32mIn[107], line 1\u001b[0m\n\u001b[0;32m----> 1\u001b[0m get_answer_from_table(mthTbl, query)\n",
            "Cell \u001b[0;32mIn[27], line 3\u001b[0m, in \u001b[0;36mget_answer_from_table\u001b[0;34m(table, query)\u001b[0m\n\u001b[1;32m      1\u001b[0m \u001b[39mdef\u001b[39;00m \u001b[39mget_answer_from_table\u001b[39m(table, query):\n\u001b[1;32m      2\u001b[0m     \u001b[39m# run the table and query through the question-answering pipeline\u001b[39;00m\n\u001b[0;32m----> 3\u001b[0m     answers \u001b[39m=\u001b[39m pipe(table\u001b[39m=\u001b[39;49mtable, query\u001b[39m=\u001b[39;49mquery)\n\u001b[1;32m      4\u001b[0m     \u001b[39mreturn\u001b[39;00m answers\n",
            "File \u001b[0;32m~/.virtualenvs/pineconeExamples/lib/python3.10/site-packages/transformers/pipelines/table_question_answering.py:351\u001b[0m, in \u001b[0;36mTableQuestionAnsweringPipeline.__call__\u001b[0;34m(self, *args, **kwargs)\u001b[0m\n\u001b[1;32m    275\u001b[0m \u001b[39m\u001b[39m\u001b[39mr\u001b[39m\u001b[39m\"\"\"\u001b[39;00m\n\u001b[1;32m    276\u001b[0m \u001b[39mAnswers queries according to a table. The pipeline accepts several types of inputs which are detailed below:\u001b[39;00m\n\u001b[1;32m    277\u001b[0m \n\u001b[0;32m   (...)\u001b[0m\n\u001b[1;32m    347\u001b[0m \u001b[39m    - **aggregator** (`str`) -- If the model has an aggregator, this returns the aggregator.\u001b[39;00m\n\u001b[1;32m    348\u001b[0m \u001b[39m\"\"\"\u001b[39;00m\n\u001b[1;32m    349\u001b[0m pipeline_inputs \u001b[39m=\u001b[39m \u001b[39mself\u001b[39m\u001b[39m.\u001b[39m_args_parser(\u001b[39m*\u001b[39margs, \u001b[39m*\u001b[39m\u001b[39m*\u001b[39mkwargs)\n\u001b[0;32m--> 351\u001b[0m results \u001b[39m=\u001b[39m \u001b[39msuper\u001b[39;49m()\u001b[39m.\u001b[39;49m\u001b[39m__call__\u001b[39;49m(pipeline_inputs, \u001b[39m*\u001b[39;49m\u001b[39m*\u001b[39;49mkwargs)\n\u001b[1;32m    352\u001b[0m \u001b[39mif\u001b[39;00m \u001b[39mlen\u001b[39m(results) \u001b[39m==\u001b[39m \u001b[39m1\u001b[39m:\n\u001b[1;32m    353\u001b[0m     \u001b[39mreturn\u001b[39;00m results[\u001b[39m0\u001b[39m]\n",
            "File \u001b[0;32m~/.virtualenvs/pineconeExamples/lib/python3.10/site-packages/transformers/pipelines/base.py:1065\u001b[0m, in \u001b[0;36mPipeline.__call__\u001b[0;34m(self, inputs, num_workers, batch_size, *args, **kwargs)\u001b[0m\n\u001b[1;32m   1061\u001b[0m \u001b[39mif\u001b[39;00m can_use_iterator:\n\u001b[1;32m   1062\u001b[0m     final_iterator \u001b[39m=\u001b[39m \u001b[39mself\u001b[39m\u001b[39m.\u001b[39mget_iterator(\n\u001b[1;32m   1063\u001b[0m         inputs, num_workers, batch_size, preprocess_params, forward_params, postprocess_params\n\u001b[1;32m   1064\u001b[0m     )\n\u001b[0;32m-> 1065\u001b[0m     outputs \u001b[39m=\u001b[39m [output \u001b[39mfor\u001b[39;00m output \u001b[39min\u001b[39;00m final_iterator]\n\u001b[1;32m   1066\u001b[0m     \u001b[39mreturn\u001b[39;00m outputs\n\u001b[1;32m   1067\u001b[0m \u001b[39melse\u001b[39;00m:\n",
            "File \u001b[0;32m~/.virtualenvs/pineconeExamples/lib/python3.10/site-packages/transformers/pipelines/base.py:1065\u001b[0m, in \u001b[0;36m<listcomp>\u001b[0;34m(.0)\u001b[0m\n\u001b[1;32m   1061\u001b[0m \u001b[39mif\u001b[39;00m can_use_iterator:\n\u001b[1;32m   1062\u001b[0m     final_iterator \u001b[39m=\u001b[39m \u001b[39mself\u001b[39m\u001b[39m.\u001b[39mget_iterator(\n\u001b[1;32m   1063\u001b[0m         inputs, num_workers, batch_size, preprocess_params, forward_params, postprocess_params\n\u001b[1;32m   1064\u001b[0m     )\n\u001b[0;32m-> 1065\u001b[0m     outputs \u001b[39m=\u001b[39m [output \u001b[39mfor\u001b[39;00m output \u001b[39min\u001b[39;00m final_iterator]\n\u001b[1;32m   1066\u001b[0m     \u001b[39mreturn\u001b[39;00m outputs\n\u001b[1;32m   1067\u001b[0m \u001b[39melse\u001b[39;00m:\n",
            "File \u001b[0;32m~/.virtualenvs/pineconeExamples/lib/python3.10/site-packages/transformers/pipelines/pt_utils.py:124\u001b[0m, in \u001b[0;36mPipelineIterator.__next__\u001b[0;34m(self)\u001b[0m\n\u001b[1;32m    121\u001b[0m     \u001b[39mreturn\u001b[39;00m \u001b[39mself\u001b[39m\u001b[39m.\u001b[39mloader_batch_item()\n\u001b[1;32m    123\u001b[0m \u001b[39m# We're out of items within a batch\u001b[39;00m\n\u001b[0;32m--> 124\u001b[0m item \u001b[39m=\u001b[39m \u001b[39mnext\u001b[39;49m(\u001b[39mself\u001b[39;49m\u001b[39m.\u001b[39;49miterator)\n\u001b[1;32m    125\u001b[0m processed \u001b[39m=\u001b[39m \u001b[39mself\u001b[39m\u001b[39m.\u001b[39minfer(item, \u001b[39m*\u001b[39m\u001b[39m*\u001b[39m\u001b[39mself\u001b[39m\u001b[39m.\u001b[39mparams)\n\u001b[1;32m    126\u001b[0m \u001b[39m# We now have a batch of \"inferred things\".\u001b[39;00m\n",
            "File \u001b[0;32m~/.virtualenvs/pineconeExamples/lib/python3.10/site-packages/transformers/pipelines/pt_utils.py:124\u001b[0m, in \u001b[0;36mPipelineIterator.__next__\u001b[0;34m(self)\u001b[0m\n\u001b[1;32m    121\u001b[0m     \u001b[39mreturn\u001b[39;00m \u001b[39mself\u001b[39m\u001b[39m.\u001b[39mloader_batch_item()\n\u001b[1;32m    123\u001b[0m \u001b[39m# We're out of items within a batch\u001b[39;00m\n\u001b[0;32m--> 124\u001b[0m item \u001b[39m=\u001b[39m \u001b[39mnext\u001b[39;49m(\u001b[39mself\u001b[39;49m\u001b[39m.\u001b[39;49miterator)\n\u001b[1;32m    125\u001b[0m processed \u001b[39m=\u001b[39m \u001b[39mself\u001b[39m\u001b[39m.\u001b[39minfer(item, \u001b[39m*\u001b[39m\u001b[39m*\u001b[39m\u001b[39mself\u001b[39m\u001b[39m.\u001b[39mparams)\n\u001b[1;32m    126\u001b[0m \u001b[39m# We now have a batch of \"inferred things\".\u001b[39;00m\n",
            "File \u001b[0;32m~/.virtualenvs/pineconeExamples/lib/python3.10/site-packages/torch/utils/data/dataloader.py:628\u001b[0m, in \u001b[0;36m_BaseDataLoaderIter.__next__\u001b[0;34m(self)\u001b[0m\n\u001b[1;32m    625\u001b[0m \u001b[39mif\u001b[39;00m \u001b[39mself\u001b[39m\u001b[39m.\u001b[39m_sampler_iter \u001b[39mis\u001b[39;00m \u001b[39mNone\u001b[39;00m:\n\u001b[1;32m    626\u001b[0m     \u001b[39m# TODO(https://github.com/pytorch/pytorch/issues/76750)\u001b[39;00m\n\u001b[1;32m    627\u001b[0m     \u001b[39mself\u001b[39m\u001b[39m.\u001b[39m_reset()  \u001b[39m# type: ignore[call-arg]\u001b[39;00m\n\u001b[0;32m--> 628\u001b[0m data \u001b[39m=\u001b[39m \u001b[39mself\u001b[39;49m\u001b[39m.\u001b[39;49m_next_data()\n\u001b[1;32m    629\u001b[0m \u001b[39mself\u001b[39m\u001b[39m.\u001b[39m_num_yielded \u001b[39m+\u001b[39m\u001b[39m=\u001b[39m \u001b[39m1\u001b[39m\n\u001b[1;32m    630\u001b[0m \u001b[39mif\u001b[39;00m \u001b[39mself\u001b[39m\u001b[39m.\u001b[39m_dataset_kind \u001b[39m==\u001b[39m _DatasetKind\u001b[39m.\u001b[39mIterable \u001b[39mand\u001b[39;00m \\\n\u001b[1;32m    631\u001b[0m         \u001b[39mself\u001b[39m\u001b[39m.\u001b[39m_IterableDataset_len_called \u001b[39mis\u001b[39;00m \u001b[39mnot\u001b[39;00m \u001b[39mNone\u001b[39;00m \u001b[39mand\u001b[39;00m \\\n\u001b[1;32m    632\u001b[0m         \u001b[39mself\u001b[39m\u001b[39m.\u001b[39m_num_yielded \u001b[39m>\u001b[39m \u001b[39mself\u001b[39m\u001b[39m.\u001b[39m_IterableDataset_len_called:\n",
            "File \u001b[0;32m~/.virtualenvs/pineconeExamples/lib/python3.10/site-packages/torch/utils/data/dataloader.py:671\u001b[0m, in \u001b[0;36m_SingleProcessDataLoaderIter._next_data\u001b[0;34m(self)\u001b[0m\n\u001b[1;32m    669\u001b[0m \u001b[39mdef\u001b[39;00m \u001b[39m_next_data\u001b[39m(\u001b[39mself\u001b[39m):\n\u001b[1;32m    670\u001b[0m     index \u001b[39m=\u001b[39m \u001b[39mself\u001b[39m\u001b[39m.\u001b[39m_next_index()  \u001b[39m# may raise StopIteration\u001b[39;00m\n\u001b[0;32m--> 671\u001b[0m     data \u001b[39m=\u001b[39m \u001b[39mself\u001b[39;49m\u001b[39m.\u001b[39;49m_dataset_fetcher\u001b[39m.\u001b[39;49mfetch(index)  \u001b[39m# may raise StopIteration\u001b[39;00m\n\u001b[1;32m    672\u001b[0m     \u001b[39mif\u001b[39;00m \u001b[39mself\u001b[39m\u001b[39m.\u001b[39m_pin_memory:\n\u001b[1;32m    673\u001b[0m         data \u001b[39m=\u001b[39m _utils\u001b[39m.\u001b[39mpin_memory\u001b[39m.\u001b[39mpin_memory(data, \u001b[39mself\u001b[39m\u001b[39m.\u001b[39m_pin_memory_device)\n",
            "File \u001b[0;32m~/.virtualenvs/pineconeExamples/lib/python3.10/site-packages/torch/utils/data/_utils/fetch.py:58\u001b[0m, in \u001b[0;36m_MapDatasetFetcher.fetch\u001b[0;34m(self, possibly_batched_index)\u001b[0m\n\u001b[1;32m     56\u001b[0m         data \u001b[39m=\u001b[39m \u001b[39mself\u001b[39m\u001b[39m.\u001b[39mdataset\u001b[39m.\u001b[39m__getitems__(possibly_batched_index)\n\u001b[1;32m     57\u001b[0m     \u001b[39melse\u001b[39;00m:\n\u001b[0;32m---> 58\u001b[0m         data \u001b[39m=\u001b[39m [\u001b[39mself\u001b[39m\u001b[39m.\u001b[39mdataset[idx] \u001b[39mfor\u001b[39;00m idx \u001b[39min\u001b[39;00m possibly_batched_index]\n\u001b[1;32m     59\u001b[0m \u001b[39melse\u001b[39;00m:\n\u001b[1;32m     60\u001b[0m     data \u001b[39m=\u001b[39m \u001b[39mself\u001b[39m\u001b[39m.\u001b[39mdataset[possibly_batched_index]\n",
            "File \u001b[0;32m~/.virtualenvs/pineconeExamples/lib/python3.10/site-packages/torch/utils/data/_utils/fetch.py:58\u001b[0m, in \u001b[0;36m<listcomp>\u001b[0;34m(.0)\u001b[0m\n\u001b[1;32m     56\u001b[0m         data \u001b[39m=\u001b[39m \u001b[39mself\u001b[39m\u001b[39m.\u001b[39mdataset\u001b[39m.\u001b[39m__getitems__(possibly_batched_index)\n\u001b[1;32m     57\u001b[0m     \u001b[39melse\u001b[39;00m:\n\u001b[0;32m---> 58\u001b[0m         data \u001b[39m=\u001b[39m [\u001b[39mself\u001b[39;49m\u001b[39m.\u001b[39;49mdataset[idx] \u001b[39mfor\u001b[39;00m idx \u001b[39min\u001b[39;00m possibly_batched_index]\n\u001b[1;32m     59\u001b[0m \u001b[39melse\u001b[39;00m:\n\u001b[1;32m     60\u001b[0m     data \u001b[39m=\u001b[39m \u001b[39mself\u001b[39m\u001b[39m.\u001b[39mdataset[possibly_batched_index]\n",
            "File \u001b[0;32m~/.virtualenvs/pineconeExamples/lib/python3.10/site-packages/transformers/pipelines/pt_utils.py:19\u001b[0m, in \u001b[0;36mPipelineDataset.__getitem__\u001b[0;34m(self, i)\u001b[0m\n\u001b[1;32m     17\u001b[0m \u001b[39mdef\u001b[39;00m \u001b[39m__getitem__\u001b[39m(\u001b[39mself\u001b[39m, i):\n\u001b[1;32m     18\u001b[0m     item \u001b[39m=\u001b[39m \u001b[39mself\u001b[39m\u001b[39m.\u001b[39mdataset[i]\n\u001b[0;32m---> 19\u001b[0m     processed \u001b[39m=\u001b[39m \u001b[39mself\u001b[39;49m\u001b[39m.\u001b[39;49mprocess(item, \u001b[39m*\u001b[39;49m\u001b[39m*\u001b[39;49m\u001b[39mself\u001b[39;49m\u001b[39m.\u001b[39;49mparams)\n\u001b[1;32m     20\u001b[0m     \u001b[39mreturn\u001b[39;00m processed\n",
            "File \u001b[0;32m~/.virtualenvs/pineconeExamples/lib/python3.10/site-packages/transformers/pipelines/table_question_answering.py:380\u001b[0m, in \u001b[0;36mTableQuestionAnsweringPipeline.preprocess\u001b[0;34m(self, pipeline_input, sequential, padding, truncation)\u001b[0m\n\u001b[1;32m    378\u001b[0m \u001b[39mif\u001b[39;00m query \u001b[39mis\u001b[39;00m \u001b[39mNone\u001b[39;00m \u001b[39mor\u001b[39;00m query \u001b[39m==\u001b[39m \u001b[39m\"\u001b[39m\u001b[39m\"\u001b[39m:\n\u001b[1;32m    379\u001b[0m     \u001b[39mraise\u001b[39;00m \u001b[39mValueError\u001b[39;00m(\u001b[39m\"\u001b[39m\u001b[39mquery is empty\u001b[39m\u001b[39m\"\u001b[39m)\n\u001b[0;32m--> 380\u001b[0m inputs \u001b[39m=\u001b[39m \u001b[39mself\u001b[39;49m\u001b[39m.\u001b[39;49mtokenizer(table, query, return_tensors\u001b[39m=\u001b[39;49m\u001b[39mself\u001b[39;49m\u001b[39m.\u001b[39;49mframework, truncation\u001b[39m=\u001b[39;49mtruncation, padding\u001b[39m=\u001b[39;49mpadding)\n\u001b[1;32m    381\u001b[0m inputs[\u001b[39m\"\u001b[39m\u001b[39mtable\u001b[39m\u001b[39m\"\u001b[39m] \u001b[39m=\u001b[39m table\n\u001b[1;32m    382\u001b[0m \u001b[39mreturn\u001b[39;00m inputs\n",
            "File \u001b[0;32m~/.virtualenvs/pineconeExamples/lib/python3.10/site-packages/transformers/models/tapas/tokenization_tapas.py:672\u001b[0m, in \u001b[0;36mTapasTokenizer.__call__\u001b[0;34m(self, table, queries, answer_coordinates, answer_text, add_special_tokens, padding, truncation, max_length, pad_to_multiple_of, return_tensors, return_token_type_ids, return_attention_mask, return_overflowing_tokens, return_special_tokens_mask, return_offsets_mapping, return_length, verbose, **kwargs)\u001b[0m\n\u001b[1;32m    651\u001b[0m     \u001b[39mreturn\u001b[39;00m \u001b[39mself\u001b[39m\u001b[39m.\u001b[39mbatch_encode_plus(\n\u001b[1;32m    652\u001b[0m         table\u001b[39m=\u001b[39mtable,\n\u001b[1;32m    653\u001b[0m         queries\u001b[39m=\u001b[39mqueries,\n\u001b[0;32m   (...)\u001b[0m\n\u001b[1;32m    669\u001b[0m         \u001b[39m*\u001b[39m\u001b[39m*\u001b[39mkwargs,\n\u001b[1;32m    670\u001b[0m     )\n\u001b[1;32m    671\u001b[0m \u001b[39melse\u001b[39;00m:\n\u001b[0;32m--> 672\u001b[0m     \u001b[39mreturn\u001b[39;00m \u001b[39mself\u001b[39;49m\u001b[39m.\u001b[39;49mencode_plus(\n\u001b[1;32m    673\u001b[0m         table\u001b[39m=\u001b[39;49mtable,\n\u001b[1;32m    674\u001b[0m         query\u001b[39m=\u001b[39;49mqueries,\n\u001b[1;32m    675\u001b[0m         answer_coordinates\u001b[39m=\u001b[39;49manswer_coordinates,\n\u001b[1;32m    676\u001b[0m         answer_text\u001b[39m=\u001b[39;49manswer_text,\n\u001b[1;32m    677\u001b[0m         add_special_tokens\u001b[39m=\u001b[39;49madd_special_tokens,\n\u001b[1;32m    678\u001b[0m         padding\u001b[39m=\u001b[39;49mpadding,\n\u001b[1;32m    679\u001b[0m         truncation\u001b[39m=\u001b[39;49mtruncation,\n\u001b[1;32m    680\u001b[0m         max_length\u001b[39m=\u001b[39;49mmax_length,\n\u001b[1;32m    681\u001b[0m         pad_to_multiple_of\u001b[39m=\u001b[39;49mpad_to_multiple_of,\n\u001b[1;32m    682\u001b[0m         return_tensors\u001b[39m=\u001b[39;49mreturn_tensors,\n\u001b[1;32m    683\u001b[0m         return_token_type_ids\u001b[39m=\u001b[39;49mreturn_token_type_ids,\n\u001b[1;32m    684\u001b[0m         return_attention_mask\u001b[39m=\u001b[39;49mreturn_attention_mask,\n\u001b[1;32m    685\u001b[0m         return_overflowing_tokens\u001b[39m=\u001b[39;49mreturn_overflowing_tokens,\n\u001b[1;32m    686\u001b[0m         return_special_tokens_mask\u001b[39m=\u001b[39;49mreturn_special_tokens_mask,\n\u001b[1;32m    687\u001b[0m         return_offsets_mapping\u001b[39m=\u001b[39;49mreturn_offsets_mapping,\n\u001b[1;32m    688\u001b[0m         return_length\u001b[39m=\u001b[39;49mreturn_length,\n\u001b[1;32m    689\u001b[0m         verbose\u001b[39m=\u001b[39;49mverbose,\n\u001b[1;32m    690\u001b[0m         \u001b[39m*\u001b[39;49m\u001b[39m*\u001b[39;49mkwargs,\n\u001b[1;32m    691\u001b[0m     )\n",
            "File \u001b[0;32m~/.virtualenvs/pineconeExamples/lib/python3.10/site-packages/transformers/models/tapas/tokenization_tapas.py:1038\u001b[0m, in \u001b[0;36mTapasTokenizer.encode_plus\u001b[0;34m(self, table, query, answer_coordinates, answer_text, add_special_tokens, padding, truncation, max_length, pad_to_multiple_of, return_tensors, return_token_type_ids, return_attention_mask, return_special_tokens_mask, return_offsets_mapping, return_length, verbose, **kwargs)\u001b[0m\n\u001b[1;32m   1031\u001b[0m \u001b[39mif\u001b[39;00m return_offsets_mapping:\n\u001b[1;32m   1032\u001b[0m     \u001b[39mraise\u001b[39;00m \u001b[39mNotImplementedError\u001b[39;00m(\n\u001b[1;32m   1033\u001b[0m         \u001b[39m\"\u001b[39m\u001b[39mreturn_offset_mapping is not available when using Python tokenizers. \u001b[39m\u001b[39m\"\u001b[39m\n\u001b[1;32m   1034\u001b[0m         \u001b[39m\"\u001b[39m\u001b[39mTo use this feature, change your tokenizer to one deriving from \u001b[39m\u001b[39m\"\u001b[39m\n\u001b[1;32m   1035\u001b[0m         \u001b[39m\"\u001b[39m\u001b[39mtransformers.PreTrainedTokenizerFast.\u001b[39m\u001b[39m\"\u001b[39m\n\u001b[1;32m   1036\u001b[0m     )\n\u001b[0;32m-> 1038\u001b[0m \u001b[39mreturn\u001b[39;00m \u001b[39mself\u001b[39;49m\u001b[39m.\u001b[39;49m_encode_plus(\n\u001b[1;32m   1039\u001b[0m     table\u001b[39m=\u001b[39;49mtable,\n\u001b[1;32m   1040\u001b[0m     query\u001b[39m=\u001b[39;49mquery,\n\u001b[1;32m   1041\u001b[0m     answer_coordinates\u001b[39m=\u001b[39;49manswer_coordinates,\n\u001b[1;32m   1042\u001b[0m     answer_text\u001b[39m=\u001b[39;49manswer_text,\n\u001b[1;32m   1043\u001b[0m     add_special_tokens\u001b[39m=\u001b[39;49madd_special_tokens,\n\u001b[1;32m   1044\u001b[0m     truncation\u001b[39m=\u001b[39;49mtruncation,\n\u001b[1;32m   1045\u001b[0m     padding\u001b[39m=\u001b[39;49mpadding,\n\u001b[1;32m   1046\u001b[0m     max_length\u001b[39m=\u001b[39;49mmax_length,\n\u001b[1;32m   1047\u001b[0m     pad_to_multiple_of\u001b[39m=\u001b[39;49mpad_to_multiple_of,\n\u001b[1;32m   1048\u001b[0m     return_tensors\u001b[39m=\u001b[39;49mreturn_tensors,\n\u001b[1;32m   1049\u001b[0m     return_token_type_ids\u001b[39m=\u001b[39;49mreturn_token_type_ids,\n\u001b[1;32m   1050\u001b[0m     return_attention_mask\u001b[39m=\u001b[39;49mreturn_attention_mask,\n\u001b[1;32m   1051\u001b[0m     return_special_tokens_mask\u001b[39m=\u001b[39;49mreturn_special_tokens_mask,\n\u001b[1;32m   1052\u001b[0m     return_offsets_mapping\u001b[39m=\u001b[39;49mreturn_offsets_mapping,\n\u001b[1;32m   1053\u001b[0m     return_length\u001b[39m=\u001b[39;49mreturn_length,\n\u001b[1;32m   1054\u001b[0m     verbose\u001b[39m=\u001b[39;49mverbose,\n\u001b[1;32m   1055\u001b[0m     \u001b[39m*\u001b[39;49m\u001b[39m*\u001b[39;49mkwargs,\n\u001b[1;32m   1056\u001b[0m )\n",
            "File \u001b[0;32m~/.virtualenvs/pineconeExamples/lib/python3.10/site-packages/transformers/models/tapas/tokenization_tapas.py:1089\u001b[0m, in \u001b[0;36mTapasTokenizer._encode_plus\u001b[0;34m(self, table, query, answer_coordinates, answer_text, add_special_tokens, padding, truncation, max_length, pad_to_multiple_of, return_tensors, return_token_type_ids, return_attention_mask, return_special_tokens_mask, return_offsets_mapping, return_length, verbose, **kwargs)\u001b[0m\n\u001b[1;32m   1083\u001b[0m     query \u001b[39m=\u001b[39m \u001b[39m\"\u001b[39m\u001b[39m\"\u001b[39m\n\u001b[1;32m   1084\u001b[0m     logger\u001b[39m.\u001b[39mwarning(\n\u001b[1;32m   1085\u001b[0m         \u001b[39m\"\u001b[39m\u001b[39mTAPAS is a question answering model but you have not passed a query. Please be aware that the \u001b[39m\u001b[39m\"\u001b[39m\n\u001b[1;32m   1086\u001b[0m         \u001b[39m\"\u001b[39m\u001b[39mmodel will probably not behave correctly.\u001b[39m\u001b[39m\"\u001b[39m\n\u001b[1;32m   1087\u001b[0m     )\n\u001b[0;32m-> 1089\u001b[0m table_tokens \u001b[39m=\u001b[39m \u001b[39mself\u001b[39;49m\u001b[39m.\u001b[39;49m_tokenize_table(table)\n\u001b[1;32m   1090\u001b[0m query, query_tokens \u001b[39m=\u001b[39m \u001b[39mself\u001b[39m\u001b[39m.\u001b[39m_get_question_tokens(query)\n\u001b[1;32m   1092\u001b[0m \u001b[39mreturn\u001b[39;00m \u001b[39mself\u001b[39m\u001b[39m.\u001b[39mprepare_for_model(\n\u001b[1;32m   1093\u001b[0m     table,\n\u001b[1;32m   1094\u001b[0m     query,\n\u001b[0;32m   (...)\u001b[0m\n\u001b[1;32m   1110\u001b[0m     verbose\u001b[39m=\u001b[39mverbose,\n\u001b[1;32m   1111\u001b[0m )\n",
            "File \u001b[0;32m~/.virtualenvs/pineconeExamples/lib/python3.10/site-packages/transformers/models/tapas/tokenization_tapas.py:1388\u001b[0m, in \u001b[0;36mTapasTokenizer._tokenize_table\u001b[0;34m(self, table)\u001b[0m\n\u001b[1;32m   1386\u001b[0m     tokenized_row \u001b[39m=\u001b[39m []\n\u001b[1;32m   1387\u001b[0m     \u001b[39mfor\u001b[39;00m cell \u001b[39min\u001b[39;00m row:\n\u001b[0;32m-> 1388\u001b[0m         tokenized_row\u001b[39m.\u001b[39mappend(\u001b[39mself\u001b[39;49m\u001b[39m.\u001b[39;49mtokenize(cell))\n\u001b[1;32m   1389\u001b[0m     tokenized_rows\u001b[39m.\u001b[39mappend(tokenized_row)\n\u001b[1;32m   1391\u001b[0m token_coordinates \u001b[39m=\u001b[39m []\n",
            "File \u001b[0;32m~/.virtualenvs/pineconeExamples/lib/python3.10/site-packages/transformers/tokenization_utils.py:514\u001b[0m, in \u001b[0;36mPreTrainedTokenizer.tokenize\u001b[0;34m(self, text, **kwargs)\u001b[0m\n\u001b[1;32m    510\u001b[0m     escaped_special_toks \u001b[39m=\u001b[39m [\n\u001b[1;32m    511\u001b[0m         re\u001b[39m.\u001b[39mescape(s_tok) \u001b[39mfor\u001b[39;00m s_tok \u001b[39min\u001b[39;00m (\u001b[39mself\u001b[39m\u001b[39m.\u001b[39munique_no_split_tokens \u001b[39m+\u001b[39m \u001b[39mself\u001b[39m\u001b[39m.\u001b[39mall_special_tokens)\n\u001b[1;32m    512\u001b[0m     ]\n\u001b[1;32m    513\u001b[0m     pattern \u001b[39m=\u001b[39m \u001b[39mr\u001b[39m\u001b[39m\"\u001b[39m\u001b[39m(\u001b[39m\u001b[39m\"\u001b[39m \u001b[39m+\u001b[39m \u001b[39mr\u001b[39m\u001b[39m\"\u001b[39m\u001b[39m|\u001b[39m\u001b[39m\"\u001b[39m\u001b[39m.\u001b[39mjoin(escaped_special_toks) \u001b[39m+\u001b[39m \u001b[39mr\u001b[39m\u001b[39m\"\u001b[39m\u001b[39m)|\u001b[39m\u001b[39m\"\u001b[39m \u001b[39m+\u001b[39m \u001b[39mr\u001b[39m\u001b[39m\"\u001b[39m\u001b[39m(.+?)\u001b[39m\u001b[39m\"\u001b[39m\n\u001b[0;32m--> 514\u001b[0m     text \u001b[39m=\u001b[39m re\u001b[39m.\u001b[39;49msub(pattern, \u001b[39mlambda\u001b[39;49;00m m: m\u001b[39m.\u001b[39;49mgroups()[\u001b[39m0\u001b[39;49m] \u001b[39mor\u001b[39;49;00m m\u001b[39m.\u001b[39;49mgroups()[\u001b[39m1\u001b[39;49m]\u001b[39m.\u001b[39;49mlower(), text)\n\u001b[1;32m    516\u001b[0m no_split_token \u001b[39m=\u001b[39m \u001b[39mset\u001b[39m(\u001b[39mself\u001b[39m\u001b[39m.\u001b[39munique_no_split_tokens)\n\u001b[1;32m    517\u001b[0m tokens \u001b[39m=\u001b[39m \u001b[39mself\u001b[39m\u001b[39m.\u001b[39mtokens_trie\u001b[39m.\u001b[39msplit(text)\n",
            "File \u001b[0;32m~/.pyenv/versions/3.10.9/lib/python3.10/re.py:209\u001b[0m, in \u001b[0;36msub\u001b[0;34m(pattern, repl, string, count, flags)\u001b[0m\n\u001b[1;32m    202\u001b[0m \u001b[39mdef\u001b[39;00m \u001b[39msub\u001b[39m(pattern, repl, string, count\u001b[39m=\u001b[39m\u001b[39m0\u001b[39m, flags\u001b[39m=\u001b[39m\u001b[39m0\u001b[39m):\n\u001b[1;32m    203\u001b[0m \u001b[39m    \u001b[39m\u001b[39m\"\"\"Return the string obtained by replacing the leftmost\u001b[39;00m\n\u001b[1;32m    204\u001b[0m \u001b[39m    non-overlapping occurrences of the pattern in string by the\u001b[39;00m\n\u001b[1;32m    205\u001b[0m \u001b[39m    replacement repl.  repl can be either a string or a callable;\u001b[39;00m\n\u001b[1;32m    206\u001b[0m \u001b[39m    if a string, backslash escapes in it are processed.  If it is\u001b[39;00m\n\u001b[1;32m    207\u001b[0m \u001b[39m    a callable, it's passed the Match object and must return\u001b[39;00m\n\u001b[1;32m    208\u001b[0m \u001b[39m    a replacement string to be used.\"\"\"\u001b[39;00m\n\u001b[0;32m--> 209\u001b[0m     \u001b[39mreturn\u001b[39;00m _compile(pattern, flags)\u001b[39m.\u001b[39;49msub(repl, string, count)\n",
            "\u001b[0;31mTypeError\u001b[0m: expected string or bytes-like object"
          ]
        }
      ],
      "source": [
        "get_answer_from_table(mthTbl, query)"
      ]
    },
    {
      "cell_type": "markdown",
      "metadata": {},
      "source": []
    }
  ],
  "metadata": {
    "accelerator": "GPU",
    "colab": {
      "collapsed_sections": [],
      "provenance": []
    },
    "kernelspec": {
      "display_name": "pineconeExamples",
      "language": "python",
      "name": "python3"
    },
    "language_info": {
      "codemirror_mode": {
        "name": "ipython",
        "version": 3
      },
      "file_extension": ".py",
      "mimetype": "text/x-python",
      "name": "python",
      "nbconvert_exporter": "python",
      "pygments_lexer": "ipython3",
      "version": "3.10.9"
    },
    "vscode": {
      "interpreter": {
        "hash": "54afb896d88d837a2b070c1d5ce57733bf32ee86bc04e9b92b14e5b32c790775"
      }
    },
    "widgets": {
      "application/vnd.jupyter.widget-state+json": {
        "0398823b05ac46b3bb0d5918698e92aa": {
          "model_module": "@jupyter-widgets/base",
          "model_module_version": "1.2.0",
          "model_name": "LayoutModel",
          "state": {
            "_model_module": "@jupyter-widgets/base",
            "_model_module_version": "1.2.0",
            "_model_name": "LayoutModel",
            "_view_count": null,
            "_view_module": "@jupyter-widgets/base",
            "_view_module_version": "1.2.0",
            "_view_name": "LayoutView",
            "align_content": null,
            "align_items": null,
            "align_self": null,
            "border": null,
            "bottom": null,
            "display": null,
            "flex": null,
            "flex_flow": null,
            "grid_area": null,
            "grid_auto_columns": null,
            "grid_auto_flow": null,
            "grid_auto_rows": null,
            "grid_column": null,
            "grid_gap": null,
            "grid_row": null,
            "grid_template_areas": null,
            "grid_template_columns": null,
            "grid_template_rows": null,
            "height": null,
            "justify_content": null,
            "justify_items": null,
            "left": null,
            "margin": null,
            "max_height": null,
            "max_width": null,
            "min_height": null,
            "min_width": null,
            "object_fit": null,
            "object_position": null,
            "order": null,
            "overflow": null,
            "overflow_x": null,
            "overflow_y": null,
            "padding": null,
            "right": null,
            "top": null,
            "visibility": null,
            "width": null
          }
        },
        "0806e30586ef45e1b5c6de273d4b820e": {
          "model_module": "@jupyter-widgets/base",
          "model_module_version": "1.2.0",
          "model_name": "LayoutModel",
          "state": {
            "_model_module": "@jupyter-widgets/base",
            "_model_module_version": "1.2.0",
            "_model_name": "LayoutModel",
            "_view_count": null,
            "_view_module": "@jupyter-widgets/base",
            "_view_module_version": "1.2.0",
            "_view_name": "LayoutView",
            "align_content": null,
            "align_items": null,
            "align_self": null,
            "border": null,
            "bottom": null,
            "display": null,
            "flex": null,
            "flex_flow": null,
            "grid_area": null,
            "grid_auto_columns": null,
            "grid_auto_flow": null,
            "grid_auto_rows": null,
            "grid_column": null,
            "grid_gap": null,
            "grid_row": null,
            "grid_template_areas": null,
            "grid_template_columns": null,
            "grid_template_rows": null,
            "height": null,
            "justify_content": null,
            "justify_items": null,
            "left": null,
            "margin": null,
            "max_height": null,
            "max_width": null,
            "min_height": null,
            "min_width": null,
            "object_fit": null,
            "object_position": null,
            "order": null,
            "overflow": null,
            "overflow_x": null,
            "overflow_y": null,
            "padding": null,
            "right": null,
            "top": null,
            "visibility": null,
            "width": "20px"
          }
        },
        "0dcc27dac0a34f0597bee867b7a0c1f7": {
          "model_module": "@jupyter-widgets/base",
          "model_module_version": "1.2.0",
          "model_name": "LayoutModel",
          "state": {
            "_model_module": "@jupyter-widgets/base",
            "_model_module_version": "1.2.0",
            "_model_name": "LayoutModel",
            "_view_count": null,
            "_view_module": "@jupyter-widgets/base",
            "_view_module_version": "1.2.0",
            "_view_name": "LayoutView",
            "align_content": null,
            "align_items": null,
            "align_self": null,
            "border": null,
            "bottom": null,
            "display": null,
            "flex": null,
            "flex_flow": null,
            "grid_area": null,
            "grid_auto_columns": null,
            "grid_auto_flow": null,
            "grid_auto_rows": null,
            "grid_column": null,
            "grid_gap": null,
            "grid_row": null,
            "grid_template_areas": null,
            "grid_template_columns": null,
            "grid_template_rows": null,
            "height": null,
            "justify_content": null,
            "justify_items": null,
            "left": null,
            "margin": null,
            "max_height": null,
            "max_width": null,
            "min_height": null,
            "min_width": null,
            "object_fit": null,
            "object_position": null,
            "order": null,
            "overflow": null,
            "overflow_x": null,
            "overflow_y": null,
            "padding": null,
            "right": null,
            "top": null,
            "visibility": null,
            "width": null
          }
        },
        "10dba06df8a0422e9863eb2991922816": {
          "model_module": "@jupyter-widgets/controls",
          "model_module_version": "1.5.0",
          "model_name": "DescriptionStyleModel",
          "state": {
            "_model_module": "@jupyter-widgets/controls",
            "_model_module_version": "1.5.0",
            "_model_name": "DescriptionStyleModel",
            "_view_count": null,
            "_view_module": "@jupyter-widgets/base",
            "_view_module_version": "1.2.0",
            "_view_name": "StyleView",
            "description_width": ""
          }
        },
        "234b6430d08d424a8d19153a0f74bc52": {
          "model_module": "@jupyter-widgets/controls",
          "model_module_version": "1.5.0",
          "model_name": "HBoxModel",
          "state": {
            "_dom_classes": [],
            "_model_module": "@jupyter-widgets/controls",
            "_model_module_version": "1.5.0",
            "_model_name": "HBoxModel",
            "_view_count": null,
            "_view_module": "@jupyter-widgets/controls",
            "_view_module_version": "1.5.0",
            "_view_name": "HBoxView",
            "box_style": "",
            "children": [
              "IPY_MODEL_f08de790d64a4e5f81705d4cbbf5968d",
              "IPY_MODEL_f453b86b909b40cb89d6636c7b7a5c9d",
              "IPY_MODEL_b4a30af0fbc144b48d295af549ba2d53"
            ],
            "layout": "IPY_MODEL_82e6aa18d2644f299625377308af5912"
          }
        },
        "2f88a69a0e1443ff9f91a4054d8e751b": {
          "model_module": "@jupyter-widgets/controls",
          "model_module_version": "1.5.0",
          "model_name": "DescriptionStyleModel",
          "state": {
            "_model_module": "@jupyter-widgets/controls",
            "_model_module_version": "1.5.0",
            "_model_name": "DescriptionStyleModel",
            "_view_count": null,
            "_view_module": "@jupyter-widgets/base",
            "_view_module_version": "1.2.0",
            "_view_name": "StyleView",
            "description_width": ""
          }
        },
        "383da807081440a4956ff80a7093a60c": {
          "model_module": "@jupyter-widgets/controls",
          "model_module_version": "1.5.0",
          "model_name": "ProgressStyleModel",
          "state": {
            "_model_module": "@jupyter-widgets/controls",
            "_model_module_version": "1.5.0",
            "_model_name": "ProgressStyleModel",
            "_view_count": null,
            "_view_module": "@jupyter-widgets/base",
            "_view_module_version": "1.2.0",
            "_view_name": "StyleView",
            "bar_color": null,
            "description_width": ""
          }
        },
        "409092d8468c4f82bc2b6cf2f0b48dd9": {
          "model_module": "@jupyter-widgets/controls",
          "model_module_version": "1.5.0",
          "model_name": "HTMLModel",
          "state": {
            "_dom_classes": [],
            "_model_module": "@jupyter-widgets/controls",
            "_model_module_version": "1.5.0",
            "_model_name": "HTMLModel",
            "_view_count": null,
            "_view_module": "@jupyter-widgets/controls",
            "_view_module_version": "1.5.0",
            "_view_name": "HTMLView",
            "description": "",
            "description_tooltip": null,
            "layout": "IPY_MODEL_a07f6ff6e9464b54aeda12df8232f6ac",
            "placeholder": "​",
            "style": "IPY_MODEL_e8f14835a2324e56bb5d4c862767c602",
            "value": " 0/0 [00:00&lt;?, ?it/s]"
          }
        },
        "4338622351e44f06bf6e47d700ffa41b": {
          "model_module": "@jupyter-widgets/base",
          "model_module_version": "1.2.0",
          "model_name": "LayoutModel",
          "state": {
            "_model_module": "@jupyter-widgets/base",
            "_model_module_version": "1.2.0",
            "_model_name": "LayoutModel",
            "_view_count": null,
            "_view_module": "@jupyter-widgets/base",
            "_view_module_version": "1.2.0",
            "_view_name": "LayoutView",
            "align_content": null,
            "align_items": null,
            "align_self": null,
            "border": null,
            "bottom": null,
            "display": null,
            "flex": null,
            "flex_flow": null,
            "grid_area": null,
            "grid_auto_columns": null,
            "grid_auto_flow": null,
            "grid_auto_rows": null,
            "grid_column": null,
            "grid_gap": null,
            "grid_row": null,
            "grid_template_areas": null,
            "grid_template_columns": null,
            "grid_template_rows": null,
            "height": null,
            "justify_content": null,
            "justify_items": null,
            "left": null,
            "margin": null,
            "max_height": null,
            "max_width": null,
            "min_height": null,
            "min_width": null,
            "object_fit": null,
            "object_position": null,
            "order": null,
            "overflow": null,
            "overflow_x": null,
            "overflow_y": null,
            "padding": null,
            "right": null,
            "top": null,
            "visibility": null,
            "width": null
          }
        },
        "4556db45bd464c189e5b771cb0773480": {
          "model_module": "@jupyter-widgets/base",
          "model_module_version": "1.2.0",
          "model_name": "LayoutModel",
          "state": {
            "_model_module": "@jupyter-widgets/base",
            "_model_module_version": "1.2.0",
            "_model_name": "LayoutModel",
            "_view_count": null,
            "_view_module": "@jupyter-widgets/base",
            "_view_module_version": "1.2.0",
            "_view_name": "LayoutView",
            "align_content": null,
            "align_items": null,
            "align_self": null,
            "border": null,
            "bottom": null,
            "display": null,
            "flex": null,
            "flex_flow": null,
            "grid_area": null,
            "grid_auto_columns": null,
            "grid_auto_flow": null,
            "grid_auto_rows": null,
            "grid_column": null,
            "grid_gap": null,
            "grid_row": null,
            "grid_template_areas": null,
            "grid_template_columns": null,
            "grid_template_rows": null,
            "height": null,
            "justify_content": null,
            "justify_items": null,
            "left": null,
            "margin": null,
            "max_height": null,
            "max_width": null,
            "min_height": null,
            "min_width": null,
            "object_fit": null,
            "object_position": null,
            "order": null,
            "overflow": null,
            "overflow_x": null,
            "overflow_y": null,
            "padding": null,
            "right": null,
            "top": null,
            "visibility": null,
            "width": null
          }
        },
        "527d87292efc4589b652841afbd4845c": {
          "model_module": "@jupyter-widgets/controls",
          "model_module_version": "1.5.0",
          "model_name": "HTMLModel",
          "state": {
            "_dom_classes": [],
            "_model_module": "@jupyter-widgets/controls",
            "_model_module_version": "1.5.0",
            "_model_name": "HTMLModel",
            "_view_count": null,
            "_view_module": "@jupyter-widgets/controls",
            "_view_module_version": "1.5.0",
            "_view_name": "HTMLView",
            "description": "",
            "description_tooltip": null,
            "layout": "IPY_MODEL_0dcc27dac0a34f0597bee867b7a0c1f7",
            "placeholder": "​",
            "style": "IPY_MODEL_2f88a69a0e1443ff9f91a4054d8e751b",
            "value": " 313/313 [09:12&lt;00:00,  1.49s/it]"
          }
        },
        "56dafa49175849e29a68782c43735b9e": {
          "model_module": "@jupyter-widgets/base",
          "model_module_version": "1.2.0",
          "model_name": "LayoutModel",
          "state": {
            "_model_module": "@jupyter-widgets/base",
            "_model_module_version": "1.2.0",
            "_model_name": "LayoutModel",
            "_view_count": null,
            "_view_module": "@jupyter-widgets/base",
            "_view_module_version": "1.2.0",
            "_view_name": "LayoutView",
            "align_content": null,
            "align_items": null,
            "align_self": null,
            "border": null,
            "bottom": null,
            "display": null,
            "flex": null,
            "flex_flow": null,
            "grid_area": null,
            "grid_auto_columns": null,
            "grid_auto_flow": null,
            "grid_auto_rows": null,
            "grid_column": null,
            "grid_gap": null,
            "grid_row": null,
            "grid_template_areas": null,
            "grid_template_columns": null,
            "grid_template_rows": null,
            "height": null,
            "justify_content": null,
            "justify_items": null,
            "left": null,
            "margin": null,
            "max_height": null,
            "max_width": null,
            "min_height": null,
            "min_width": null,
            "object_fit": null,
            "object_position": null,
            "order": null,
            "overflow": null,
            "overflow_x": null,
            "overflow_y": null,
            "padding": null,
            "right": null,
            "top": null,
            "visibility": null,
            "width": null
          }
        },
        "571b97905d8c49498a4f5bc6bcfcf573": {
          "model_module": "@jupyter-widgets/controls",
          "model_module_version": "1.5.0",
          "model_name": "ProgressStyleModel",
          "state": {
            "_model_module": "@jupyter-widgets/controls",
            "_model_module_version": "1.5.0",
            "_model_name": "ProgressStyleModel",
            "_view_count": null,
            "_view_module": "@jupyter-widgets/base",
            "_view_module_version": "1.2.0",
            "_view_name": "StyleView",
            "bar_color": null,
            "description_width": ""
          }
        },
        "82419e00d85542d4a40ba725ac938820": {
          "model_module": "@jupyter-widgets/controls",
          "model_module_version": "1.5.0",
          "model_name": "HTMLModel",
          "state": {
            "_dom_classes": [],
            "_model_module": "@jupyter-widgets/controls",
            "_model_module_version": "1.5.0",
            "_model_name": "HTMLModel",
            "_view_count": null,
            "_view_module": "@jupyter-widgets/controls",
            "_view_module_version": "1.5.0",
            "_view_name": "HTMLView",
            "description": "",
            "description_tooltip": null,
            "layout": "IPY_MODEL_4556db45bd464c189e5b771cb0773480",
            "placeholder": "​",
            "style": "IPY_MODEL_f91627aef80646c38455fe7b31ed9d40",
            "value": "100%"
          }
        },
        "82e6aa18d2644f299625377308af5912": {
          "model_module": "@jupyter-widgets/base",
          "model_module_version": "1.2.0",
          "model_name": "LayoutModel",
          "state": {
            "_model_module": "@jupyter-widgets/base",
            "_model_module_version": "1.2.0",
            "_model_name": "LayoutModel",
            "_view_count": null,
            "_view_module": "@jupyter-widgets/base",
            "_view_module_version": "1.2.0",
            "_view_name": "LayoutView",
            "align_content": null,
            "align_items": null,
            "align_self": null,
            "border": null,
            "bottom": null,
            "display": null,
            "flex": null,
            "flex_flow": null,
            "grid_area": null,
            "grid_auto_columns": null,
            "grid_auto_flow": null,
            "grid_auto_rows": null,
            "grid_column": null,
            "grid_gap": null,
            "grid_row": null,
            "grid_template_areas": null,
            "grid_template_columns": null,
            "grid_template_rows": null,
            "height": null,
            "justify_content": null,
            "justify_items": null,
            "left": null,
            "margin": null,
            "max_height": null,
            "max_width": null,
            "min_height": null,
            "min_width": null,
            "object_fit": null,
            "object_position": null,
            "order": null,
            "overflow": null,
            "overflow_x": null,
            "overflow_y": null,
            "padding": null,
            "right": null,
            "top": null,
            "visibility": null,
            "width": null
          }
        },
        "872351e5e09f4a2b9f1c23b1316b6a36": {
          "model_module": "@jupyter-widgets/controls",
          "model_module_version": "1.5.0",
          "model_name": "HBoxModel",
          "state": {
            "_dom_classes": [],
            "_model_module": "@jupyter-widgets/controls",
            "_model_module_version": "1.5.0",
            "_model_name": "HBoxModel",
            "_view_count": null,
            "_view_module": "@jupyter-widgets/controls",
            "_view_module_version": "1.5.0",
            "_view_name": "HBoxView",
            "box_style": "",
            "children": [
              "IPY_MODEL_f9194e661d484dc6ba249100ad7792da",
              "IPY_MODEL_b25799ff3cb94fada82e7a64b708a377",
              "IPY_MODEL_409092d8468c4f82bc2b6cf2f0b48dd9"
            ],
            "layout": "IPY_MODEL_0398823b05ac46b3bb0d5918698e92aa"
          }
        },
        "8e6f046688664ea2a8b4ad91067cb0a4": {
          "model_module": "@jupyter-widgets/base",
          "model_module_version": "1.2.0",
          "model_name": "LayoutModel",
          "state": {
            "_model_module": "@jupyter-widgets/base",
            "_model_module_version": "1.2.0",
            "_model_name": "LayoutModel",
            "_view_count": null,
            "_view_module": "@jupyter-widgets/base",
            "_view_module_version": "1.2.0",
            "_view_name": "LayoutView",
            "align_content": null,
            "align_items": null,
            "align_self": null,
            "border": null,
            "bottom": null,
            "display": null,
            "flex": null,
            "flex_flow": null,
            "grid_area": null,
            "grid_auto_columns": null,
            "grid_auto_flow": null,
            "grid_auto_rows": null,
            "grid_column": null,
            "grid_gap": null,
            "grid_row": null,
            "grid_template_areas": null,
            "grid_template_columns": null,
            "grid_template_rows": null,
            "height": null,
            "justify_content": null,
            "justify_items": null,
            "left": null,
            "margin": null,
            "max_height": null,
            "max_width": null,
            "min_height": null,
            "min_width": null,
            "object_fit": null,
            "object_position": null,
            "order": null,
            "overflow": null,
            "overflow_x": null,
            "overflow_y": null,
            "padding": null,
            "right": null,
            "top": null,
            "visibility": null,
            "width": null
          }
        },
        "9283fd1259da4411b22315e66f0fde4b": {
          "model_module": "@jupyter-widgets/controls",
          "model_module_version": "1.5.0",
          "model_name": "HBoxModel",
          "state": {
            "_dom_classes": [],
            "_model_module": "@jupyter-widgets/controls",
            "_model_module_version": "1.5.0",
            "_model_name": "HBoxModel",
            "_view_count": null,
            "_view_module": "@jupyter-widgets/controls",
            "_view_module_version": "1.5.0",
            "_view_name": "HBoxView",
            "box_style": "",
            "children": [
              "IPY_MODEL_82419e00d85542d4a40ba725ac938820",
              "IPY_MODEL_e141a30db58d4fedb680cfdbb6156fe9",
              "IPY_MODEL_527d87292efc4589b652841afbd4845c"
            ],
            "layout": "IPY_MODEL_8e6f046688664ea2a8b4ad91067cb0a4"
          }
        },
        "972f7c08489b46b6bf74bd4bcf0ecaa9": {
          "model_module": "@jupyter-widgets/controls",
          "model_module_version": "1.5.0",
          "model_name": "ProgressStyleModel",
          "state": {
            "_model_module": "@jupyter-widgets/controls",
            "_model_module_version": "1.5.0",
            "_model_name": "ProgressStyleModel",
            "_view_count": null,
            "_view_module": "@jupyter-widgets/base",
            "_view_module_version": "1.2.0",
            "_view_name": "StyleView",
            "bar_color": null,
            "description_width": ""
          }
        },
        "a07f6ff6e9464b54aeda12df8232f6ac": {
          "model_module": "@jupyter-widgets/base",
          "model_module_version": "1.2.0",
          "model_name": "LayoutModel",
          "state": {
            "_model_module": "@jupyter-widgets/base",
            "_model_module_version": "1.2.0",
            "_model_name": "LayoutModel",
            "_view_count": null,
            "_view_module": "@jupyter-widgets/base",
            "_view_module_version": "1.2.0",
            "_view_name": "LayoutView",
            "align_content": null,
            "align_items": null,
            "align_self": null,
            "border": null,
            "bottom": null,
            "display": null,
            "flex": null,
            "flex_flow": null,
            "grid_area": null,
            "grid_auto_columns": null,
            "grid_auto_flow": null,
            "grid_auto_rows": null,
            "grid_column": null,
            "grid_gap": null,
            "grid_row": null,
            "grid_template_areas": null,
            "grid_template_columns": null,
            "grid_template_rows": null,
            "height": null,
            "justify_content": null,
            "justify_items": null,
            "left": null,
            "margin": null,
            "max_height": null,
            "max_width": null,
            "min_height": null,
            "min_width": null,
            "object_fit": null,
            "object_position": null,
            "order": null,
            "overflow": null,
            "overflow_x": null,
            "overflow_y": null,
            "padding": null,
            "right": null,
            "top": null,
            "visibility": null,
            "width": null
          }
        },
        "a186c7e967744c4d8d48778c36cdc08d": {
          "model_module": "@jupyter-widgets/controls",
          "model_module_version": "1.5.0",
          "model_name": "DescriptionStyleModel",
          "state": {
            "_model_module": "@jupyter-widgets/controls",
            "_model_module_version": "1.5.0",
            "_model_name": "DescriptionStyleModel",
            "_view_count": null,
            "_view_module": "@jupyter-widgets/base",
            "_view_module_version": "1.2.0",
            "_view_name": "StyleView",
            "description_width": ""
          }
        },
        "a36059ff9de34279b633d26231da05de": {
          "model_module": "@jupyter-widgets/base",
          "model_module_version": "1.2.0",
          "model_name": "LayoutModel",
          "state": {
            "_model_module": "@jupyter-widgets/base",
            "_model_module_version": "1.2.0",
            "_model_name": "LayoutModel",
            "_view_count": null,
            "_view_module": "@jupyter-widgets/base",
            "_view_module_version": "1.2.0",
            "_view_name": "LayoutView",
            "align_content": null,
            "align_items": null,
            "align_self": null,
            "border": null,
            "bottom": null,
            "display": null,
            "flex": null,
            "flex_flow": null,
            "grid_area": null,
            "grid_auto_columns": null,
            "grid_auto_flow": null,
            "grid_auto_rows": null,
            "grid_column": null,
            "grid_gap": null,
            "grid_row": null,
            "grid_template_areas": null,
            "grid_template_columns": null,
            "grid_template_rows": null,
            "height": null,
            "justify_content": null,
            "justify_items": null,
            "left": null,
            "margin": null,
            "max_height": null,
            "max_width": null,
            "min_height": null,
            "min_width": null,
            "object_fit": null,
            "object_position": null,
            "order": null,
            "overflow": null,
            "overflow_x": null,
            "overflow_y": null,
            "padding": null,
            "right": null,
            "top": null,
            "visibility": null,
            "width": null
          }
        },
        "ab5b4aa08da64a5ea08cb3ab407a1b88": {
          "model_module": "@jupyter-widgets/base",
          "model_module_version": "1.2.0",
          "model_name": "LayoutModel",
          "state": {
            "_model_module": "@jupyter-widgets/base",
            "_model_module_version": "1.2.0",
            "_model_name": "LayoutModel",
            "_view_count": null,
            "_view_module": "@jupyter-widgets/base",
            "_view_module_version": "1.2.0",
            "_view_name": "LayoutView",
            "align_content": null,
            "align_items": null,
            "align_self": null,
            "border": null,
            "bottom": null,
            "display": null,
            "flex": null,
            "flex_flow": null,
            "grid_area": null,
            "grid_auto_columns": null,
            "grid_auto_flow": null,
            "grid_auto_rows": null,
            "grid_column": null,
            "grid_gap": null,
            "grid_row": null,
            "grid_template_areas": null,
            "grid_template_columns": null,
            "grid_template_rows": null,
            "height": null,
            "justify_content": null,
            "justify_items": null,
            "left": null,
            "margin": null,
            "max_height": null,
            "max_width": null,
            "min_height": null,
            "min_width": null,
            "object_fit": null,
            "object_position": null,
            "order": null,
            "overflow": null,
            "overflow_x": null,
            "overflow_y": null,
            "padding": null,
            "right": null,
            "top": null,
            "visibility": null,
            "width": null
          }
        },
        "b25799ff3cb94fada82e7a64b708a377": {
          "model_module": "@jupyter-widgets/controls",
          "model_module_version": "1.5.0",
          "model_name": "FloatProgressModel",
          "state": {
            "_dom_classes": [],
            "_model_module": "@jupyter-widgets/controls",
            "_model_module_version": "1.5.0",
            "_model_name": "FloatProgressModel",
            "_view_count": null,
            "_view_module": "@jupyter-widgets/controls",
            "_view_module_version": "1.5.0",
            "_view_name": "ProgressView",
            "bar_style": "success",
            "description": "",
            "description_tooltip": null,
            "layout": "IPY_MODEL_0806e30586ef45e1b5c6de273d4b820e",
            "max": 1,
            "min": 0,
            "orientation": "horizontal",
            "style": "IPY_MODEL_972f7c08489b46b6bf74bd4bcf0ecaa9",
            "value": 0
          }
        },
        "b4a30af0fbc144b48d295af549ba2d53": {
          "model_module": "@jupyter-widgets/controls",
          "model_module_version": "1.5.0",
          "model_name": "HTMLModel",
          "state": {
            "_dom_classes": [],
            "_model_module": "@jupyter-widgets/controls",
            "_model_module_version": "1.5.0",
            "_model_name": "HTMLModel",
            "_view_count": null,
            "_view_module": "@jupyter-widgets/controls",
            "_view_module_version": "1.5.0",
            "_view_name": "HTMLView",
            "description": "",
            "description_tooltip": null,
            "layout": "IPY_MODEL_4338622351e44f06bf6e47d700ffa41b",
            "placeholder": "​",
            "style": "IPY_MODEL_10dba06df8a0422e9863eb2991922816",
            "value": " 443M/443M [00:29&lt;00:00, 13.3MB/s]"
          }
        },
        "e141a30db58d4fedb680cfdbb6156fe9": {
          "model_module": "@jupyter-widgets/controls",
          "model_module_version": "1.5.0",
          "model_name": "FloatProgressModel",
          "state": {
            "_dom_classes": [],
            "_model_module": "@jupyter-widgets/controls",
            "_model_module_version": "1.5.0",
            "_model_name": "FloatProgressModel",
            "_view_count": null,
            "_view_module": "@jupyter-widgets/controls",
            "_view_module_version": "1.5.0",
            "_view_name": "ProgressView",
            "bar_style": "success",
            "description": "",
            "description_tooltip": null,
            "layout": "IPY_MODEL_56dafa49175849e29a68782c43735b9e",
            "max": 313,
            "min": 0,
            "orientation": "horizontal",
            "style": "IPY_MODEL_571b97905d8c49498a4f5bc6bcfcf573",
            "value": 313
          }
        },
        "e8f14835a2324e56bb5d4c862767c602": {
          "model_module": "@jupyter-widgets/controls",
          "model_module_version": "1.5.0",
          "model_name": "DescriptionStyleModel",
          "state": {
            "_model_module": "@jupyter-widgets/controls",
            "_model_module_version": "1.5.0",
            "_model_name": "DescriptionStyleModel",
            "_view_count": null,
            "_view_module": "@jupyter-widgets/base",
            "_view_module_version": "1.2.0",
            "_view_name": "StyleView",
            "description_width": ""
          }
        },
        "ea8d8ce27d7746d9bb928fa87dd67610": {
          "model_module": "@jupyter-widgets/base",
          "model_module_version": "1.2.0",
          "model_name": "LayoutModel",
          "state": {
            "_model_module": "@jupyter-widgets/base",
            "_model_module_version": "1.2.0",
            "_model_name": "LayoutModel",
            "_view_count": null,
            "_view_module": "@jupyter-widgets/base",
            "_view_module_version": "1.2.0",
            "_view_name": "LayoutView",
            "align_content": null,
            "align_items": null,
            "align_self": null,
            "border": null,
            "bottom": null,
            "display": null,
            "flex": null,
            "flex_flow": null,
            "grid_area": null,
            "grid_auto_columns": null,
            "grid_auto_flow": null,
            "grid_auto_rows": null,
            "grid_column": null,
            "grid_gap": null,
            "grid_row": null,
            "grid_template_areas": null,
            "grid_template_columns": null,
            "grid_template_rows": null,
            "height": null,
            "justify_content": null,
            "justify_items": null,
            "left": null,
            "margin": null,
            "max_height": null,
            "max_width": null,
            "min_height": null,
            "min_width": null,
            "object_fit": null,
            "object_position": null,
            "order": null,
            "overflow": null,
            "overflow_x": null,
            "overflow_y": null,
            "padding": null,
            "right": null,
            "top": null,
            "visibility": null,
            "width": null
          }
        },
        "f08de790d64a4e5f81705d4cbbf5968d": {
          "model_module": "@jupyter-widgets/controls",
          "model_module_version": "1.5.0",
          "model_name": "HTMLModel",
          "state": {
            "_dom_classes": [],
            "_model_module": "@jupyter-widgets/controls",
            "_model_module_version": "1.5.0",
            "_model_name": "HTMLModel",
            "_view_count": null,
            "_view_module": "@jupyter-widgets/controls",
            "_view_module_version": "1.5.0",
            "_view_name": "HTMLView",
            "description": "",
            "description_tooltip": null,
            "layout": "IPY_MODEL_ab5b4aa08da64a5ea08cb3ab407a1b88",
            "placeholder": "​",
            "style": "IPY_MODEL_f7ef382b17294e9a890118bcc55cc879",
            "value": "Downloading: 100%"
          }
        },
        "f453b86b909b40cb89d6636c7b7a5c9d": {
          "model_module": "@jupyter-widgets/controls",
          "model_module_version": "1.5.0",
          "model_name": "FloatProgressModel",
          "state": {
            "_dom_classes": [],
            "_model_module": "@jupyter-widgets/controls",
            "_model_module_version": "1.5.0",
            "_model_name": "FloatProgressModel",
            "_view_count": null,
            "_view_module": "@jupyter-widgets/controls",
            "_view_module_version": "1.5.0",
            "_view_name": "ProgressView",
            "bar_style": "success",
            "description": "",
            "description_tooltip": null,
            "layout": "IPY_MODEL_ea8d8ce27d7746d9bb928fa87dd67610",
            "max": 442791751,
            "min": 0,
            "orientation": "horizontal",
            "style": "IPY_MODEL_383da807081440a4956ff80a7093a60c",
            "value": 442791751
          }
        },
        "f7ef382b17294e9a890118bcc55cc879": {
          "model_module": "@jupyter-widgets/controls",
          "model_module_version": "1.5.0",
          "model_name": "DescriptionStyleModel",
          "state": {
            "_model_module": "@jupyter-widgets/controls",
            "_model_module_version": "1.5.0",
            "_model_name": "DescriptionStyleModel",
            "_view_count": null,
            "_view_module": "@jupyter-widgets/base",
            "_view_module_version": "1.2.0",
            "_view_name": "StyleView",
            "description_width": ""
          }
        },
        "f91627aef80646c38455fe7b31ed9d40": {
          "model_module": "@jupyter-widgets/controls",
          "model_module_version": "1.5.0",
          "model_name": "DescriptionStyleModel",
          "state": {
            "_model_module": "@jupyter-widgets/controls",
            "_model_module_version": "1.5.0",
            "_model_name": "DescriptionStyleModel",
            "_view_count": null,
            "_view_module": "@jupyter-widgets/base",
            "_view_module_version": "1.2.0",
            "_view_name": "StyleView",
            "description_width": ""
          }
        },
        "f9194e661d484dc6ba249100ad7792da": {
          "model_module": "@jupyter-widgets/controls",
          "model_module_version": "1.5.0",
          "model_name": "HTMLModel",
          "state": {
            "_dom_classes": [],
            "_model_module": "@jupyter-widgets/controls",
            "_model_module_version": "1.5.0",
            "_model_name": "HTMLModel",
            "_view_count": null,
            "_view_module": "@jupyter-widgets/controls",
            "_view_module_version": "1.5.0",
            "_view_name": "HTMLView",
            "description": "",
            "description_tooltip": null,
            "layout": "IPY_MODEL_a36059ff9de34279b633d26231da05de",
            "placeholder": "​",
            "style": "IPY_MODEL_a186c7e967744c4d8d48778c36cdc08d",
            "value": ""
          }
        }
      }
    }
  },
  "nbformat": 4,
  "nbformat_minor": 0
}
